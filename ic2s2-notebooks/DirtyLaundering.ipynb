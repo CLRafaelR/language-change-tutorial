{
 "cells": [
  {
   "cell_type": "markdown",
   "metadata": {
    "slideshow": {
     "slide_type": "slide"
    }
   },
   "source": [
    "# Dynamic Word Embeddings\n",
    "\n",
    "- by Jacob Eisenstein, May 2019\n",
    "- modified by Sandeep Soni and Ian Stewart, June 2019\n",
    "\n",
    "The previous notebook tracked how words were used by different groups over time. \n",
    "Now we'll explore how words change meaning over time, using dynamic word embeddings. The specific goals are:\n",
    "\n",
    "- Identify near-neighbors of words at various periods in time.\n",
    "- Align word embeddings over time by solving an orthogonal Procrustes problem.\n",
    "- Rank words by semantic change from 1900 to 1990, using \"first-order\" (embedding-based) and \"second-order\" (neighbor-based) techniques."
   ]
  },
  {
   "cell_type": "markdown",
   "metadata": {
    "slideshow": {
     "slide_type": "subslide"
    }
   },
   "source": [
    "## Data acquisition\n",
    "\n",
    "Because training dynamic word embeddings is time-consuming, we'll use pretrained embeddings from [Hamilton et al](https://github.com/williamleif/histwords). As before, these embeddings are available in the [bitbucket repository](https://bitbucket.org/jacobeisenstein/language-change-tutorial-data/src/master/embeddings-over-time.tgz). \n",
    "\n",
    "1. If you have not already cloned it, please run:\n",
    "\n",
    "```\n",
    "git clone https://bitbucket.org/jacobeisenstein/language-change-tutorial-data.git\n",
    "\n",
    "```\n",
    "2. Then link or move the directory into `../data`,\n",
    "```\n",
    "cd data; ln -s ../language-change-tutorial-data/embeddings-over-time\n",
    "```\n"
   ]
  },
  {
   "cell_type": "code",
   "execution_count": 1,
   "metadata": {
    "slideshow": {
     "slide_type": "skip"
    }
   },
   "outputs": [],
   "source": [
    "import os\n",
    "from glob import glob\n",
    "import pickle\n",
    "\n",
    "import numpy as np\n",
    "import pandas as pd\n",
    "from functools import reduce\n",
    "import matplotlib.pyplot as plt\n",
    "%matplotlib inline\n",
    "\n",
    "import seaborn as sns\n",
    "from tqdm import tqdm_notebook as tqdm # convenient progressbar"
   ]
  },
  {
   "cell_type": "markdown",
   "metadata": {
    "slideshow": {
     "slide_type": "subslide"
    }
   },
   "source": [
    "## Data loading"
   ]
  },
  {
   "cell_type": "code",
   "execution_count": 2,
   "metadata": {
    "slideshow": {
     "slide_type": "fragment"
    }
   },
   "outputs": [
    {
     "name": "stdout",
     "output_type": "stream",
     "text": [
      "[1800, 1850, 1900, 1950, 1990]\n"
     ]
    }
   ],
   "source": [
    "base_dir = os.path.join('..','data','embeddings-over-time') # make sure you expand the tar file in ../data\n",
    "vocs = pickle.load(open(os.path.join(base_dir,'embeddings-over-time-vocabs.pkl'),'rb'))\n",
    "years = list(vocs.keys())\n",
    "print(years)\n",
    "vecs = dict()\n",
    "vec_arrays = np.load(os.path.join(base_dir,'embeddings-over-time.npz'))\n",
    "for vec,year in zip(vec_arrays.values(),years):\n",
    "    vecs[year] = vec"
   ]
  },
  {
   "cell_type": "markdown",
   "metadata": {
    "slideshow": {
     "slide_type": "subslide"
    }
   },
   "source": [
    "Inspection"
   ]
  },
  {
   "cell_type": "code",
   "execution_count": 3,
   "metadata": {
    "slideshow": {
     "slide_type": "fragment"
    }
   },
   "outputs": [
    {
     "data": {
      "text/plain": [
       "array([1., 1., 1., ..., 1., 1., 1.])"
      ]
     },
     "execution_count": 3,
     "metadata": {},
     "output_type": "execute_result"
    }
   ],
   "source": [
    "(vecs[1900]**2).sum(1)"
   ]
  },
  {
   "cell_type": "markdown",
   "metadata": {
    "slideshow": {
     "slide_type": "fragment"
    }
   },
   "source": [
    "Vectors are initialized to have a Euclidean norm of $1$. There are 10,000 words per year, listed in `vocs[year]`."
   ]
  },
  {
   "cell_type": "markdown",
   "metadata": {
    "slideshow": {
     "slide_type": "slide"
    }
   },
   "source": [
    "# Near neighbors\n",
    "\n",
    "Let's start by computing some near neighbors. In general, this is done by computing cosine similarity between word vectors,\n",
    "\\begin{equation}\n",
    "s(\\vec{x},\\vec{y}) = \\frac{\\vec{x} \\cdot \\vec{y}}{||\\vec{x}|| \\times || \\vec{y} ||}.\n",
    "\\end{equation}\n",
    "\n",
    "However, because these embeddings have a guaranteed norm of 1, the denominator can be ignored, so we need only consider the dot product."
   ]
  },
  {
   "cell_type": "code",
   "execution_count": 4,
   "metadata": {
    "slideshow": {
     "slide_type": "skip"
    }
   },
   "outputs": [],
   "source": [
    "def neighbors(query : str,\n",
    "              embs: np.ndarray,\n",
    "              vocab: list,\n",
    "              K : int = 3) -> list:\n",
    "    sims = np.dot(embs[vocab.index(query),],embs.T)\n",
    "    output = []\n",
    "    for sim_idx in sims.argsort()[::-1][1:(1+K)]:\n",
    "        if sims[sim_idx] > 0:\n",
    "            output.append(vocab[sim_idx])\n",
    "    return output"
   ]
  },
  {
   "cell_type": "code",
   "execution_count": 5,
   "metadata": {
    "slideshow": {
     "slide_type": "skip"
    }
   },
   "outputs": [],
   "source": [
    "# a convenience function to compute the nearest neighbors per year\n",
    "def neighbors_per_year(query: str, K=5) -> dict:\n",
    "    nns = dict()\n",
    "    for year, embs in vecs.items():\n",
    "        nns[year] = neighbors(query, embs, vocs[year], K=K)\n",
    "    return nns"
   ]
  },
  {
   "cell_type": "markdown",
   "metadata": {
    "slideshow": {
     "slide_type": "subslide"
    }
   },
   "source": [
    "## Examples"
   ]
  },
  {
   "cell_type": "code",
   "execution_count": 6,
   "metadata": {
    "slideshow": {
     "slide_type": "fragment"
    }
   },
   "outputs": [
    {
     "name": "stdout",
     "output_type": "stream",
     "text": [
      "1800 ['torments', 'heaven', 'damnation', 'pit', 'abyss']\n",
      "1850 ['heaven', 'devils', 'eternity', 'damned', 'pit']\n",
      "1900 ['heaven', 'devils', 'devil', 'satan', 'damned']\n",
      "1950 ['heaven', 'damned', 'devil', 'damn', 'anyway']\n",
      "1990 ['going', 'gonna', 'damn', 'heaven', 'shit']\n"
     ]
    }
   ],
   "source": [
    "for year, nn_list in neighbors_per_year('hell').items():\n",
    "    print(year, nn_list)"
   ]
  },
  {
   "cell_type": "code",
   "execution_count": 7,
   "metadata": {
    "slideshow": {
     "slide_type": "fragment"
    }
   },
   "outputs": [
    {
     "name": "stdout",
     "output_type": "stream",
     "text": [
      "1800 ['sprightly', 'gaiety', 'witty', 'banquet', 'airs']\n",
      "1850 ['gorgeous', 'cheerful', 'brilliant', 'beautiful', 'fantastic']\n",
      "1900 ['brilliant', 'merry', 'cheerful', 'charming', 'graceful']\n",
      "1950 ['cheerful', 'bright', 'charming', 'sweet', 'pleasant']\n",
      "1990 ['lesbian', 'lesbians', 'homosexual', 'women', 'hispanic']\n"
     ]
    }
   ],
   "source": [
    "for year, nn_list in neighbors_per_year('gay').items():\n",
    "    print(year, nn_list)"
   ]
  },
  {
   "cell_type": "code",
   "execution_count": 8,
   "metadata": {
    "slideshow": {
     "slide_type": "fragment"
    }
   },
   "outputs": [
    {
     "name": "stdout",
     "output_type": "stream",
     "text": [
      "1800 ['enmity', 'coincide', 'essentially', 'contradictory', 'inconsistent']\n",
      "1850 ['inconsistent', 'accordance', 'repugnant', 'incompatible', 'tenor']\n",
      "1900 ['inconsistent', 'contradiction', 'contradictory', 'incompatible', 'contrary']\n",
      "1950 ['sampling', 'deviation', 'deviations', 'squares', 'parameter']\n",
      "1990 ['deviation', 'variation', 'regression', 'mean', 'statistic']\n"
     ]
    }
   ],
   "source": [
    "for year, nn_list in neighbors_per_year('variance').items():\n",
    "    print(year, nn_list)"
   ]
  },
  {
   "cell_type": "markdown",
   "metadata": {
    "slideshow": {
     "slide_type": "subslide"
    }
   },
   "source": [
    "### Exercise \n",
    "\n",
    "Try to find an example with as many similar neighbors as possible in 1800 and 1990; try to find another example as few similar neighbors as possible."
   ]
  },
  {
   "cell_type": "markdown",
   "metadata": {
    "slideshow": {
     "slide_type": "skip"
    }
   },
   "source": [
    "# Linking embedding over time\n",
    "\n",
    "The first task is simple to align words across vocabularies. We will do this by building a sparse permutation matrix."
   ]
  },
  {
   "cell_type": "code",
   "execution_count": 9,
   "metadata": {
    "slideshow": {
     "slide_type": "skip"
    }
   },
   "outputs": [],
   "source": [
    "import scipy.sparse as sparse"
   ]
  },
  {
   "cell_type": "code",
   "execution_count": 10,
   "metadata": {
    "slideshow": {
     "slide_type": "skip"
    }
   },
   "outputs": [],
   "source": [
    "def build_alignment(year1 : int, year2 : int) -> sparse.csr_matrix:\n",
    "    # given two years (keys into vecs and vocs)\n",
    "    # compute a sparse matrix M representing the permutation of word indices from the year1 vecs to the year2 vecs  \n",
    "    # then the rows of v1 will be aligned with the rows of M v2 \n",
    "    \n",
    "    all_var1 = vecs[year1].var(1)\n",
    "    all_var2 = vecs[year2].var(1)\n",
    "\n",
    "    rows = []\n",
    "    cols = []\n",
    "\n",
    "    ivoc2 = {j:i for i,j in enumerate(vocs[year2])}\n",
    "\n",
    "    for widx1,word in enumerate(vocs[year1]):\n",
    "        if all_var1[widx1] != 0 and word in vocs[year2]:\n",
    "            widx2 = ivoc2[word]\n",
    "            if all_var2[widx2] != 0:\n",
    "                rows.append(widx1)\n",
    "                cols.append(widx2)\n",
    "\n",
    "    align = sparse.csr_matrix(([1]*len(rows),(rows,cols)),shape=[len(vocs[year1]),len(vocs[year2])])\n",
    "    return align"
   ]
  },
  {
   "cell_type": "code",
   "execution_count": 11,
   "metadata": {
    "slideshow": {
     "slide_type": "skip"
    }
   },
   "outputs": [],
   "source": [
    "# for the rest of the notebook, we'll focus on the contrast between 1900 and 1990\n",
    "year1 = 1900\n",
    "year2 = 1990"
   ]
  },
  {
   "cell_type": "code",
   "execution_count": 12,
   "metadata": {
    "slideshow": {
     "slide_type": "skip"
    }
   },
   "outputs": [],
   "source": [
    "align = build_alignment(year2, year1)"
   ]
  },
  {
   "cell_type": "code",
   "execution_count": 13,
   "metadata": {
    "slideshow": {
     "slide_type": "skip"
    }
   },
   "outputs": [
    {
     "data": {
      "text/plain": [
       "<10000x10000 sparse matrix of type '<class 'numpy.int64'>'\n",
       "\twith 7652 stored elements in Compressed Sparse Row format>"
      ]
     },
     "execution_count": 13,
     "metadata": {},
     "output_type": "execute_result"
    }
   ],
   "source": [
    "align"
   ]
  },
  {
   "cell_type": "code",
   "execution_count": 14,
   "metadata": {
    "slideshow": {
     "slide_type": "skip"
    }
   },
   "outputs": [],
   "source": [
    "vecs_aligned = align.dot(vecs[year1])"
   ]
  },
  {
   "cell_type": "markdown",
   "metadata": {
    "slideshow": {
     "slide_type": "skip"
    }
   },
   "source": [
    "To validate, let's check that words in `vecs_aligned` have roughly the same near-neighbors as in `vecs[year2]`."
   ]
  },
  {
   "cell_type": "code",
   "execution_count": 15,
   "metadata": {
    "slideshow": {
     "slide_type": "skip"
    }
   },
   "outputs": [
    {
     "name": "stdout",
     "output_type": "stream",
     "text": [
      "coffee\n",
      "1900 ['tea', 'tobacco', 'sugar', 'beer', 'rice', 'cheese', 'butter']\n",
      "1990 ['tea', 'cup', 'beer', 'drinks', 'drink', 'wine', 'breakfast'] \n",
      "\n",
      "gay\n",
      "1900 ['brilliant', 'merry', 'pleasant', 'bright', 'lively', 'green', 'happy']\n",
      "1990 ['lesbian', 'lesbians', 'homosexual', 'women', 'hispanic', 'couples', 'men'] \n",
      "\n",
      "variance\n",
      "1900 ['inconsistent', 'contradiction', 'contradictory', 'incompatible', 'contrary', 'opinions', 'accord']\n",
      "1990 ['deviation', 'variation', 'regression', 'mean', 'statistic', 'estimate', 'deviations'] \n",
      "\n",
      "peer\n",
      "1900 ['peers', 'lords', 'realm', 'son', 'widow', 'earl', 'gentleman']\n",
      "1990 ['peers', 'socialization', 'interpersonal', 'classroom', 'adolescents', 'adolescent', 'competence'] \n",
      "\n",
      "compute\n",
      "1900 []\n",
      "1990 ['calculate', 'estimate', 'computation', 'calculating', 'calculation', 'determine', 'estimating'] \n",
      "\n"
     ]
    }
   ],
   "source": [
    "for query in ['coffee','gay','variance','peer','compute']:\n",
    "    print(query)\n",
    "    print(year1, neighbors(query, vecs_aligned, vocs[year2], K=7))\n",
    "    print(year2, neighbors(query, vecs[year2], vocs[year2], K=7),'\\n')"
   ]
  },
  {
   "cell_type": "markdown",
   "metadata": {
    "slideshow": {
     "slide_type": "skip"
    }
   },
   "source": [
    "Looks good! The neighbors list for \"compute\" in 1900 is empty, because the \"compute\" is not among the top 10000 words in that dataset.\n",
    "\n",
    "Remember that our goal is to find words whose meanings have changed between `year1` and `year2`. Be careful: we cannot directly compare `vecs[year1]` to `vecs[year2]` because the word embeddings are not aligned. To solve this, we will search for the best orthogonal projection."
   ]
  },
  {
   "cell_type": "markdown",
   "metadata": {
    "slideshow": {
     "slide_type": "skip"
    }
   },
   "source": [
    "## Procrustes\n",
    "\n",
    "$\\newcommand{\\transpose}[1]{#1^{\\top}}$\n",
    "\n",
    "The orthogonal Procrustes problem for matrices $A$ and $B$ is to find an orthogonal projection matrix $\\Omega$ that minimizes the norm of the difference between $\\Omega A$ and $B$:\n",
    "\n",
    "\\begin{equation}\n",
    "\\min_{\\Omega} ||\\Omega A - B ||_F,\n",
    "\\end{equation}\n",
    "s.t. $\\transpose{\\Omega} \\Omega = \\mathbb{I}$, where $A, B \\in \\mathbb{R}^{K \\times V}$ are matrices of $K$-dimensional embeddings, and $\\Omega$ is therefore an orthonormal $K \\times K$ projection matrix. The norm $||M||_F = \\left(\\sum_i \\sum_j m_{i,j}^2\\right)^{1/2}$. \n",
    "\n",
    "The solution to the orthogonal Procrustes problem is obtained by performing singular value decomposition on the product,\n",
    "\n",
    "\\begin{align}\n",
    "U \\Sigma \\transpose{V} = &{} \\text{SVD}(B\\transpose{A})\\\\\n",
    "\\Omega = &{} U \\transpose{V}.\n",
    "\\end{align}\n"
   ]
  },
  {
   "cell_type": "markdown",
   "metadata": {
    "slideshow": {
     "slide_type": "subslide"
    }
   },
   "source": [
    "## Procrustes"
   ]
  },
  {
   "cell_type": "code",
   "execution_count": 16,
   "metadata": {
    "slideshow": {
     "slide_type": "fragment"
    }
   },
   "outputs": [],
   "source": [
    "def procrustes(A, B):\n",
    "    U, _, Vt = np.linalg.svd(B.dot(A.T))\n",
    "    return U.dot(Vt)"
   ]
  },
  {
   "cell_type": "markdown",
   "metadata": {
    "slideshow": {
     "slide_type": "subslide"
    }
   },
   "source": [
    "### Synthetic data"
   ]
  },
  {
   "cell_type": "code",
   "execution_count": 17,
   "metadata": {
    "slideshow": {
     "slide_type": "fragment"
    }
   },
   "outputs": [
    {
     "name": "stdout",
     "output_type": "stream",
     "text": [
      "Norm without projection:\t316.589\n",
      "Norm with projection:\t30.927\n"
     ]
    }
   ],
   "source": [
    "# randomly generate an orthogonal projection\n",
    "P1,_,_ = np.linalg.svd(np.random.randn(100,30))\n",
    "A = np.random.randn(100,1000)\n",
    "B = P1.dot(A) + 0.1 * np.random.randn(100,1000)\n",
    "\n",
    "print(f'Norm without projection:\\t{np.linalg.norm(B - A):0.3f}')\n",
    "print(f'Norm with projection:\\t{np.linalg.norm(B - procrustes(A,B).dot(A)):0.3f}')"
   ]
  },
  {
   "cell_type": "code",
   "execution_count": 18,
   "metadata": {
    "slideshow": {
     "slide_type": "subslide"
    }
   },
   "outputs": [
    {
     "data": {
      "image/png": "[encoded data removed]",
      "text/plain": [
       "<Figure size 576x216 with 2 Axes>"
      ]
     },
     "metadata": {
      "needs_background": "light"
     },
     "output_type": "display_data"
    }
   ],
   "source": [
    "fig, (ax1,ax2) = plt.subplots(1,2,figsize=[8,3])\n",
    "ax1.scatter(A[:,45],B[:,45])\n",
    "ax1.set_title(\"Without projection\")\n",
    "ax2.scatter(procrustes(A,B).dot(A[:,45]),B[:,45]);\n",
    "ax2.set_title('With projection');"
   ]
  },
  {
   "cell_type": "markdown",
   "metadata": {
    "slideshow": {
     "slide_type": "fragment"
    }
   },
   "source": [
    "**Exercise**: evaluate the projection quality while varying the amount of noise in $B$."
   ]
  },
  {
   "cell_type": "markdown",
   "metadata": {
    "slideshow": {
     "slide_type": "subslide"
    }
   },
   "source": [
    "## Application to word vectors\n",
    "\n",
    "Let $A \\in \\mathbb{R}^{K \\times V}$ be the matrix of aligned word vectors, with words on the columns, and let $B \\in \\mathbb{R}^{K \\times V}$ be an analogous matrix of word vectors at an alternative time. Then we solve the orthogonal Procrustes problem to obtain the projection $\\Omega$."
   ]
  },
  {
   "cell_type": "code",
   "execution_count": 19,
   "metadata": {
    "slideshow": {
     "slide_type": "fragment"
    }
   },
   "outputs": [],
   "source": [
    "Omega = procrustes(vecs_aligned.T, vecs[year2].T)\n",
    "vecs_projected = Omega.dot(vecs_aligned.T).T"
   ]
  },
  {
   "cell_type": "code",
   "execution_count": 20,
   "metadata": {
    "slideshow": {
     "slide_type": "fragment"
    }
   },
   "outputs": [
    {
     "name": "stdout",
     "output_type": "stream",
     "text": [
      "pre-alignment:  140.58024197446653\n",
      "pre-projection:  101.3719138282627\n",
      "after projection:  90.74641725547234\n"
     ]
    }
   ],
   "source": [
    "print('pre-alignment: ',np.linalg.norm(vecs[year2] - vecs[year1]))\n",
    "print('pre-projection: ',np.linalg.norm(vecs[year2] - vecs_aligned))\n",
    "print('after projection: ',np.linalg.norm(vecs[year2] - vecs_projected))"
   ]
  },
  {
   "cell_type": "code",
   "execution_count": 21,
   "metadata": {
    "slideshow": {
     "slide_type": "subslide"
    }
   },
   "outputs": [
    {
     "data": {
      "image/png": "[encoded data removed]",
      "text/plain": [
       "<Figure size 576x216 with 2 Axes>"
      ]
     },
     "metadata": {
      "needs_background": "light"
     },
     "output_type": "display_data"
    }
   ],
   "source": [
    "fig, (ax1,ax2) = plt.subplots(1,2,figsize=[8,3])\n",
    "\n",
    "query = 'fish'\n",
    "vec2_no_project = vecs_aligned[vocs[year2].index(query),]\n",
    "vec2_projected = vecs_projected[vocs[year2].index(query),]\n",
    "vec1_query = vecs[year2][vocs[year2].index(query),]\n",
    "\n",
    "ax1.scatter(vec1_query, vec2_no_project)\n",
    "ax1.set_title(\"Without projection\")\n",
    "\n",
    "ax2.scatter(vec1_query, vec2_projected)\n",
    "ax2.set_title('With projection');"
   ]
  },
  {
   "cell_type": "markdown",
   "metadata": {
    "slideshow": {
     "slide_type": "fragment"
    }
   },
   "source": [
    "After projection the alignment is closer, but still far from perfect."
   ]
  },
  {
   "cell_type": "markdown",
   "metadata": {
    "slideshow": {
     "slide_type": "slide"
    }
   },
   "source": [
    "## Measuring semantic change by embedding norms\n",
    "\n",
    "After projection, we can search for words with large changes in meaning by evaluating the \"cosine distance\" between the projected embedding in $t_1$ and the embedding in $t_2$."
   ]
  },
  {
   "cell_type": "code",
   "execution_count": 22,
   "metadata": {
    "slideshow": {
     "slide_type": "fragment"
    }
   },
   "outputs": [],
   "source": [
    "def compute_cos_dist(vec1 : np.array, vec2 : np.array) -> np.array:    \n",
    "    numerator = (vec1 * vec2).sum(1)\n",
    "    denominator = np.sqrt((vec1**2).sum(1)) * np.sqrt((vec2**2).sum(1))\n",
    "    cos_dist = 1 - numerator / (1e-5 + denominator)\n",
    "\n",
    "    # eliminate words that are zeroed out\n",
    "    return cos_dist * (vec1.var(1) > 0) * (vec2.var(1) > 0)"
   ]
  },
  {
   "cell_type": "code",
   "execution_count": 23,
   "metadata": {
    "slideshow": {
     "slide_type": "fragment"
    }
   },
   "outputs": [],
   "source": [
    "cos_dist = compute_cos_dist(vecs[year2], vecs_projected)"
   ]
  },
  {
   "cell_type": "markdown",
   "metadata": {
    "slideshow": {
     "slide_type": "subslide"
    }
   },
   "source": [
    "### Top words by global metric\n",
    "\n",
    "Now let's print the words with the biggest changes from 1900 to 1990. \n",
    "\n",
    "The embeddings for rare words are a little weird, so let's focus on the 10K most frequent."
   ]
  },
  {
   "cell_type": "code",
   "execution_count": 24,
   "metadata": {
    "scrolled": true,
    "slideshow": {
     "slide_type": "subslide"
    }
   },
   "outputs": [
    {
     "name": "stdout",
     "output_type": "stream",
     "text": [
      "aids\t(ranks=2545,9514)\tdist=0.94\n",
      "1900 neighbors: ['aid', 'assist', 'assisted', 'contributions', 'aided', 'valuable', 'facilities']\n",
      "1990 neighbors: ['hiv', 'immunodeficiency', 'epidemic', 'tuberculosis', 'infected', 'virus', 'deficiency']\n",
      "\n",
      "peer\t(ranks=6735,9180)\tdist=0.84\n",
      "1900 neighbors: ['peers', 'lords', 'realm', 'son', 'widow', 'earl', 'gentleman']\n",
      "1990 neighbors: ['peers', 'socialization', 'interpersonal', 'classroom', 'adolescents', 'adolescent', 'competence']\n",
      "\n",
      "addison\t(ranks=6950,8837)\tdist=0.83\n",
      "1900 neighbors: ['milton', 'swift', 'johnson', 'pope', 'essays', 'verses', 'walter']\n",
      "1990 neighbors: ['wesley', 'longman', 'ma', 'publishing', 'springer', 'mcgraw', 'reading']\n",
      "\n",
      "facility\t(ranks=4593,6794)\tdist=0.81\n",
      "1900 neighbors: ['ease', 'precision', 'familiarity', 'readiness', 'accuracy', 'facilities', 'skill']\n",
      "1990 neighbors: ['facilities', 'operator', 'residential', 'hospital', 'program', 'detention', 'permits']\n",
      "\n",
      "approaches\t(ranks=2125,7278)\tdist=0.81\n",
      "1900 neighbors: ['approach', 'approached', 'nearer', 'approaching', 'nearest', 'rises', 'near']\n",
      "1990 neighbors: ['approach', 'methods', 'strategies', 'techniques', 'perspectives', 'theories', 'concepts']\n",
      "\n",
      "00\t(ranks=3355,3073)\tdist=0.79\n",
      "1900 neighbors: ['50', '3', '2', '5', '25', '0', 'handbook']\n",
      "1990 neighbors: ['0', '000', '10', '100', '97', '20', '99']\n",
      "\n",
      "figured\t(ranks=6006,9639)\tdist=0.78\n",
      "1900 neighbors: ['described', 'painted', 'illustrated', 'decorated', 'discussed', 'represented', 'representing']\n",
      "1990 neighbors: ['sure', 'guess', 'anyway', 'yeah', 'knew', 'liked', 'think']\n",
      "\n",
      "resource\t(ranks=2845,8294)\tdist=0.77\n",
      "1900 neighbors: ['resort', 'recourse', 'rely', 'alternative', 'fertility', 'subsistence', 'emergency']\n",
      "1990 neighbors: ['resources', 'conservation', 'sustainable', 'management', 'allocation', 'environmental', 'tourism']\n",
      "\n",
      "film\t(ranks=1547,8499)\tdist=0.77\n",
      "1900 neighbors: ['thin', 'layer', 'transparent', 'surface', 'liquid', 'vapor', 'oxide']\n",
      "1990 neighbors: ['films', 'movie', 'cinema', 'video', 'television', 'movies', 'photography']\n",
      "\n",
      "variance\t(ranks=3221,7397)\tdist=0.75\n",
      "1900 neighbors: ['inconsistent', 'contradiction', 'contradictory', 'incompatible', 'contrary', 'opinions', 'accord']\n",
      "1990 neighbors: ['deviation', 'variation', 'regression', 'mean', 'statistic', 'estimate', 'deviations']\n",
      "\n"
     ]
    }
   ],
   "source": [
    "thresh = 10000\n",
    "for idx in cos_dist[:thresh].argsort()[::-1][:10]:\n",
    "    word = vocs[year2][idx]\n",
    "    print(f'{word}\\t(ranks={idx},{vocs[year1].index(word)})\\tdist={cos_dist[idx]:.2f}')\n",
    "    print(f'1900 neighbors: {neighbors(word, vecs_projected, vocs[year2], K=7)}')\n",
    "    print(f'1990 neighbors: {neighbors(word, vecs[year2], vocs[year2], K=7)}\\n')"
   ]
  },
  {
   "cell_type": "markdown",
   "metadata": {
    "slideshow": {
     "slide_type": "subslide"
    }
   },
   "source": [
    "Better! A few preprocessing effects (\"00\" and \"addison\"), but most of these changes are interpretable as emerging word senses (\"aids\", \"peer\", \"approaches\", \"facility\", \"film\", and \"resource\")."
   ]
  },
  {
   "cell_type": "markdown",
   "metadata": {
    "slideshow": {
     "slide_type": "slide"
    }
   },
   "source": [
    "## Measuring semantic change by near neighbors\n",
    "\n",
    "A concern with comparing word embeddings directly is that different parts of the embedding space may have different densities, so that cosine distances are not comparable across the entire space. \n",
    "\n",
    "To address this problem, [Hamilton et al (2016b)](https://nlp.stanford.edu/pubs/hamilton2016cultural.pdf) propose a \"local\" technique:\n",
    "\n",
    "1. For word $w$ at time $t$, identify $K$-nearest neighbors $\\mathcal{N}_t(w)$\n",
    "2. Compute the vector of cosine similarities to the union of these neighbors,\n",
    "\n",
    "\\begin{align}\n",
    "\\vec{s}_t(w) = &{} [\\cos(x_{t}(w), x_t(w')) : w' \\in \\mathcal{N}_t(w) \\cup \\mathcal{N}_{t'}(w)]\\\\\n",
    "\\vec{s}_{t'}(w) = &{} [\\cos(x_{t'}(w), x_{t'}(w')) : w' \\in \\mathcal{N}_t(w) \\cup \\mathcal{N}_{t'}(w)]\\\\\n",
    "\\end{align}\n",
    "\n",
    "3. Compute the cosine distance between these two vectors, $D_{t,t'}(w) = 1 - \\cos(\\vec{s}_t(w), \\vec{s}_{t'}(w))$."
   ]
  },
  {
   "cell_type": "markdown",
   "metadata": {
    "slideshow": {
     "slide_type": "subslide"
    }
   },
   "source": [
    "Intuitively, if a word acquires a large number of new neighbors at $t'$, and these neighbors had very different embeddings from $x_t(w)$ at time $t$, then the distance will be large; if the neighbors and their similarities to $w$ are roughly the same at $t$ and $t'$, then the distance will be small. Let's compute it."
   ]
  },
  {
   "cell_type": "markdown",
   "metadata": {
    "slideshow": {
     "slide_type": "subslide"
    }
   },
   "source": [
    "#### Example"
   ]
  },
  {
   "cell_type": "code",
   "execution_count": 25,
   "metadata": {
    "slideshow": {
     "slide_type": "fragment"
    }
   },
   "outputs": [
    {
     "name": "stdout",
     "output_type": "stream",
     "text": [
      "['agree', 'stipulated', 'agreement', 'proposal', 'concluded']\n",
      "['agree', 'proposal', 'decided', 'insisted', 'would']\n"
     ]
    }
   ],
   "source": [
    "query = 'agreed'\n",
    "nn_old = neighbors(query, vecs[year1], vocs[year1], K=5)\n",
    "nn_new = neighbors(query, vecs[year2], vocs[year2], K=5)\n",
    "print(nn_old)\n",
    "print(nn_new)"
   ]
  },
  {
   "cell_type": "markdown",
   "metadata": {
    "slideshow": {
     "slide_type": "subslide"
    }
   },
   "source": [
    "Now we'll construct a set of neighbors that combines these lists, omitting words that are out-of-vocabulary in either dataset."
   ]
  },
  {
   "cell_type": "code",
   "execution_count": 26,
   "metadata": {
    "slideshow": {
     "slide_type": "fragment"
    }
   },
   "outputs": [
    {
     "name": "stdout",
     "output_type": "stream",
     "text": [
      "['concluded', 'proposal', 'insisted', 'agreement', 'would', 'decided', 'agree']\n"
     ]
    }
   ],
   "source": [
    "neighbor_set = [word for word in set(nn_old).union(set(nn_new)) \n",
    "                if (word in vocs[year1])\n",
    "                and (word in vocs[year2])\n",
    "                and (vecs[year1][vocs[year1].index(word)].var() > 0)\n",
    "                and (vecs[year2][vocs[year2].index(word)].var() > 0)]\n",
    "print(neighbor_set)"
   ]
  },
  {
   "cell_type": "markdown",
   "metadata": {
    "slideshow": {
     "slide_type": "subslide"
    }
   },
   "source": [
    "For each of these words, we will compute the cosine similarity to the query, in each dataset. \n",
    "\n",
    "Because the vectors are guaranteed to have a unit norm, the cosine similarity is identical to the dot product."
   ]
  },
  {
   "cell_type": "code",
   "execution_count": 27,
   "metadata": {
    "slideshow": {
     "slide_type": "subslide"
    }
   },
   "outputs": [],
   "source": [
    "def get_neighbor_sims(query : str, neighbor_set : set, vec : np.ndarray, voc : list) -> np.ndarray:\n",
    "    v_self = vec[voc.index(query),]\n",
    "    v_neighbors = vec[[voc.index(neighbor) for neighbor in neighbor_set],]\n",
    "    return np.dot(v_neighbors, v_self)"
   ]
  },
  {
   "cell_type": "code",
   "execution_count": 28,
   "metadata": {
    "slideshow": {
     "slide_type": "fragment"
    }
   },
   "outputs": [
    {
     "name": "stdout",
     "output_type": "stream",
     "text": [
      "[0.44558059 0.44591685 0.29508011 0.50479956 0.2539995  0.35121302\n",
      " 0.56516422]\n",
      "[0.40625893 0.46027387 0.43186218 0.41473822 0.43171013 0.45801135\n",
      " 0.64114619]\n"
     ]
    }
   ],
   "source": [
    "sim_old = get_neighbor_sims(query,neighbor_set,vecs[year1],vocs[year1])\n",
    "sim_new = get_neighbor_sims(query,neighbor_set,vecs[year2],vocs[year2])\n",
    "print(sim_old)\n",
    "print(sim_new)"
   ]
  },
  {
   "cell_type": "markdown",
   "metadata": {
    "slideshow": {
     "slide_type": "subslide"
    }
   },
   "source": [
    "Finally, we'll measure semantic shift by the average \"distance\" between these vectors of similarities. \n",
    "\n",
    "This is a \"second order\" view of semantic change, but we will call it the *local* change, because it is based only on the local neighborhood and not the global embedding space."
   ]
  },
  {
   "cell_type": "code",
   "execution_count": 29,
   "metadata": {
    "slideshow": {
     "slide_type": "fragment"
    }
   },
   "outputs": [
    {
     "data": {
      "text/plain": [
       "0.0031726595221562687"
      ]
     },
     "execution_count": 29,
     "metadata": {},
     "output_type": "execute_result"
    }
   ],
   "source": [
    "compute_cos_dist(sim_old.reshape(1,-1), sim_new.reshape(1,-1))[0] / len(neighbor_set)"
   ]
  },
  {
   "cell_type": "markdown",
   "metadata": {
    "slideshow": {
     "slide_type": "subslide"
    }
   },
   "source": [
    "We'll now make this calculation for the entire dataset. By default, we'll just load the results, but you can recompute it from this data if you have a few minutes."
   ]
  },
  {
   "cell_type": "code",
   "execution_count": 30,
   "metadata": {
    "slideshow": {
     "slide_type": "skip"
    }
   },
   "outputs": [],
   "source": [
    "recompute_embedding_shifts = False\n",
    "emb_shift_file = os.path.join('..','data','embedding-shifts.csv')"
   ]
  },
  {
   "cell_type": "code",
   "execution_count": 31,
   "metadata": {
    "slideshow": {
     "slide_type": "skip"
    }
   },
   "outputs": [],
   "source": [
    "if recompute_embedding_shifts:\n",
    "    # this may take 5-10 minutes to execute\n",
    "    neighbor_shift = dict()\n",
    "\n",
    "    num_neighbors = 25\n",
    "\n",
    "    for word in tqdm(vocs[year2]):\n",
    "        if word in vocs[year1]:\n",
    "            nn_old = neighbors(word, vecs[year1], vocs[year1], K=num_neighbors)\n",
    "            nn_new = neighbors(word, vecs[year2], vocs[year2], K=num_neighbors)\n",
    "\n",
    "            neighbor_set = [word for word in set(nn_old).union(set(nn_new)) \n",
    "                            if (word in vocs[year1])\n",
    "                            and (word in vocs[year2])\n",
    "                            and (vecs[year1][vocs[year1].index(word)].var() > 0)\n",
    "                            and (vecs[year2][vocs[year2].index(word)].var() > 0)]\n",
    "        \n",
    "            s1 = get_neighbor_sims(word, neighbor_set, vecs[year1], vocs[year1])\n",
    "            s2 = get_neighbor_sims(word, neighbor_set, vecs[year2], vocs[year2])\n",
    "\n",
    "            dL = compute_cos_dist(s1.reshape(1,-1),s2.reshape(1,-1))[0] / len(neighbor_set)\n",
    "    \n",
    "            neighbor_shift[word] = dL\n",
    "    df_emb_shift = pd.DataFrame({'local':list(neighbor_shift.values()),\n",
    "                                 'global':[cos_dist[vocs[year2].index(word)] for word in neighbor_shift.keys()]},\n",
    "                                index=list(neighbor_shift.keys()))\n",
    "    df_emb_shift.to_csv(emb_shift_file)\n",
    "else:\n",
    "    df_emb_shift = pd.read_csv(emb_shift_file,index_col=0)"
   ]
  },
  {
   "cell_type": "markdown",
   "metadata": {
    "slideshow": {
     "slide_type": "skip"
    }
   },
   "source": [
    "Let's put the results into a dataframe."
   ]
  },
  {
   "cell_type": "code",
   "execution_count": 32,
   "metadata": {
    "slideshow": {
     "slide_type": "fragment"
    }
   },
   "outputs": [
    {
     "name": "stdout",
     "output_type": "stream",
     "text": [
      "            local    global\n",
      "the      0.034912  0.173218\n",
      "addison  0.031628  0.830714\n",
      "aids     0.031213  0.938870\n",
      "peer     0.030373  0.836678\n",
      "gay      0.026708  0.748373\n"
     ]
    }
   ],
   "source": [
    "print(df_emb_shift.sort_values('local',ascending=False).head(5))"
   ]
  },
  {
   "cell_type": "markdown",
   "metadata": {
    "slideshow": {
     "slide_type": "subslide"
    }
   },
   "source": [
    "### Top words by \"local\" metric"
   ]
  },
  {
   "cell_type": "code",
   "execution_count": 33,
   "metadata": {
    "scrolled": true,
    "slideshow": {
     "slide_type": "fragment"
    }
   },
   "outputs": [
    {
     "name": "stdout",
     "output_type": "stream",
     "text": [
      "the\n",
      "1900 neighbors: ['decay', 'setting', 'borders', 'fiery', 'swelling', 'newly', 'removal']\n",
      "1990 neighbors: ['à', 'conjunction', 'versus', 'seventh', 'semi', 'inner', 'korean']\n",
      "\n",
      "addison\n",
      "1900 neighbors: ['goldsmith', 'burke', 'milton', 'horace', 'wordsworth', 'poetical', 'byron']\n",
      "1990 neighbors: ['wesley', 'longman', 'ma', 'publishing', 'springer', 'mcgraw', 'reading']\n",
      "\n",
      "aids\n",
      "1900 neighbors: ['aid', 'assist', 'effecting', 'assisted', 'contributions', 'appliances', 'aided']\n",
      "1990 neighbors: ['hiv', 'immunodeficiency', 'epidemic', 'tuberculosis', 'infected', 'virus', 'deficiency']\n",
      "\n",
      "peer\n",
      "1900 neighbors: ['peers', 'lords', 'nobleman', 'baron', 'realm', 'son', 'widow']\n",
      "1990 neighbors: ['peers', 'socialization', 'interpersonal', 'classroom', 'adolescents', 'adolescent', 'competence']\n",
      "\n",
      "gay\n",
      "1900 neighbors: ['brilliant', 'merry', 'cheerful', 'charming', 'graceful', 'pleasant', 'bright']\n",
      "1990 neighbors: ['lesbian', 'lesbians', 'homosexual', 'women', 'hispanic', 'couples', 'men']\n",
      "\n",
      "figured\n",
      "1900 neighbors: ['described', 'painted', 'embroidered', 'adorned', 'alluded', 'illustrated', 'richly']\n",
      "1990 neighbors: ['sure', 'guess', 'anyway', 'yeah', 'knew', 'liked', 'think']\n",
      "\n",
      "facility\n",
      "1900 neighbors: ['rapidity', 'ease', 'elegance', 'precision', 'clearness', 'familiarity', 'readiness']\n",
      "1990 neighbors: ['facilities', 'operator', 'residential', 'hospital', 'program', 'detention', 'permits']\n",
      "\n",
      "approaches\n",
      "1900 neighbors: ['approach', 'approached', 'nearer', 'approaching', 'nearest', 'rises', 'near']\n",
      "1990 neighbors: ['approach', 'methods', 'strategies', 'techniques', 'perspectives', 'theories', 'concepts']\n",
      "\n",
      "signal\n",
      "1900 neighbors: ['warning', 'firing', 'hailed', 'shout', 'alarm', 'demonstration', 'gave']\n",
      "1990 neighbors: ['signals', 'amplitude', 'input', 'noise', 'modulation', 'analog', 'amplifier']\n",
      "\n",
      "web\n",
      "1900 neighbors: ['threads', 'thread', 'beam', 'texture', 'network', 'stresses', 'longitudinal']\n",
      "1990 neighbors: ['internet', 'browser', 'server', 'microsoft', 'online', 'links', 'page']\n",
      "\n"
     ]
    }
   ],
   "source": [
    "for word in df_emb_shift.sort_values('local',ascending=False).head(10).index:\n",
    "    print(word)\n",
    "    print(f'1900 neighbors: {neighbors(word, vecs[year1][:thresh], vocs[year1], K=7)}')\n",
    "    print(f'1990 neighbors: {neighbors(word, vecs[year2][:thresh], vocs[year2], K=7)}')\n",
    "    print()"
   ]
  },
  {
   "cell_type": "markdown",
   "metadata": {
    "slideshow": {
     "slide_type": "subslide"
    }
   },
   "source": [
    "Pretty similar, but avoids a few of the false positives in `global`, such as \"00\", while weirdly including \"the\" as the top word."
   ]
  },
  {
   "cell_type": "markdown",
   "metadata": {
    "slideshow": {
     "slide_type": "slide"
    }
   },
   "source": [
    "## Bias in word embeddings\n",
    "Studies have noted that word embeddings encode associations between words that reflect social biases. For example, the word \"homemaker\" may be closer to female-associated words such as \"she\", \"woman\" and \"girl\" because of the stereotype that homemakers are typically female. (See [Caliskan et al. (2017)](https://arxiv.org/pdf/1608.07187.pdf) and [Bolukbasi et al. 2016](http://papers.nips.cc/paper/6228-man-is-to-computer-programmer-as-woman-is-to-homemaker-debiasing-word-embeddings.pdf) for more examples).\n",
    "\n",
    "[Garg et al. (2018)](https://www.pnas.org/content/pnas/115/16/E3635.full.pdf) show the evolution of gender stereotypes through dynamic word embeddings. We'll see how they quantified gender bias and (somewhat) replicate their results. "
   ]
  },
  {
   "cell_type": "markdown",
   "metadata": {
    "slideshow": {
     "slide_type": "subslide"
    }
   },
   "source": [
    "Garg et al. operationalize evolution in gender bias as follows:\n",
    "\n",
    "- **Compile** two lexicons: a set $\\mathcal{G}$ of gendered word pairs, such as (\"he\", \"she\"), (\"son\", \"daughter\") etc., and a set of occupations  $\\mathcal{O}$, such as \"artist\", \"manager\", etc. \n",
    "- **Define** average bias as the expected difference between female to occupations similarity, and male to occupations similarity.\n",
    "- **Track** the average bias over time."
   ]
  },
  {
   "cell_type": "code",
   "execution_count": 34,
   "metadata": {
    "slideshow": {
     "slide_type": "skip"
    }
   },
   "outputs": [],
   "source": [
    "# a set of 20 gendered word pairs\n",
    "gender_pairs = { (\"she\", \"he\"), (\"daughter\", \"son\"), (\"hers\", \"his\"), (\"her\", \"him\"), (\"mother\", \"father\"),\n",
    "                 (\"woman\", \"man\"), (\"girl\", \"boy\"), (\"herself\", \"himself\"), (\"female\", \"male\"), (\"sister\", \"brother\"),\n",
    "                 (\"daughters\", \"sons\"), (\"mothers\", \"fathers\"), (\"women\", \"men\"), (\"girls\", \"boys\"), (\"females\", \"males\"),\n",
    "                 (\"sisters\", \"brothers\"), (\"aunt\", \"uncle\"), (\"aunts\", \"uncles\"), (\"niece\", \"nephew\"), (\"nieces\", \"nephews\")\n",
    "               }\n",
    "\n",
    "\n",
    "# define occupations\n",
    "occupations = {\"accountant\", \"administrator\", \"architect\", \"artist\", \"athlete\", \"attendant\", \"auctioneer\", \"author\",\n",
    "               \"bailiff\", \"baker\", \"bankteller\", \"bartender\", \"blacksmith\", \"boilermaker\", \"bookbinder\", \"bootblack\", \n",
    "               \"broker\", \"cabinetmaker\", \"carpenter\", \"cashier\", \"chemist\", \"chiropractor\", \"clergy\", \"clerical\", \n",
    "               \"clerk\", \"compositor\", \"conductor\", \"conservationist\", \"constable\", \"cook\", \"craftsperson\", \"dancer\", \n",
    "               \"dentist\", \"designer\", \"dietitian\", \"doctor\", \"doorkeeper\", \"draftsperson\", \"driver\", \"economist\", \n",
    "               \"electrician\", \"eletrotyper\", \"engineer\", \"entertainer\", \"farmer\", \"fireperson\", \"gardener\", \"geologist\", \n",
    "               \"guard\", \"housekeeper\", \"huckster\", \"inspector\", \"instructor\", \"janitor\", \"jeweler\", \"judge\", \n",
    "               \"laborer\", \"lawyer\", \"librarian\", \"lumberjack\", \"machinist\", \"mailperson\", \"manager\", \"mason\", \n",
    "               \"mathematician\", \"mechanic\", \"midwife\", \"milliner\", \"millwright\", \"molder\", \"musician\", \"newsperson\", \n",
    "               \"nurse\", \"nutritionist\", \"official\", \"operator\", \"optometrist\", \"osteopath\", \"painter\", \"paperhanger\", \n",
    "               \"peddler\", \"pharmacist\", \"photographer\", \"physician\", \"physicist\", \"pilot\", \"plasterer\", \"plumber\", \n",
    "               \"police\", \"porter\", \"postmaster\", \"professor\", \"proprietor\", \"psychologist\", \"retired\", \"sailor\", \n",
    "               \"salesperson\", \"scientist\", \"secretary\", \"setter\", \"sheriff\", \"shoemaker\", \"smith\", \n",
    "               \"soldier\", \"statistician\", \"stereotyper\", \"student\", \"surgeon\", \"surveyor\", \"tailor\", \"teacher\", \n",
    "               \"teamster\", \"technician\", \"therapist\", \"toolmaker\", \"tradesperson\", \"typesetter\", \"unemployed\", \"upholsterer\",\n",
    "               \"veterinarian\", \"waitstaff\", \"weaver\", \"welder\"\n",
    "              }"
   ]
  },
  {
   "cell_type": "markdown",
   "metadata": {
    "slideshow": {
     "slide_type": "subslide"
    }
   },
   "source": [
    "Let's see what these lexicons are composed of:"
   ]
  },
  {
   "cell_type": "code",
   "execution_count": 35,
   "metadata": {
    "slideshow": {
     "slide_type": "fragment"
    }
   },
   "outputs": [
    {
     "data": {
      "text/plain": [
       "{('aunt', 'uncle'),\n",
       " ('aunts', 'uncles'),\n",
       " ('daughter', 'son'),\n",
       " ('daughters', 'sons'),\n",
       " ('female', 'male'),\n",
       " ('females', 'males'),\n",
       " ('girl', 'boy'),\n",
       " ('girls', 'boys'),\n",
       " ('her', 'him'),\n",
       " ('hers', 'his'),\n",
       " ('herself', 'himself'),\n",
       " ('mother', 'father'),\n",
       " ('mothers', 'fathers'),\n",
       " ('niece', 'nephew'),\n",
       " ('nieces', 'nephews'),\n",
       " ('she', 'he'),\n",
       " ('sister', 'brother'),\n",
       " ('sisters', 'brothers'),\n",
       " ('woman', 'man'),\n",
       " ('women', 'men')}"
      ]
     },
     "execution_count": 35,
     "metadata": {},
     "output_type": "execute_result"
    }
   ],
   "source": [
    "gender_pairs"
   ]
  },
  {
   "cell_type": "code",
   "execution_count": 36,
   "metadata": {
    "slideshow": {
     "slide_type": "fragment"
    }
   },
   "outputs": [
    {
     "data": {
      "text/plain": [
       "{'accountant',\n",
       " 'administrator',\n",
       " 'architect',\n",
       " 'artist',\n",
       " 'athlete',\n",
       " 'attendant',\n",
       " 'auctioneer',\n",
       " 'author',\n",
       " 'bailiff',\n",
       " 'baker',\n",
       " 'bankteller',\n",
       " 'bartender',\n",
       " 'blacksmith',\n",
       " 'boilermaker',\n",
       " 'bookbinder',\n",
       " 'bootblack',\n",
       " 'broker',\n",
       " 'cabinetmaker',\n",
       " 'carpenter',\n",
       " 'cashier',\n",
       " 'chemist',\n",
       " 'chiropractor',\n",
       " 'clergy',\n",
       " 'clerical',\n",
       " 'clerk',\n",
       " 'compositor',\n",
       " 'conductor',\n",
       " 'conservationist',\n",
       " 'constable',\n",
       " 'cook',\n",
       " 'craftsperson',\n",
       " 'dancer',\n",
       " 'dentist',\n",
       " 'designer',\n",
       " 'dietitian',\n",
       " 'doctor',\n",
       " 'doorkeeper',\n",
       " 'draftsperson',\n",
       " 'driver',\n",
       " 'economist',\n",
       " 'electrician',\n",
       " 'eletrotyper',\n",
       " 'engineer',\n",
       " 'entertainer',\n",
       " 'farmer',\n",
       " 'fireperson',\n",
       " 'gardener',\n",
       " 'geologist',\n",
       " 'guard',\n",
       " 'housekeeper',\n",
       " 'huckster',\n",
       " 'inspector',\n",
       " 'instructor',\n",
       " 'janitor',\n",
       " 'jeweler',\n",
       " 'judge',\n",
       " 'laborer',\n",
       " 'lawyer',\n",
       " 'librarian',\n",
       " 'lumberjack',\n",
       " 'machinist',\n",
       " 'mailperson',\n",
       " 'manager',\n",
       " 'mason',\n",
       " 'mathematician',\n",
       " 'mechanic',\n",
       " 'midwife',\n",
       " 'milliner',\n",
       " 'millwright',\n",
       " 'molder',\n",
       " 'musician',\n",
       " 'newsperson',\n",
       " 'nurse',\n",
       " 'nutritionist',\n",
       " 'official',\n",
       " 'operator',\n",
       " 'optometrist',\n",
       " 'osteopath',\n",
       " 'painter',\n",
       " 'paperhanger',\n",
       " 'peddler',\n",
       " 'pharmacist',\n",
       " 'photographer',\n",
       " 'physician',\n",
       " 'physicist',\n",
       " 'pilot',\n",
       " 'plasterer',\n",
       " 'plumber',\n",
       " 'police',\n",
       " 'porter',\n",
       " 'postmaster',\n",
       " 'professor',\n",
       " 'proprietor',\n",
       " 'psychologist',\n",
       " 'retired',\n",
       " 'sailor',\n",
       " 'salesperson',\n",
       " 'scientist',\n",
       " 'secretary',\n",
       " 'setter',\n",
       " 'sheriff',\n",
       " 'shoemaker',\n",
       " 'smith',\n",
       " 'soldier',\n",
       " 'statistician',\n",
       " 'stereotyper',\n",
       " 'student',\n",
       " 'surgeon',\n",
       " 'surveyor',\n",
       " 'tailor',\n",
       " 'teacher',\n",
       " 'teamster',\n",
       " 'technician',\n",
       " 'therapist',\n",
       " 'toolmaker',\n",
       " 'tradesperson',\n",
       " 'typesetter',\n",
       " 'unemployed',\n",
       " 'upholsterer',\n",
       " 'veterinarian',\n",
       " 'waitstaff',\n",
       " 'weaver',\n",
       " 'welder'}"
      ]
     },
     "execution_count": 36,
     "metadata": {},
     "output_type": "execute_result"
    }
   ],
   "source": [
    "occupations"
   ]
  },
  {
   "cell_type": "markdown",
   "metadata": {
    "slideshow": {
     "slide_type": "subslide"
    }
   },
   "source": [
    "We can calculate the average bias using the embeddings of words in these lexicons.\n",
    "\n",
    "$$\n",
    "\\begin{align}\n",
    "\\text{bias} = \\frac{1}{|\\mathcal{O}||\\mathcal{G}|} \\sum_{o \\in \\mathcal{O}} \\sum_{f,m \\in \\mathcal{G}} cos(\\textbf{f}, \\mathbf{o}) - cos(\\textbf{m}, \\mathbf{o}),\n",
    "\\end{align}\n",
    "$$\n",
    "\n",
    "where $\\mathbf{f}$, $\\mathbf{m}$ and $\\mathbf{o}$ are the embeddings corresponding to words $f$, $m$, and $o$ respectively.\n",
    "\n",
    "We can calculate this measure from embeddings at different times to see how the bias has changed."
   ]
  },
  {
   "cell_type": "markdown",
   "metadata": {
    "slideshow": {
     "slide_type": "subslide"
    }
   },
   "source": [
    "Let's create a dataframe where each row is the bias for a specific gendered pair and occupation combination at a given time. The following function will do this for you."
   ]
  },
  {
   "cell_type": "code",
   "execution_count": 37,
   "metadata": {
    "slideshow": {
     "slide_type": "fragment"
    }
   },
   "outputs": [],
   "source": [
    "def make_bias_frame (vocabulary: dict, embeddings: dict, years: list, pairs: set, occupations: set) -> pd.DataFrame:\n",
    "    rows = list ()\n",
    "    for year in years:\n",
    "        vocab = vocabulary[year]\n",
    "        vectors = embeddings[year]\n",
    "        lookup = {w: i for i, w in enumerate (vocab)}\n",
    "        valid_occupations = set (vocab) & occupations\n",
    "        valid_pairs = [(f,m) for f,m in pairs if f in lookup and m in lookup]\n",
    "        for f,m in valid_pairs:\n",
    "            for occ in valid_occupations:\n",
    "                bias = np.dot (vectors[lookup[occ]], vectors[lookup[f]]) - np.dot (vectors[lookup[occ]], vectors[lookup[m]])\n",
    "                rows.append ([f, m, occ, bias, year])\n",
    "    \n",
    "    return pd.DataFrame (rows, columns=[\"female_word\", \"male_word\", \"occupation\", \"bias\", \"year\"])"
   ]
  },
  {
   "cell_type": "markdown",
   "metadata": {
    "slideshow": {
     "slide_type": "subslide"
    }
   },
   "source": [
    "Let's create that frame and see some of the values."
   ]
  },
  {
   "cell_type": "code",
   "execution_count": 38,
   "metadata": {
    "slideshow": {
     "slide_type": "fragment"
    }
   },
   "outputs": [
    {
     "data": {
      "text/html": [
       "<div>\n",
       "<style scoped>\n",
       "    .dataframe tbody tr th:only-of-type {\n",
       "        vertical-align: middle;\n",
       "    }\n",
       "\n",
       "    .dataframe tbody tr th {\n",
       "        vertical-align: top;\n",
       "    }\n",
       "\n",
       "    .dataframe thead th {\n",
       "        text-align: right;\n",
       "    }\n",
       "</style>\n",
       "<table border=\"1\" class=\"dataframe\">\n",
       "  <thead>\n",
       "    <tr style=\"text-align: right;\">\n",
       "      <th></th>\n",
       "      <th>female_word</th>\n",
       "      <th>male_word</th>\n",
       "      <th>occupation</th>\n",
       "      <th>bias</th>\n",
       "      <th>year</th>\n",
       "    </tr>\n",
       "  </thead>\n",
       "  <tbody>\n",
       "    <tr>\n",
       "      <th>0</th>\n",
       "      <td>girls</td>\n",
       "      <td>boys</td>\n",
       "      <td>clerk</td>\n",
       "      <td>-0.042301</td>\n",
       "      <td>1800</td>\n",
       "    </tr>\n",
       "    <tr>\n",
       "      <th>1</th>\n",
       "      <td>girls</td>\n",
       "      <td>boys</td>\n",
       "      <td>cook</td>\n",
       "      <td>-0.006970</td>\n",
       "      <td>1800</td>\n",
       "    </tr>\n",
       "    <tr>\n",
       "      <th>2</th>\n",
       "      <td>girls</td>\n",
       "      <td>boys</td>\n",
       "      <td>constable</td>\n",
       "      <td>-0.100344</td>\n",
       "      <td>1800</td>\n",
       "    </tr>\n",
       "    <tr>\n",
       "      <th>3</th>\n",
       "      <td>girls</td>\n",
       "      <td>boys</td>\n",
       "      <td>soldier</td>\n",
       "      <td>0.037820</td>\n",
       "      <td>1800</td>\n",
       "    </tr>\n",
       "    <tr>\n",
       "      <th>4</th>\n",
       "      <td>girls</td>\n",
       "      <td>boys</td>\n",
       "      <td>carpenter</td>\n",
       "      <td>-0.100123</td>\n",
       "      <td>1800</td>\n",
       "    </tr>\n",
       "  </tbody>\n",
       "</table>\n",
       "</div>"
      ],
      "text/plain": [
       "  female_word male_word occupation      bias  year\n",
       "0       girls      boys      clerk -0.042301  1800\n",
       "1       girls      boys       cook -0.006970  1800\n",
       "2       girls      boys  constable -0.100344  1800\n",
       "3       girls      boys    soldier  0.037820  1800\n",
       "4       girls      boys  carpenter -0.100123  1800"
      ]
     },
     "execution_count": 38,
     "metadata": {},
     "output_type": "execute_result"
    }
   ],
   "source": [
    "df_biases = make_bias_frame (vocs, vecs, years, gender_pairs, occupations)\n",
    "df_biases.head(5)"
   ]
  },
  {
   "cell_type": "markdown",
   "metadata": {
    "slideshow": {
     "slide_type": "fragment"
    }
   },
   "source": [
    "Remember that negative values mean that there is bias against female gender. But the values for individual rows are hard to characterize so let's see if this bias is systematic."
   ]
  },
  {
   "cell_type": "markdown",
   "metadata": {
    "slideshow": {
     "slide_type": "subslide"
    }
   },
   "source": [
    "Here's what we get with an aggregate plot."
   ]
  },
  {
   "cell_type": "code",
   "execution_count": 39,
   "metadata": {
    "slideshow": {
     "slide_type": "fragment"
    }
   },
   "outputs": [
    {
     "data": {
      "image/png": "[encoded data removed]",
      "text/plain": [
       "<Figure size 576x432 with 1 Axes>"
      ]
     },
     "metadata": {},
     "output_type": "display_data"
    }
   ],
   "source": [
    "sns.set(style=\"whitegrid\", palette=\"pastel\", color_codes=True)\n",
    "fig, ax = plt.subplots(figsize=(8, 6))\n",
    "sns.violinplot (ax=ax, x=\"year\", y=\"bias\", split=True, inner=\"quart\", data=df_biases)\n",
    "sns.despine(left=True)"
   ]
  },
  {
   "cell_type": "markdown",
   "metadata": {
    "slideshow": {
     "slide_type": "fragment"
    }
   },
   "source": [
    "- Occupational bias against females has persisted over a long time.\n",
    "- Some hope is that the bias is getting close to zero!"
   ]
  },
  {
   "cell_type": "markdown",
   "metadata": {
    "slideshow": {
     "slide_type": "subslide"
    }
   },
   "source": [
    "We can rank the occupations by their association to female or male words and then see the top associations."
   ]
  },
  {
   "cell_type": "code",
   "execution_count": 40,
   "metadata": {
    "slideshow": {
     "slide_type": "skip"
    }
   },
   "outputs": [],
   "source": [
    "def get_associations (vocabulary: dict, vectors: dict, pairs: set, occupations: set) -> dict:\n",
    "    lookup = {w: i for i, w in enumerate (vocabulary)}\n",
    "    valid_occupations = set (vocabulary) & occupations\n",
    "    valid_pairs = [(f,m) for f,m in pairs if f in lookup and m in lookup]\n",
    "    return {occ: sum([np.dot (vectors[lookup[occ]], vectors[lookup[f]]) - np.dot (vectors[lookup[occ]], vectors[lookup[m]]) for f,m in valid_pairs]) / len (valid_pairs) for occ in valid_occupations}"
   ]
  },
  {
   "cell_type": "code",
   "execution_count": 41,
   "metadata": {
    "slideshow": {
     "slide_type": "fragment"
    }
   },
   "outputs": [
    {
     "name": "stdout",
     "output_type": "stream",
     "text": [
      "Year 1800\n",
      "Top male occupations: ['judge', 'teacher', 'author', 'professor', 'smith']\n",
      "Top female occupations: ['nurse', 'attendant', 'porter', 'manager', 'farmer']\n",
      "Year 1850\n",
      "Top male occupations: ['smith', 'mason', 'judge', 'sheriff', 'author']\n",
      "Top female occupations: ['nurse', 'attendant', 'surgeon', 'porter', 'physician']\n",
      "Year 1900\n",
      "Top male occupations: ['soldier', 'judge', 'administrator', 'pilot', 'smith']\n",
      "Top female occupations: ['nurse', 'attendant', 'doctor', 'clergy', 'musician']\n",
      "Year 1950\n",
      "Top male occupations: ['architect', 'engineer', 'sheriff', 'lawyer', 'scientist']\n",
      "Top female occupations: ['nurse', 'cook', 'sailor', 'therapist', 'doctor']\n",
      "Year 1990\n",
      "Top male occupations: ['architect', 'engineer', 'judge', 'pilot', 'broker']\n",
      "Top female occupations: ['nurse', 'therapist', 'unemployed', 'student', 'physician']\n"
     ]
    }
   ],
   "source": [
    "for year in years:\n",
    "    vocab = vocs[year]\n",
    "    vectors = vecs[year]\n",
    "    biases = get_associations (vocab, vectors, gender_pairs, occupations)\n",
    "    print (f\"Year {year}\")\n",
    "    occs = [occ for occ, _ in sorted (biases.items(), key=lambda x:x[1], reverse=False)][:5]\n",
    "    print (f\"Top male occupations: {occs}\")\n",
    "    occs = [occ for occ, _ in sorted (biases.items(), key=lambda x:x[1], reverse=True)][:5]\n",
    "    print (f\"Top female occupations: {occs}\")"
   ]
  },
  {
   "cell_type": "markdown",
   "metadata": {
    "slideshow": {
     "slide_type": "fragment"
    }
   },
   "source": [
    "We do see some stereotypically male occupations such as \"sheriff\" and \"engineer\", as well as stereotypically female occupations such as \"nurse\" and \"cook\" through this automated technique. \n",
    "\n",
    "At the same time, some association are hard to explain (eg. $sailor$ in the 1950's as one of the top female profession), which indicates that there is more room for improvement. "
   ]
  },
  {
   "cell_type": "markdown",
   "metadata": {
    "slideshow": {
     "slide_type": "slide"
    }
   },
   "source": [
    "## Extensions\n",
    "\n",
    "- Try a number of different neighborhood sizes, and test how it affects the ranking of words. Is the \"local\" method sensitive to this parameter?\n",
    "- Hamilton et al show that more common words tend to change more slowly. Can you replicate this finding using this data?\n",
    "- Using the other datafiles, try to determine the pace of change over time; do words shift their meanings more in the late 20th century?\n"
   ]
  }
 ],
 "metadata": {
  "celltoolbar": "Slideshow",
  "kernelspec": {
   "display_name": "Python 3",
   "language": "python",
   "name": "python3"
  },
  "language_info": {
   "codemirror_mode": {
    "name": "ipython",
    "version": 3
   },
   "file_extension": ".py",
   "mimetype": "text/x-python",
   "name": "python",
   "nbconvert_exporter": "python",
   "pygments_lexer": "ipython3",
   "version": "3.7.3"
  }
 },
 "nbformat": 4,
 "nbformat_minor": 2
}
