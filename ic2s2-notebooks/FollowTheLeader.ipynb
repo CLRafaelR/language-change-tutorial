{
 "cells": [
  {
   "cell_type": "markdown",
   "metadata": {
    "slideshow": {
     "slide_type": "slide"
    }
   },
   "source": [
    "# Leaders and Followers\n",
    "\n",
    "- Created by Jacob Eisenstein, May 2019\n",
    "- Slight modifications by Sandeep Soni, June 2019\n",
    "\n",
    "Conversational interactions are complex games of give-and-take. Speakers tend to accommodate to each other, although the degree of accommodation is sometimes modulated by social differences such as relative status.\n",
    "\n",
    "This notebook employs the Hawkes Process to estimate influence weights between pairs of speakers.\n",
    "\n",
    "The dataset is drawn from transcripts of Republican presidential debates in 2012, which are available from [The American Presidency Project](https://www.presidency.ucsb.edu/documents/presidential-documents-archive-guidebook/presidential-candidates-debates-1960-2016)."
   ]
  },
  {
   "cell_type": "markdown",
   "metadata": {
    "slideshow": {
     "slide_type": "slide"
    }
   },
   "source": [
    "# Conversations as event cascades\n",
    "\n",
    "The Hawkes Process is a model for **event cascades**, which are series of time-stamped events. In our case, each event will be **marked** by the speaker. We are interested in quantifying the extent to which events from one speaker make it more likely that there will be subsequent events for another speaker. \n",
    "\n"
   ]
  },
  {
   "cell_type": "markdown",
   "metadata": {
    "slideshow": {
     "slide_type": "skip"
    }
   },
   "source": [
    "## Multivariate Hawkes Process\n",
    "\n",
    "In a multivariate Hawkes process, events are \"marked\", e.g., by the speaker. The excitation parameters are therefore a matrix, with $\\alpha_{i \\to j}$ representing the excitation of events from source $i$ on source $j$.\n",
    "\n",
    "\\begin{align}\n",
    "\\lambda^{(j)}_t = & \\mu_t + \\sum_i \\sum_{e : t'_e < t} \\alpha_{s_e \\to j} \\kappa_{s_e \\to j}(t - t'_e),\n",
    "\\end{align}\n",
    "with $s_e$ indicating the source of event $e$, and each **time kernel** $\\kappa_{s_e \\to j}$ constrained to integrate to 1 over positive arguments.\n",
    "\n",
    "By estimating $\\alpha$ for a conversation, we can determine how much events from each speaker $i$ explain subsequent events from speaker $j$."
   ]
  },
  {
   "cell_type": "markdown",
   "metadata": {
    "slideshow": {
     "slide_type": "fragment"
    }
   },
   "source": [
    "### Causal interpretations?\n",
    "\n",
    "- It's tempting to interpret the HP coefficients causally, as **influence** from $i$ to $j$.\n",
    "- **But!** unseen external causes can trigger events for both $i$ and $j$. \n",
    "    - Both $i$ and $j$ can get information from an external unseen source but $i$ responds to this new information quicker than $j$.\n",
    "    - It will look as through $i$ is influencing $j$, but the behavior of $j$ would be the same even if $i$ disappeared."
   ]
  },
  {
   "cell_type": "markdown",
   "metadata": {
    "slideshow": {
     "slide_type": "slide"
    }
   },
   "source": [
    "# Importing libraries\n",
    "\n",
    "We'll use the `pyhawkes` library for Hawkes processes (https://github.com/slinderman/pyhawkes/). Install by\n",
    "\n",
    "```\n",
    "pip install --user pyhawkes\n",
    "```\n",
    "\n",
    "This library implements the standard HP as well as many interesting Bayesian variants, described by [Linderman and Adams](https://arxiv.org/abs/1507.03228). We'll only play with the standard HP in this notebook."
   ]
  },
  {
   "cell_type": "code",
   "execution_count": 3,
   "metadata": {
    "slideshow": {
     "slide_type": "skip"
    }
   },
   "outputs": [],
   "source": [
    "import pandas as pd\n",
    "import matplotlib.pyplot as plt\n",
    "%matplotlib inline\n",
    "\n",
    "import numpy as np\n",
    "from sklearn.feature_extraction.text import CountVectorizer\n",
    "\n",
    "from tqdm import tqdm_notebook as tqdm\n",
    "\n",
    "import os, sys\n",
    "from glob import glob\n",
    "import pickle\n",
    "\n",
    "import pyhawkes"
   ]
  },
  {
   "cell_type": "markdown",
   "metadata": {
    "slideshow": {
     "slide_type": "subslide"
    }
   },
   "source": [
    "## Loading the data\n",
    "\n",
    "Let's begin by loading in a debate transcript. I have lightly reprocessed these datasets into tab-separated value (TSV) files."
   ]
  },
  {
   "cell_type": "code",
   "execution_count": 4,
   "metadata": {
    "slideshow": {
     "slide_type": "fragment"
    }
   },
   "outputs": [],
   "source": [
    "base_dir = os.path.join('..','data','republican-debates-2012')\n",
    "transcript_dir = os.path.join(base_dir,'transcripts-processed')\n",
    "\n",
    "df = pd.read_csv(os.path.join(transcript_dir,'11-06-13.txt.tsv'),\n",
    "                 delimiter='\\t',\n",
    "                 names=['speaker','text'])"
   ]
  },
  {
   "cell_type": "markdown",
   "metadata": {
    "slideshow": {
     "slide_type": "subslide"
    }
   },
   "source": [
    "Let's have a look."
   ]
  },
  {
   "cell_type": "code",
   "execution_count": 5,
   "metadata": {
    "slideshow": {
     "slide_type": "fragment"
    }
   },
   "outputs": [
    {
     "name": "stdout",
     "output_type": "stream",
     "text": [
      "     speaker                                               text\n",
      "0  JOHN KING    Welcome to Saint Anselm College in Mancheste...\n",
      "1   SANTORUM   Hello, New Hampshire. I'm Rick Santorum. I se...\n",
      "2       KING                                    Congresswoman? \n"
     ]
    }
   ],
   "source": [
    "print(df.head(3))"
   ]
  },
  {
   "cell_type": "markdown",
   "metadata": {
    "slideshow": {
     "slide_type": "fragment"
    }
   },
   "source": [
    "Here \"JOHN KING\" is the moderator. There are also several other minor participants besides the candidates:"
   ]
  },
  {
   "cell_type": "code",
   "execution_count": 4,
   "metadata": {
    "slideshow": {
     "slide_type": "subslide"
    }
   },
   "outputs": [
    {
     "data": {
      "text/plain": [
       "KING                                                               152\n",
       "ROMNEY                                                              27\n",
       "CAIN                                                                25\n",
       "PAWLENTY                                                            23\n",
       "BACHMANN                                                            20\n",
       "PAUL                                                                18\n",
       "GINGRICH                                                            18\n",
       "SANTORUM                                                            17\n",
       "Q                                                                    7\n",
       "DISTASO                                                              6\n",
       "JOHN FAHEY, NEW HAMPSHIRE UNION LEADER                               1\n",
       "JOHN KING                                                            1\n",
       "UNKNOWN                                                              1\n",
       "JOHN DISTASO, NEW HAMPSHIRE UNION LEADER SR. POLITICAL REPORTER      1\n",
       "Name: speaker, dtype: int64"
      ]
     },
     "execution_count": 4,
     "metadata": {},
     "output_type": "execute_result"
    }
   ],
   "source": [
    "df['speaker'].value_counts()"
   ]
  },
  {
   "cell_type": "markdown",
   "metadata": {
    "slideshow": {
     "slide_type": "fragment"
    }
   },
   "source": [
    "There are some preprocessing issues with resolution of \"KING\"/\"JOHN KING\" and \"(JOHN) DISTASO\", but we'll ignore that for now. Let's focus on the participants who have more than 1 turn"
   ]
  },
  {
   "cell_type": "code",
   "execution_count": 6,
   "metadata": {
    "slideshow": {
     "slide_type": "skip"
    }
   },
   "outputs": [
    {
     "name": "stdout",
     "output_type": "stream",
     "text": [
      "['KING', 'ROMNEY', 'CAIN', 'PAWLENTY', 'BACHMANN', 'PAUL', 'GINGRICH', 'SANTORUM', 'Q', 'DISTASO']\n"
     ]
    }
   ],
   "source": [
    "speakers = [speaker for speaker,value in df['speaker'].value_counts().items() if value > 1]\n",
    "print(speakers)\n",
    "K = len(speakers)"
   ]
  },
  {
   "cell_type": "markdown",
   "metadata": {
    "slideshow": {
     "slide_type": "slide"
    }
   },
   "source": [
    "## Text processing\n",
    "\n",
    "Now let's process the text, building a vocabulary of the words used by the candidates.\n",
    "\n",
    "First, we'll build a stoplist of the 1000 most common words in English, from https://github.com/first20hours/google-10000-english."
   ]
  },
  {
   "cell_type": "code",
   "execution_count": 7,
   "metadata": {
    "slideshow": {
     "slide_type": "fragment"
    }
   },
   "outputs": [],
   "source": [
    "with open(os.path.join('..','data','google-10000-english-usa.txt'),'r') as fin:\n",
    "    stop_words = [word.rstrip() for word in fin.readlines()[:2000]]\n",
    "stop_words += [name.lower() for name in speakers]\n",
    "stop_words += ['isn','didn','doesn','shouldn','wouldn','hadn','don'] #nt is handled differently\n",
    "stop_words += ['applause','cheers'] # special tokens"
   ]
  },
  {
   "cell_type": "markdown",
   "metadata": {
    "slideshow": {
     "slide_type": "subslide"
    }
   },
   "source": [
    "Next, we build a vocabulary by using the `CountVectorizer` class from `scikit-learn`."
   ]
  },
  {
   "cell_type": "code",
   "execution_count": 8,
   "metadata": {
    "slideshow": {
     "slide_type": "fragment"
    }
   },
   "outputs": [
    {
     "data": {
      "text/plain": [
       "CountVectorizer(analyzer='word', binary=False, decode_error='strict',\n",
       "        dtype=<class 'numpy.int64'>, encoding='utf-8', input='content',\n",
       "        lowercase=True, max_df=0.1, max_features=10000, min_df=5,\n",
       "        ngram_range=(1, 1), preprocessor=None,\n",
       "        stop_words=['the', 'of', 'and', 'to', 'a', 'in', 'for', 'is', 'on', 'that', 'by', 'this', 'with', 'i', 'you', 'it', 'not', 'or', 'be', 'are', 'from', 'at', 'as', 'your', 'all', 'have', 'new', 'more', 'an', 'was', 'we', 'will', 'home', 'can', 'us', 'about', 'if', 'page', 'my', 'has', 'search', 'free'...', 'q', 'distaso', 'isn', 'didn', 'doesn', 'shouldn', 'wouldn', 'hadn', 'don', 'applause', 'cheers'],\n",
       "        strip_accents=None, token_pattern='(?u)\\\\b[A-z][A-z]+\\\\b',\n",
       "        tokenizer=None, vocabulary=None)"
      ]
     },
     "execution_count": 8,
     "metadata": {},
     "output_type": "execute_result"
    }
   ],
   "source": [
    "tok_pat = '(?u)\\\\b[A-z][A-z]+\\\\b'\n",
    "vec = CountVectorizer(max_features=10000,min_df=5,max_df=0.1,stop_words=stop_words,token_pattern=tok_pat)\n",
    "#vec = CountVectorizer(max_features=10000,min_df=5,max_df=0.1,stop_words=stop_words)\n",
    "vec.fit(df.loc[df['speaker'].apply(lambda x : x in speakers)]['text'])"
   ]
  },
  {
   "cell_type": "markdown",
   "metadata": {
    "slideshow": {
     "slide_type": "subslide"
    }
   },
   "source": [
    "Let's see what's in the vocabulary."
   ]
  },
  {
   "cell_type": "code",
   "execution_count": 9,
   "metadata": {
    "slideshow": {
     "slide_type": "fragment"
    }
   },
   "outputs": [
    {
     "name": "stdout",
     "output_type": "stream",
     "text": [
      "{'hampshire': 36, 'pennsylvania': 58, 'senate': 70, 'cutting': 25, 'spending': 76, 'congresswoman': 20, 'congress': 18, 'tonight': 80, 'speaker': 75, 'americans': 4, 'obama': 54, 'anselm': 5, 'sons': 74, 'congressman': 19, 'constitution': 21, 'concerned': 17, 'candidates': 12, 'candidate': 11, 'seconds': 69, 'won': 92, 'voter': 87, 'leader': 42, 'democrats': 28, 'republicans': 66, 'taxes': 78, 'senator': 71, 'obamacare': 55, 'fix': 34, 'growing': 35, 'failed': 32, 'republican': 65, 'voters': 88, 'willing': 90, 'billion': 9, 'worked': 93, 'ought': 57, 'repeal': 64, 'watching': 89, 'conversation': 23, 'saying': 68, 'ph': 59, 'legislation': 44, 'trillion': 82, 'dollars': 29, 'medicare': 51, 'massachusetts': 49, 'campaign': 10, 'obamneycare': 56, 'afford': 1, 'raise': 62, 'reform': 63, 'minnesota': 52, 'looked': 46, 'standing': 77, 'debate': 27, 'moment': 53, 'cannot': 13, 'pick': 60, 'serious': 72, 'jennifer': 40, 'vaughn': 85, 'wmur': 91, 'tea': 79, 'ryan': 67, 'quickly': 61, 'influence': 39, 'absolutely': 0, 'everybody': 30, 'audience': 7, 'asking': 6, 'slow': 73, 'facebook': 31, 'twitter': 84, 'learned': 43, 'josh': 41, 'mcelveen': 50, 'totally': 81, 'amendment': 3, 'commander': 15, 'manchester': 47, 'happen': 37, 'bailout': 8, 'vital': 86, 'dealing': 26, 'idol': 38, 'faith': 33, 'courts': 24, 'citizen': 14, 'marriage': 48, 'constitutional': 22, 'commanders': 16, 'afghanistan': 2, 'troops': 83, 'libya': 45}\n"
     ]
    }
   ],
   "source": [
    "print(vec.vocabulary_)"
   ]
  },
  {
   "cell_type": "markdown",
   "metadata": {
    "slideshow": {
     "slide_type": "subslide"
    }
   },
   "source": [
    "The resulting vocabulary is small, so we'll treat each word as a separate event cascade. Some of the words are meaningful (\"taxes\", \"medicare\", \"spending\"), while others are probably not (\"concerned\", \"tonight\"), but we'll rely on the model to figure that out.\n",
    "\n",
    "**Exercise**: use a stemmer or lemmatizer to try to group terms such as \"spend/spending\" and \"tax/taxes\". This should yield a smaller set of denser cascades."
   ]
  },
  {
   "cell_type": "markdown",
   "metadata": {
    "slideshow": {
     "slide_type": "subslide"
    }
   },
   "source": [
    "Finally, we'll construct a set of cascades, which are time points and speaker indices."
   ]
  },
  {
   "cell_type": "code",
   "execution_count": 10,
   "metadata": {
    "slideshow": {
     "slide_type": "skip"
    }
   },
   "outputs": [],
   "source": [
    "def make_cascades(data : pd.DataFrame, vocab : dict, speakers : list) -> list:\n",
    "    cascades = [None] * len(vocab)\n",
    "    X = vec.transform(data['text'])\n",
    "    T = X.shape[0]\n",
    "    K = len(speakers)\n",
    "    for word,idx in vocab.items():\n",
    "        times = X[:,idx].nonzero()[0]\n",
    "        cascade = np.zeros((T,K)) # we represent the cascade as a matrix of times and sources\n",
    "        for time in times:\n",
    "            speaker = data.loc[time]['speaker']\n",
    "            if speaker in speakers:\n",
    "                cascade[time,speakers.index(speaker)] = X[time,idx]\n",
    "        cascades[idx] = cascade.astype('int')\n",
    "    return cascades"
   ]
  },
  {
   "cell_type": "code",
   "execution_count": 11,
   "metadata": {
    "slideshow": {
     "slide_type": "fragment"
    }
   },
   "outputs": [
    {
     "data": {
      "text/plain": [
       "(317, 10)"
      ]
     },
     "execution_count": 11,
     "metadata": {},
     "output_type": "execute_result"
    }
   ],
   "source": [
    "cascades = make_cascades(df, vec.vocabulary_, speakers)\n",
    "T = cascades[0].shape[0]\n",
    "cascades[11].shape"
   ]
  },
  {
   "cell_type": "code",
   "execution_count": 14,
   "metadata": {
    "slideshow": {
     "slide_type": "subslide"
    }
   },
   "outputs": [
    {
     "data": {
      "image/png": "[encoded data removed]",
      "text/plain": [
       "<Figure size 432x288 with 1 Axes>"
      ]
     },
     "metadata": {
      "needs_background": "light"
     },
     "output_type": "display_data"
    }
   ],
   "source": [
    "word = 'medicare'\n",
    "idx = vec.vocabulary_[word]\n",
    "time,speaker = cascades[idx].nonzero()\n",
    "plt.scatter(time,speaker,color='r',marker='x')\n",
    "plt.xlim(0,T)\n",
    "plt.ylim(0,len(speakers))\n",
    "plt.yticks(range(len(speakers)),speakers)\n",
    "plt.title(word);"
   ]
  },
  {
   "cell_type": "code",
   "execution_count": 13,
   "metadata": {
    "slideshow": {
     "slide_type": "subslide"
    }
   },
   "outputs": [
    {
     "data": {
      "image/png": "[encoded data removed]",
      "text/plain": [
       "<Figure size 432x288 with 1 Axes>"
      ]
     },
     "metadata": {
      "needs_background": "light"
     },
     "output_type": "display_data"
    }
   ],
   "source": [
    "word = 'obama'\n",
    "idx = vec.vocabulary_[word]\n",
    "time,speaker = cascades[idx].nonzero()\n",
    "plt.scatter(time,speaker,color='r',marker='x')\n",
    "plt.xlim(0,T)\n",
    "plt.ylim(0,len(speakers))\n",
    "plt.yticks(range(len(speakers)),speakers)\n",
    "plt.title(word);"
   ]
  },
  {
   "cell_type": "markdown",
   "metadata": {},
   "source": [
    "(try to plot the cascade for another word)"
   ]
  },
  {
   "cell_type": "markdown",
   "metadata": {
    "slideshow": {
     "slide_type": "slide"
    }
   },
   "source": [
    "# Modeling\n",
    "\n",
    "Now that we have a set of cascades, we can use a Hawkes Process to try to estimate influence between the speakers.\n",
    "\n",
    "First, we'll build a model. There are a few arguments:\n",
    "\n",
    "- $K$, the number of event sources (speakers);\n",
    "- whether to allow self-connections (in this case, no);\n",
    "- $B$, the number of bases of the time-decay kernel (arbitrarily set to $B=5$)."
   ]
  },
  {
   "cell_type": "code",
   "execution_count": 15,
   "metadata": {
    "slideshow": {
     "slide_type": "fragment"
    }
   },
   "outputs": [],
   "source": [
    "hp = pyhawkes.models.DiscreteTimeStandardHawkesModel(K, allow_self_connections=False, B=5, dt_max=10)"
   ]
  },
  {
   "cell_type": "markdown",
   "metadata": {
    "slideshow": {
     "slide_type": "subslide"
    }
   },
   "source": [
    "## Time-decay kernel details\n",
    "\n",
    "In `pyhawkes`, the kernel function is modeled as a sum over $B$ simple basis models,\n",
    "\\begin{equation}\n",
    "\\kappa_{i\\to j}(\\Delta t) = \\sum_{b=1}^B g_b^{(i \\to j)} \\phi_b(\\Delta t).\n",
    "\\end{equation}\n",
    "- As the number of basis models increases, the decay kernel can be increasingly complex. \n",
    "- Each basis model is an impulse function, which is required to sum to 1.\n",
    "- The weights over basis models, $g_b$, are dyad-specific."
   ]
  },
  {
   "cell_type": "code",
   "execution_count": 16,
   "metadata": {
    "slideshow": {
     "slide_type": "subslide"
    }
   },
   "outputs": [
    {
     "data": {
      "image/png": "[encoded data removed]",
      "text/plain": [
       "<Figure size 432x288 with 1 Axes>"
      ]
     },
     "metadata": {
      "needs_background": "light"
     },
     "output_type": "display_data"
    }
   ],
   "source": [
    "plt.plot(hp.basis.basis);"
   ]
  },
  {
   "cell_type": "markdown",
   "metadata": {
    "slideshow": {
     "slide_type": "subslide"
    }
   },
   "source": [
    "## Adding training data\n",
    "\n",
    "We have already generated the cascades; now we add them as training data to the model."
   ]
  },
  {
   "cell_type": "code",
   "execution_count": 16,
   "metadata": {
    "slideshow": {
     "slide_type": "fragment"
    }
   },
   "outputs": [],
   "source": [
    "for cascade in cascades:\n",
    "    hp.add_data(cascade)"
   ]
  },
  {
   "cell_type": "markdown",
   "metadata": {
    "slideshow": {
     "slide_type": "subslide"
    }
   },
   "source": [
    "## Training\n",
    "\n",
    "Training is performed by gradient descent. Each speaker's events can be handled separately, enabling parallelization. "
   ]
  },
  {
   "cell_type": "code",
   "execution_count": 17,
   "metadata": {
    "slideshow": {
     "slide_type": "skip"
    }
   },
   "outputs": [],
   "source": [
    "# Unfortunately `pyhawkes` doesn't give an easy way to suppress its output, so I have to do an ugly hack.\n",
    "from ipykernel.iostream import OutStream\n",
    "\n",
    "# to recreate stdout in the notebook\n",
    "session = sys.stdout.session\n",
    "pub_thread = sys.stdout.pub_thread\n",
    "stream_name = sys.stdout.name"
   ]
  },
  {
   "cell_type": "code",
   "execution_count": 18,
   "metadata": {
    "scrolled": true,
    "slideshow": {
     "slide_type": "fragment"
    }
   },
   "outputs": [],
   "source": [
    "# catch stdout\n",
    "sys.stdout = open('hp-output.txt', 'w')\n",
    "\n",
    "# train the model\n",
    "hp.fit_with_bfgs_logspace()\n",
    "\n",
    "# return stdout to the notebook\n",
    "sys.stdout = OutStream(session, pub_thread, stream_name)"
   ]
  },
  {
   "cell_type": "markdown",
   "metadata": {
    "slideshow": {
     "slide_type": "subslide"
    }
   },
   "source": [
    "### Results"
   ]
  },
  {
   "cell_type": "code",
   "execution_count": 19,
   "metadata": {
    "slideshow": {
     "slide_type": "fragment"
    }
   },
   "outputs": [
    {
     "data": {
      "image/png": "[encoded data removed]",
      "text/plain": [
       "<Figure size 432x288 with 2 Axes>"
      ]
     },
     "metadata": {
      "needs_background": "light"
     },
     "output_type": "display_data"
    }
   ],
   "source": [
    "plt.imshow(hp.W)\n",
    "plt.yticks(np.arange(len(speakers)),speakers);\n",
    "plt.xticks(np.arange(len(speakers)),speakers,rotation=90)\n",
    "plt.colorbar();"
   ]
  },
  {
   "cell_type": "markdown",
   "metadata": {
    "slideshow": {
     "slide_type": "subslide"
    }
   },
   "source": [
    "The audience questioners are strongly predictive of the speech of candidate Michelle Bachman, possibly reflecting a back-and-forth. Let's see if we can find it."
   ]
  },
  {
   "cell_type": "code",
   "execution_count": 20,
   "metadata": {
    "slideshow": {
     "slide_type": "skip"
    }
   },
   "outputs": [],
   "source": [
    "from IPython.display import HTML as html_print"
   ]
  },
  {
   "cell_type": "code",
   "execution_count": 21,
   "metadata": {
    "slideshow": {
     "slide_type": "skip"
    }
   },
   "outputs": [],
   "source": [
    "def highlight_hits(text, wordlist, tokenizer):\n",
    "    tokens = tokenizer(text)\n",
    "    #print(tokens)\n",
    "    new_tokens = [f'<b>{token}</b>' if token.lower() in wordlist else token for token in tokens]\n",
    "    #print(new_tokens)\n",
    "    return ' '.join(new_tokens)"
   ]
  },
  {
   "cell_type": "code",
   "execution_count": 22,
   "metadata": {
    "slideshow": {
     "slide_type": "skip"
    }
   },
   "outputs": [],
   "source": [
    "def get_ab_pairs(data : pd.DataFrame,\n",
    "                 speaker1 : str, \n",
    "                 speaker2 : str, \n",
    "                 max_gap : int = 3,\n",
    "                 wordlist : list = [],\n",
    "                 tokenizer = None):\n",
    "    outputs = []\n",
    "    for line, (speaker, text) in data.loc[data['speaker']==speaker1].iterrows():\n",
    "        responses = data.loc[line:line+max_gap]\n",
    "        s2_lines = responses.loc[responses['speaker']==speaker2]\n",
    "        if len(s2_lines) > 0:\n",
    "            if tokenizer is not None:\n",
    "                html = highlight_hits(text, wordlist, tokenizer)\n",
    "            #print(text)\n",
    "            output = f'<UL><LI>{speaker1}({line}): {html}'\n",
    "            hit_words = [word for word in list(set(wordlist).intersection(\n",
    "                set([word.lower() for word in tokenizer(text)])))]\n",
    "            #print(hit_words)\n",
    "            \n",
    "            for line2, (_, text2) in s2_lines.iterrows():\n",
    "                if tokenizer is not None:\n",
    "                    html = highlight_hits(text2, hit_words, tokenizer)\n",
    "                output+=(f'<LI>{speaker2}({line2}): {html}')\n",
    "            output+='</UL>'\n",
    "            outputs.append(output)\n",
    "            \n",
    "    return outputs"
   ]
  },
  {
   "cell_type": "code",
   "execution_count": 23,
   "metadata": {
    "slideshow": {
     "slide_type": "skip"
    }
   },
   "outputs": [],
   "source": [
    "tokenizer = vec.build_tokenizer()\n",
    "wordlist = list(vec.vocabulary_.keys())"
   ]
  },
  {
   "cell_type": "markdown",
   "metadata": {
    "slideshow": {
     "slide_type": "subslide"
    }
   },
   "source": [
    "Printing nearby turns"
   ]
  },
  {
   "cell_type": "code",
   "execution_count": 24,
   "metadata": {
    "slideshow": {
     "slide_type": "fragment"
    }
   },
   "outputs": [
    {
     "name": "stdout",
     "output_type": "stream",
     "text": [
      "2\n"
     ]
    }
   ],
   "source": [
    "# see the notebook for this function\n",
    "pairs = get_ab_pairs(df,'Q','BACHMANN',wordlist=wordlist,tokenizer=tokenizer)\n",
    "print(len(pairs))"
   ]
  },
  {
   "cell_type": "code",
   "execution_count": 25,
   "metadata": {
    "slideshow": {
     "slide_type": "fragment"
    }
   },
   "outputs": [
    {
     "data": {
      "text/html": [
       "<UL><LI>Q(35): Yes As journalist who written frequently about health care and medicine for both newspapers and for corporate publications very <b>concerned</b> about the overreach of the massive health care <b>legislation</b> that was passed last year My question is what would each <b>candidate</b> do What three steps would they take to de fund <b>Obamacare</b> and <b>repeal</b> it as soon as possible Thank you<LI>BACHMANN(37): Thank you John Sylvia thank you for that great question was the very first member of Congress to introduce the full scale <b>repeal</b> of <b>Obamacare</b> And want to make promise to everyone watching tonight As president of the United States will not rest until <b>repeal</b> <b>Obamacare</b> It promise Take it to the bank cash the check ll make sure that that happens This is the symbol and the signature issue of President Obama during his entire tenure And this is job killer Sylvia The CBO the Congressional Budget Office has said that <b>Obamacare</b> will kill jobs What could the president be thinking by passing bill like this knowing full well it will kill jobs Senior citizens get this more than any other segment of our population because they know in <b>Obamacare</b> the president of the United States took away billion half trillion dollars out of Medicare shifted it to <b>Obamacare</b> to pay for younger people and it senior citizens who have the most to lose in <b>Obamacare</b></UL>"
      ],
      "text/plain": [
       "<IPython.core.display.HTML object>"
      ]
     },
     "execution_count": 25,
     "metadata": {},
     "output_type": "execute_result"
    }
   ],
   "source": [
    "html_print(pairs[0])"
   ]
  },
  {
   "cell_type": "code",
   "execution_count": 26,
   "metadata": {
    "slideshow": {
     "slide_type": "subslide"
    }
   },
   "outputs": [
    {
     "data": {
      "text/html": [
       "<UL><LI>Q(277): like to know your opinion on your involvement with <b>Libya</b><LI>BACHMANN(279): No don believe so it is That isn just my opinion That was the opinion of our defense secretary Gates when he came before the United States Congress He could not identify vital national American interest in <b>Libya</b> Our policy in <b>Libya</b> is substantially flawed It interesting President Obama own people said that he was leading from behind The United States doesn lead from behind As commander in chief would not lead from behind We are the head We are not the tail The president was wrong All we have to know is the president deferred leadership in <b>Libya</b> to France That all we need to know The president was not leading when it came to <b>Libya</b> First of all we were not attacked We were not threatened with attack There was no vital national interest sit on the House Select Committee on Intelligence We deal with the nation vital classified secrets We to this day don yet know who the rebel forces are that we re helping There are some reports that they may contain al Qaeda of North Africa What possible vital American interests could we have to empower al Qaeda of North Africa and <b>Libya</b> The president was absolutely wrong in his decision on <b>Libya</b></UL>"
      ],
      "text/plain": [
       "<IPython.core.display.HTML object>"
      ]
     },
     "execution_count": 26,
     "metadata": {},
     "output_type": "execute_result"
    }
   ],
   "source": [
    "html_print(pairs[1])"
   ]
  },
  {
   "cell_type": "markdown",
   "metadata": {
    "slideshow": {
     "slide_type": "subslide"
    }
   },
   "source": [
    "Let's try some other dyads"
   ]
  },
  {
   "cell_type": "code",
   "execution_count": 27,
   "metadata": {
    "slideshow": {
     "slide_type": "fragment"
    }
   },
   "outputs": [
    {
     "name": "stdout",
     "output_type": "stream",
     "text": [
      "0\n"
     ]
    }
   ],
   "source": [
    "pairs = get_ab_pairs(df,'Q','ROMNEY',wordlist=wordlist,tokenizer=tokenizer)\n",
    "print(len(pairs))"
   ]
  },
  {
   "cell_type": "code",
   "execution_count": 28,
   "metadata": {
    "slideshow": {
     "slide_type": "fragment"
    }
   },
   "outputs": [
    {
     "name": "stdout",
     "output_type": "stream",
     "text": [
      "0\n"
     ]
    }
   ],
   "source": [
    "pairs = get_ab_pairs(df,'Q','GINGRICH',wordlist=wordlist,tokenizer=tokenizer)\n",
    "print(len(pairs))"
   ]
  },
  {
   "cell_type": "code",
   "execution_count": 29,
   "metadata": {
    "slideshow": {
     "slide_type": "subslide"
    }
   },
   "outputs": [
    {
     "name": "stdout",
     "output_type": "stream",
     "text": [
      "1\n"
     ]
    }
   ],
   "source": [
    "pairs = get_ab_pairs(df,'Q','SANTORUM',wordlist=wordlist,tokenizer=tokenizer)\n",
    "print(len(pairs))"
   ]
  },
  {
   "cell_type": "code",
   "execution_count": 30,
   "metadata": {
    "slideshow": {
     "slide_type": "fragment"
    }
   },
   "outputs": [
    {
     "data": {
      "text/html": [
       "<UL><LI>Q(242): As naturalized American <b>citizen</b> who came here legally would like to know how you as America as president plan to prevent illegal immigrants from using our health care educational or welfare systems<LI>SANTORUM(244): Well the son of legal immigrant in this country and and believe in legal immigration That is great wellspring of of strength for our country But we cannot continue to provide the federal government should not require states to provide government services And have consistently voted against that and believe that we are unfortunately my grandfather came to this country announced in Somerset County He didn come here because he was guaranteed government benefit He came here because he wanted freedom And think most people who come to this country certainly all people who come here legally want it because they wanted the opportunities of this country And that what we should be offering We should not be offering to people particularly those who broke the law to come here or overstayed their visa we should not be offering government benefits</UL>"
      ],
      "text/plain": [
       "<IPython.core.display.HTML object>"
      ]
     },
     "execution_count": 30,
     "metadata": {},
     "output_type": "execute_result"
    }
   ],
   "source": [
    "html_print(pairs[0])"
   ]
  },
  {
   "cell_type": "markdown",
   "metadata": {
    "slideshow": {
     "slide_type": "notes"
    }
   },
   "source": [
    "Other candidates either didn't get a chance to directly answer audience questions, or chose not to reuse terms from the question."
   ]
  },
  {
   "cell_type": "markdown",
   "metadata": {
    "slideshow": {
     "slide_type": "subslide"
    }
   },
   "source": [
    "## Candidate interactions \n",
    "\n",
    "Now let's look at the interactions between the candidates themselves."
   ]
  },
  {
   "cell_type": "code",
   "execution_count": 31,
   "metadata": {
    "slideshow": {
     "slide_type": "fragment"
    }
   },
   "outputs": [
    {
     "data": {
      "image/png": "[encoded data removed]",
      "text/plain": [
       "<Figure size 432x288 with 2 Axes>"
      ]
     },
     "metadata": {
      "needs_background": "light"
     },
     "output_type": "display_data"
    }
   ],
   "source": [
    "plt.imshow(hp.W[1:-2,1:-2])\n",
    "plt.yticks(np.arange(len(speakers)-3),speakers[1:-2]);\n",
    "plt.xticks(np.arange(len(speakers)-3),speakers[1:-2],rotation=90)\n",
    "plt.colorbar();"
   ]
  },
  {
   "cell_type": "markdown",
   "metadata": {
    "slideshow": {
     "slide_type": "subslide"
    }
   },
   "source": [
    "The largest parameter is from Gingrich to Santorum. Let's look at their interactions."
   ]
  },
  {
   "cell_type": "code",
   "execution_count": 32,
   "metadata": {
    "slideshow": {
     "slide_type": "skip"
    }
   },
   "outputs": [
    {
     "name": "stdout",
     "output_type": "stream",
     "text": [
      "3\n"
     ]
    }
   ],
   "source": [
    "pairs = get_ab_pairs(df,'GINGRICH','SANTORUM',wordlist=wordlist,tokenizer=tokenizer)\n",
    "print(len(pairs))"
   ]
  },
  {
   "cell_type": "code",
   "execution_count": 33,
   "metadata": {
    "slideshow": {
     "slide_type": "subslide"
    }
   },
   "outputs": [
    {
     "data": {
      "text/html": [
       "<UL><LI>GINGRICH(54): Yes it should be If you if you explore the mandate which even the Heritage Foundation at one time <b>looked</b> at the fact is when you get into an mandate it ultimately ends up with unconstitutional powers It allows the government to define virtually everything And if you can do it for health care you can do it for everything in your life and therefore we should not have mandate But want to answer Sylvia at different level This <b>campaign</b> <b>cannot</b> be only about the presidency We need to <b>pick</b> up at least seats in the <b>Senate</b> and or more seats in the House because if you are <b>serious</b> about repealing <b>Obamacare</b> you have to be <b>serious</b> about building big enough majority in the legislative branch that you could actually in the first days pass the <b>legislation</b> So just think it very important to understand it not about what one person in America does It about what the American people do And that requires senatorial majority as well as presidency<LI>SANTORUM(57): Well if you look at my record someone who actually accomplished lot on big issues Take for example welfare reform was in the United States <b>Senate</b> and actually at the direction of Newt Gingrich was on the Ways and Means Committee and drafted the Contract with America Welfare Reform Bill It was considered this extreme measure Well that extreme measure we ended up winning an election and getting those seats And that was now the starting point And managed that bill in the United States <b>Senate</b> because cared about the dignity of every person didn believe that poverty was the ultimate disability believed that people could work and they could succeed And we brought people together got votes to end federal entitlement to end federal entitlement which was what Paul Ryan proposed for Medicaid he proposed for food stamps he proposed for other welfare programs We did it We set the template and led and got bipartisan support to do it</UL>"
      ],
      "text/plain": [
       "<IPython.core.display.HTML object>"
      ]
     },
     "execution_count": 33,
     "metadata": {},
     "output_type": "execute_result"
    }
   ],
   "source": [
    "html_print(pairs[0])"
   ]
  },
  {
   "cell_type": "markdown",
   "metadata": {
    "slideshow": {
     "slide_type": "subslide"
    }
   },
   "source": [
    "Here the connection is spurious: Gingrich mentions the need for winning seats in the Senate, and then Santorum talks about what he accomplished in the Senate."
   ]
  },
  {
   "cell_type": "code",
   "execution_count": 34,
   "metadata": {
    "slideshow": {
     "slide_type": "subslide"
    }
   },
   "outputs": [
    {
     "data": {
      "text/html": [
       "<UL><LI>GINGRICH(152): two examples<LI>SANTORUM(154): No We have trillion deficit and it isn getting any better anytime soon We have to deal with this problem now And what Paul Ryan has suggested which wholeheartedly support is to use program that is identical to what seniors already have It called Medicare Part They have program right now which seniors like It is program that called premium support program We give seniors depending on income certain amount of money so they can go out and they can purchase health care that they want that helps them and this is the key John we need to include seniors in controlling costs What President Obama let me finish please what President Obama has done is he put in in the Obamacare bill the Independent Payment Advisory Board Ladies and gentlemen seniors Medicare is going to be cut starting in by the federal government and it going to be rationing of care from the top down What Paul Ryan and Rick Santorum want to do which is not radical which is take program Medicare prescription drugs that is percent under budget because seniors are involved in controlling costs and apply it all to Medicare It is the right approach for Medicare</UL>"
      ],
      "text/plain": [
       "<IPython.core.display.HTML object>"
      ]
     },
     "execution_count": 34,
     "metadata": {},
     "output_type": "execute_result"
    }
   ],
   "source": [
    "html_print(pairs[1])"
   ]
  },
  {
   "cell_type": "code",
   "execution_count": 35,
   "metadata": {
    "slideshow": {
     "slide_type": "subslide"
    }
   },
   "outputs": [
    {
     "data": {
      "text/html": [
       "<UL><LI>GINGRICH(210): Well helped author the Defense of <b>Marriage</b> Act which the <b>Obama</b> administration should be frankly protecting in court think if that fails at that point you have no choice except to <b>ph</b> <b>constitutional</b> <b>amendment</b><LI>SANTORUM(212): <b>Constitutional</b> <b>amendment</b> Look the <b>constitutional</b> <b>amendment</b> includes the states Three quarters of the states have to have to ratify it So the states will be involved in this process We should have one law in the country with respect to <b>marriage</b> There needs to be consistency on something as foundational as what <b>marriage</b> is</UL>"
      ],
      "text/plain": [
       "<IPython.core.display.HTML object>"
      ]
     },
     "execution_count": 35,
     "metadata": {},
     "output_type": "execute_result"
    }
   ],
   "source": [
    "html_print(pairs[2])"
   ]
  },
  {
   "cell_type": "markdown",
   "metadata": {
    "slideshow": {
     "slide_type": "fragment"
    }
   },
   "source": [
    "In this case, Gingrich mentions the need for a constitutional amendment, and then Santorum follows up by making a similar argument."
   ]
  },
  {
   "cell_type": "markdown",
   "metadata": {
    "slideshow": {
     "slide_type": "slide"
    }
   },
   "source": [
    "# Hypothesis testing\n",
    "\n",
    "- Are these parameters a meaningful indicator of discursive influence? \n",
    "- To answer this, let's compare the parameters with their **standard errors**\n",
    "- In regression, it is easy to compute standard errors in closed form.\n",
    "- In the Hawkes Process, it is not easy; there are solutions that work in the limit $T \\to \\infty$, but not for short samples."
   ]
  },
  {
   "cell_type": "markdown",
   "metadata": {
    "slideshow": {
     "slide_type": "subslide"
    }
   },
   "source": [
    "[Reinhart 2017](https://arxiv.org/pdf/1708.02647.pdf) proposes a **parametric bootstrap**:\n",
    "\n",
    "- Estimate parameters $\\hat{\\Theta}$ from the real data.\n",
    "- Repeat:\n",
    "    - Generate new data $\\tilde{X}^{(i)} \\sim f(\\hat{\\Theta})$\n",
    "    - Estimate parameters $\\tilde{\\Theta}^{(i)}$ from $\\tilde{X}^{(i)}$\n",
    "- Compute the desired standard errors or confidence interval from $\\{\\tilde{\\Theta}^{(i)}\\}_{i=1}^N$"
   ]
  },
  {
   "cell_type": "code",
   "execution_count": 38,
   "metadata": {
    "slideshow": {
     "slide_type": "skip"
    }
   },
   "outputs": [],
   "source": [
    "# save the current model, since the following lines are destructive\n",
    "datadir = os.path.join('..','data')\n",
    "hawkesfile = os.path.join(datadir,'hawkes.pkl')\n",
    "with open(hawkesfile,'wb') as fout:\n",
    "    pickle.dump(hp,fout)\n",
    "    \n",
    "with open(hawkesfile,'rb') as fin:\n",
    "    hp_copy = pickle.load(fin)\n"
   ]
  },
  {
   "cell_type": "code",
   "execution_count": 39,
   "metadata": {
    "slideshow": {
     "slide_type": "subslide"
    }
   },
   "outputs": [],
   "source": [
    "# make a new stochastic model, from which we can sample\n",
    "hp_gen = pyhawkes.models.DiscreteTimeNetworkHawkesModelGammaMixture(K=len(speakers),dt=1,B=5)\n",
    "\n",
    "# initialize to trained hp\n",
    "hp_gen.initialize_with_standard_model(hp)\n",
    "\n",
    "# generate a bunch of cascades\n",
    "cascades_samp = [hp_gen.generate(T=T)[0] for _ in range(len(cascades))]\n",
    "\n",
    "# re-estimate from these cascades\n",
    "hp_to_fit = pyhawkes.models.DiscreteTimeStandardHawkesModel(K=len(speakers),dt=1,B=5,\n",
    "                                                            allow_self_connections=False)\n",
    "for cascade in cascades_samp:\n",
    "    hp_to_fit.add_data(cascade)\n",
    "hp_to_fit.fit_with_bfgs_logspace()\n",
    "\n",
    "# do this many times"
   ]
  },
  {
   "cell_type": "code",
   "execution_count": 40,
   "metadata": {
    "slideshow": {
     "slide_type": "skip"
    }
   },
   "outputs": [],
   "source": [
    "run_it_yourself = False\n",
    "bootstrap_file = os.path.join(datadir,'bootstrap-params.npy')"
   ]
  },
  {
   "cell_type": "code",
   "execution_count": 41,
   "metadata": {
    "scrolled": true,
    "slideshow": {
     "slide_type": "skip"
    }
   },
   "outputs": [],
   "source": [
    "N_samp = 50\n",
    "if run_it_yourself:\n",
    "    params = []\n",
    "    for _ in tqdm(range(N_samp)):\n",
    "        cascades_samp = [hp_gen.generate(T=T)[0] for _ in range(len(cascades))]\n",
    "        hp_to_fit = pyhawkes.models.DiscreteTimeStandardHawkesModel(K=len(speakers),dt=1,B=5,\n",
    "                                                                    allow_self_connections=False)\n",
    "        for cascade in cascades_samp:\n",
    "            hp_to_fit.add_data(cascade)\n",
    "        old_stdout = sys.stdout\n",
    "        sys.stdout = open('stdout.txt', 'w')\n",
    "        hp_to_fit.fit_with_bfgs_logspace()\n",
    "        sys.stdout = old_stdout\n",
    "        params.append(hp_to_fit.W)\n",
    "    bootstrap_params = np.stack(params)\n",
    "    np.savetxt(bootstrap_file,np.stack(params).reshape(N_samp*len(speakers),len(speakers)))\n",
    "else:\n",
    "    bootstrap_params = np.loadtxt(bootstrap_file).reshape(N_samp, len(speakers), len(speakers))"
   ]
  },
  {
   "cell_type": "markdown",
   "metadata": {
    "slideshow": {
     "slide_type": "subslide"
    }
   },
   "source": [
    "## Interpreting the bootstrap samples\n",
    "\n",
    "The bootstrap samples give a sense of the possible variation for each parameter, which is due to the limited size of the training data. \n",
    "\n",
    "Let's visualize the set of excitation parameters from a single source, GINGRICH:"
   ]
  },
  {
   "cell_type": "code",
   "execution_count": 42,
   "metadata": {
    "slideshow": {
     "slide_type": "subslide"
    }
   },
   "outputs": [
    {
     "data": {
      "image/png": "[encoded data removed]",
      "text/plain": [
       "<Figure size 432x288 with 1 Axes>"
      ]
     },
     "metadata": {
      "needs_background": "light"
     },
     "output_type": "display_data"
    }
   ],
   "source": [
    "plt.plot(bootstrap_params[:,speakers.index('GINGRICH'),].T,color='b',alpha=0.2)\n",
    "plt.xticks(range(len(speakers)),speakers,rotation=90);"
   ]
  },
  {
   "cell_type": "markdown",
   "metadata": {
    "slideshow": {
     "slide_type": "fragment"
    }
   },
   "source": [
    "This suggests that we can be confident about the excitation from Gingrich to Santorum, but less so about Gingrich's excitation on other participants."
   ]
  },
  {
   "cell_type": "markdown",
   "metadata": {
    "slideshow": {
     "slide_type": "subslide"
    }
   },
   "source": [
    "Here's the same figure for excitation from the \"Questioner\" role:"
   ]
  },
  {
   "cell_type": "code",
   "execution_count": 43,
   "metadata": {
    "slideshow": {
     "slide_type": "fragment"
    }
   },
   "outputs": [
    {
     "data": {
      "image/png": "[encoded data removed]",
      "text/plain": [
       "<Figure size 432x288 with 1 Axes>"
      ]
     },
     "metadata": {
      "needs_background": "light"
     },
     "output_type": "display_data"
    }
   ],
   "source": [
    "plt.plot(bootstrap_params[:,speakers.index('Q'),].T,color='b',alpha=0.2)\n",
    "plt.xticks(range(len(speakers)),speakers,rotation=90);"
   ]
  },
  {
   "cell_type": "markdown",
   "metadata": {
    "slideshow": {
     "slide_type": "fragment"
    }
   },
   "source": [
    "We find strong evidence of excitation on Bachmann, but weaker evidence for most other recipients."
   ]
  },
  {
   "cell_type": "markdown",
   "metadata": {
    "slideshow": {
     "slide_type": "subslide"
    }
   },
   "source": [
    "## Summarizing the bootstrap sample\n",
    "\n",
    "Let's view the sample mean and the $z$-scores (mean divided by standard error)"
   ]
  },
  {
   "cell_type": "code",
   "execution_count": 44,
   "metadata": {
    "slideshow": {
     "slide_type": "fragment"
    }
   },
   "outputs": [],
   "source": [
    "z_scores = bootstrap_params.mean(0) / (1e-10 + bootstrap_params.std(0))"
   ]
  },
  {
   "cell_type": "code",
   "execution_count": 45,
   "metadata": {
    "slideshow": {
     "slide_type": "subslide"
    }
   },
   "outputs": [
    {
     "data": {
      "image/png": "[encoded data removed]",
      "text/plain": [
       "<Figure size 432x288 with 4 Axes>"
      ]
     },
     "metadata": {
      "needs_background": "light"
     },
     "output_type": "display_data"
    }
   ],
   "source": [
    "fig, (ax1, ax2) = plt.subplots(1,2,sharey=True)\n",
    "\n",
    "im_mean = ax1.imshow((bootstrap_params.mean(0)))\n",
    "fig.colorbar(im_mean, ax=ax1)\n",
    "ax1.set_title('mean parameter');\n",
    "\n",
    "im_z = ax2.imshow(z_scores)\n",
    "fig.colorbar(im_z, ax=ax2)\n",
    "ax2.set_title('z-scores');\n",
    "\n",
    "ax1.set_yticks(range(len(speakers)))\n",
    "ax1.set_yticklabels(speakers);\n",
    "for ax in [ax1, ax2]:\n",
    "    ax.set_xticks(np.arange(len(speakers)));\n",
    "    ax.set_xticklabels(speakers,rotation=90);"
   ]
  },
  {
   "cell_type": "markdown",
   "metadata": {
    "slideshow": {
     "slide_type": "subslide"
    }
   },
   "source": [
    "- Although the parameter $(Q \\to \\text{Bachmann})$ has the largest magnitude, it does not have the highest $z$-score, because of large standard errors across samples.\n",
    "- The (Gingrich $\\to$ Santorum) dyad has the highest z-score, indicating the greatest confidence that its high value is not due to variance in the training sample."
   ]
  },
  {
   "cell_type": "markdown",
   "metadata": {
    "slideshow": {
     "slide_type": "skip"
    }
   },
   "source": [
    "How big of a $z$-score do we need to conclude that one individual consistently leads another?\n",
    "\n",
    "- We have $p < \\alpha$ when $\\Phi(-|z|) < \\alpha$, with $\\Phi$ indicating the cumulative distribution function (CDF) of the normal distribution.\n",
    "- The threshold $z$ score can be computed from the Percent Point Function (PPF), which is the inverse of the CDF.\n",
    "- A one-tailed test is appropriate here, since Hawkes process parameters are non-negative."
   ]
  },
  {
   "cell_type": "code",
   "execution_count": 46,
   "metadata": {
    "slideshow": {
     "slide_type": "skip"
    }
   },
   "outputs": [
    {
     "data": {
      "text/plain": [
       "1.6448536269514729"
      ]
     },
     "execution_count": 46,
     "metadata": {},
     "output_type": "execute_result"
    }
   ],
   "source": [
    "from scipy.stats import norm\n",
    "\n",
    "-norm.ppf(.05)"
   ]
  },
  {
   "cell_type": "markdown",
   "metadata": {
    "slideshow": {
     "slide_type": "skip"
    }
   },
   "source": [
    "- However, we are evaluating many parameters, not just one: in this case, $10 \\times 9 = 90$\n",
    "- At $p = .05$, we would accept $4.5$ Type I errors.\n",
    "- The **Bonferroni correction** adjusts the threshold to $p / N$, where $N$ is the number of hypothesis tests (in this case, $N=90$).\n",
    "- We can compute a corresponding threshold $z$-score for the parameter estimates."
   ]
  },
  {
   "cell_type": "code",
   "execution_count": 47,
   "metadata": {
    "slideshow": {
     "slide_type": "skip"
    }
   },
   "outputs": [
    {
     "data": {
      "image/png": "[encoded data removed]",
      "text/plain": [
       "<Figure size 432x288 with 1 Axes>"
      ]
     },
     "metadata": {
      "needs_background": "light"
     },
     "output_type": "display_data"
    }
   ],
   "source": [
    "adjusted_p_val = .05 / (len(speakers) * (len(speakers)-1))\n",
    "threshold = norm.ppf(1 - adjusted_p_val)\n",
    "plt.imshow(z_scores > threshold)\n",
    "plt.yticks(np.arange(len(speakers)),speakers);\n",
    "plt.xticks(np.arange(len(speakers)),speakers,rotation=90)\n",
    "plt.title(f'$z$ > {threshold:.3f}');"
   ]
  },
  {
   "cell_type": "markdown",
   "metadata": {
    "slideshow": {
     "slide_type": "skip"
    }
   },
   "source": [
    "- The only dyads that pass the threshold are (Q $\\to$ Bachmann) and (Gingrich $\\to$ Santorum).\n",
    "- The Bonferroni correction ensures that the expected number of Type I errors is $\\alpha$, but this may be to conservative.\n",
    "- The Benjamini-Hochberg **False Discovery Rate** (FDR) controls the probability of making a single Type I error, and generally results in a rejection threshold that is less conservative than $\\alpha / N$."
   ]
  },
  {
   "cell_type": "markdown",
   "metadata": {
    "slideshow": {
     "slide_type": "skip"
    }
   },
   "source": [
    "- You may feel that because Romney responded to King so many times, we should downweight the number of times that Romney followed King's lexical choices.\n",
    "- But the Hawkes Process model is not designed this way: it treats Romney's decision to respond as part of the data to explain, rather than conditioning on conversational structure (who spoke when) and modeling only the text.\n",
    "- **Exercise**: how would you model lexical decisions conditioned on the conversational structure? When is each model appropriate?"
   ]
  },
  {
   "cell_type": "markdown",
   "metadata": {
    "slideshow": {
     "slide_type": "subslide"
    }
   },
   "source": [
    "# Extensions\n",
    "\n",
    "- There are several other debate transcripts available in the data directory. Load in another one, and see whether the same patterns of influence hold.\n",
    "- Explore better grouping/filtering of words to cascades, and see how this affects the results.\n",
    "- In the last term's debate, Marco Rubio repeated a line [a number of times to the extent that even Chris Christie noticed](https://time.com/4210991/marco-rubio-gop-debate-new-hampshire/). Does this happen more often than we think? Explore this by modeling using HP by setting a self-excitation parameter and comparing it with the average excitation from others that a candidate gets.\n",
    "- One possible theory of electoral debates is that candidates who are leading in the polls will try to stick to their original message, and not get drawn into arguments with other candidates. Test this hypothesis by comparing Hawkes Process parameters against [polling data](https://www.realclearpolitics.com/epolls/2012/president/us/republican_presidential_nomination-1452.html) (cf. [Prabhakaran et al 2013](https://cs.stanford.edu/~vinod/papers/2013_10_IJCNLP_Ranking_Participants_of_Interactions_Based_on_Their_Relative_Power.pdf))\n"
   ]
  }
 ],
 "metadata": {
  "celltoolbar": "Slideshow",
  "kernelspec": {
   "display_name": "Python 3",
   "language": "python",
   "name": "python3"
  },
  "language_info": {
   "codemirror_mode": {
    "name": "ipython",
    "version": 3
   },
   "file_extension": ".py",
   "mimetype": "text/x-python",
   "name": "python",
   "nbconvert_exporter": "python",
   "pygments_lexer": "ipython3",
   "version": "3.7.3"
  }
 },
 "nbformat": 4,
 "nbformat_minor": 2
}
