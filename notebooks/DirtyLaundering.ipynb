{
 "cells": [
  {
   "cell_type": "markdown",
   "metadata": {
    "slideshow": {
     "slide_type": "slide"
    }
   },
   "source": [
    "# Dynamic Word Embeddings\n",
    "\n",
    "- by Jacob Eisenstein, May 2019\n",
    "\n",
    "The previous notebook tracked how words were used by different groups over time. \n",
    "Now we'll explore how words change meaning over time, using dynamic word embeddings. The specific goals are:\n",
    "\n",
    "- Identify near-neighbors of words at various periods in time.\n",
    "- Align word embeddings over time using by solving an orthogonal Procrustes problem.\n",
    "- Rank words by semantic change from 1900 to 1990, using \"first-order\" (embedding-based) and \"second-order\" (neighbor-based) techniques."
   ]
  },
  {
   "cell_type": "markdown",
   "metadata": {
    "slideshow": {
     "slide_type": "subslide"
    }
   },
   "source": [
    "## Data acquisition\n",
    "\n",
    "Because training dynamic word embeddings is time-consuming, we'll use pretrained embeddings from [Hamilton et al](https://github.com/williamleif/histwords). As before, these embeddings are available in the [bitbucket repository](https://bitbucket.org/jacobeisenstein/language-change-tutorial-data/src/master/embeddings-over-time.tgz). \n",
    "\n",
    "1. If you have not already cloned it, please run:\n",
    "\n",
    "```\n",
    "git clone https://bitbucket.org/jacobeisenstein/language-change-tutorial-data.git\n",
    "\n",
    "```\n",
    "2. Then link or move the directory into `../data`,\n",
    "```\n",
    "cd data; ln -s ../language-change-tutorial-data/embeddings-over-time\n",
    "```\n"
   ]
  },
  {
   "cell_type": "code",
   "execution_count": 1,
   "metadata": {
    "slideshow": {
     "slide_type": "skip"
    }
   },
   "outputs": [],
   "source": [
    "import os\n",
    "from glob import glob\n",
    "import pickle\n",
    "\n",
    "import numpy as np\n",
    "import pandas as pd\n",
    "import matplotlib.pyplot as plt\n",
    "%matplotlib inline\n",
    "\n",
    "from tqdm import tqdm_notebook as tqdm # convenient progressbar"
   ]
  },
  {
   "cell_type": "markdown",
   "metadata": {
    "slideshow": {
     "slide_type": "subslide"
    }
   },
   "source": [
    "## Data loading"
   ]
  },
  {
   "cell_type": "code",
   "execution_count": 3,
   "metadata": {
    "slideshow": {
     "slide_type": "fragment"
    }
   },
   "outputs": [
    {
     "name": "stdout",
     "output_type": "stream",
     "text": [
      "[1800, 1850, 1900, 1950, 1990]\n"
     ]
    }
   ],
   "source": [
    "base_dir = os.path.join('..','data','embeddings-over-time') # make sure you expand the tar file in ../data\n",
    "vocs = pickle.load(open(os.path.join(base_dir,'embeddings-over-time-vocabs.pkl'),'rb'))\n",
    "years = list(vocs.keys())\n",
    "print(years)\n",
    "vecs = dict()\n",
    "vec_arrays = np.load(os.path.join(base_dir,'embeddings-over-time.npz'))\n",
    "for vec,year in zip(vec_arrays.values(),years):\n",
    "    vecs[year] = vec"
   ]
  },
  {
   "cell_type": "markdown",
   "metadata": {
    "slideshow": {
     "slide_type": "subslide"
    }
   },
   "source": [
    "Inspection"
   ]
  },
  {
   "cell_type": "code",
   "execution_count": 4,
   "metadata": {
    "slideshow": {
     "slide_type": "fragment"
    }
   },
   "outputs": [
    {
     "data": {
      "text/plain": [
       "array([1., 1., 1., ..., 1., 1., 1.])"
      ]
     },
     "execution_count": 4,
     "metadata": {},
     "output_type": "execute_result"
    }
   ],
   "source": [
    "(vecs[1900]**2).sum(1)"
   ]
  },
  {
   "cell_type": "markdown",
   "metadata": {
    "slideshow": {
     "slide_type": "fragment"
    }
   },
   "source": [
    "Vectors are initialized to have a Euclidean norm of $1$. There are 10,000 words per year, listed in `vocs[year]`."
   ]
  },
  {
   "cell_type": "markdown",
   "metadata": {
    "slideshow": {
     "slide_type": "slide"
    }
   },
   "source": [
    "# Near neighbors\n",
    "\n",
    "Let's start by computing some near neighbors. In general, this is done by computing cosine similarity between word vectors,\n",
    "\\begin{equation}\n",
    "s(\\vec{x},\\vec{y}) = \\frac{\\vec{x} \\cdot \\vec{y}}{||\\vec{x}|| \\times || \\vec{y} ||}.\n",
    "\\end{equation}\n",
    "\n",
    "However, because these embeddings have a guaranteed norm of 1, the denominator can be ignored, so we need only consider the dot product."
   ]
  },
  {
   "cell_type": "code",
   "execution_count": 5,
   "metadata": {
    "slideshow": {
     "slide_type": "subslide"
    }
   },
   "outputs": [],
   "source": [
    "def neighbors(query : str,\n",
    "              embs: np.ndarray,\n",
    "              vocab: list,\n",
    "              K : int = 3) -> list:\n",
    "    sims = np.dot(embs[vocab.index(query),],embs.T)\n",
    "    output = []\n",
    "    for sim_idx in sims.argsort()[::-1][1:(1+K)]:\n",
    "        if sims[sim_idx] > 0:\n",
    "            output.append(vocab[sim_idx])\n",
    "    return output"
   ]
  },
  {
   "cell_type": "code",
   "execution_count": 6,
   "metadata": {
    "slideshow": {
     "slide_type": "fragment"
    }
   },
   "outputs": [],
   "source": [
    "# a convenience function to compute the nearest neighbors per year\n",
    "def neighbors_per_year(query: str, K=5) -> dict:\n",
    "    nns = dict()\n",
    "    for year, embs in vecs.items():\n",
    "        nns[year] = neighbors(query, embs, vocs[year], K=K)\n",
    "    return nns"
   ]
  },
  {
   "cell_type": "markdown",
   "metadata": {
    "slideshow": {
     "slide_type": "subslide"
    }
   },
   "source": [
    "## Examples"
   ]
  },
  {
   "cell_type": "code",
   "execution_count": 7,
   "metadata": {
    "slideshow": {
     "slide_type": "fragment"
    }
   },
   "outputs": [
    {
     "name": "stdout",
     "output_type": "stream",
     "text": [
      "1800 ['torments', 'heaven', 'damnation', 'pit', 'abyss']\n",
      "1850 ['heaven', 'devils', 'eternity', 'damned', 'pit']\n",
      "1900 ['heaven', 'devils', 'devil', 'satan', 'damned']\n",
      "1950 ['heaven', 'damned', 'devil', 'damn', 'anyway']\n",
      "1990 ['going', 'gonna', 'damn', 'heaven', 'shit']\n"
     ]
    }
   ],
   "source": [
    "for year, nn_list in neighbors_per_year('hell').items():\n",
    "    print(year, nn_list)"
   ]
  },
  {
   "cell_type": "code",
   "execution_count": 8,
   "metadata": {
    "slideshow": {
     "slide_type": "fragment"
    }
   },
   "outputs": [
    {
     "name": "stdout",
     "output_type": "stream",
     "text": [
      "1800 ['sprightly', 'gaiety', 'witty', 'banquet', 'airs']\n",
      "1850 ['gorgeous', 'cheerful', 'brilliant', 'beautiful', 'fantastic']\n",
      "1900 ['brilliant', 'merry', 'cheerful', 'charming', 'graceful']\n",
      "1950 ['cheerful', 'bright', 'charming', 'sweet', 'pleasant']\n",
      "1990 ['lesbian', 'lesbians', 'homosexual', 'women', 'hispanic']\n"
     ]
    }
   ],
   "source": [
    "for year, nn_list in neighbors_per_year('gay').items():\n",
    "    print(year, nn_list)"
   ]
  },
  {
   "cell_type": "code",
   "execution_count": 9,
   "metadata": {
    "slideshow": {
     "slide_type": "fragment"
    }
   },
   "outputs": [
    {
     "name": "stdout",
     "output_type": "stream",
     "text": [
      "1800 ['enmity', 'coincide', 'essentially', 'contradictory', 'inconsistent']\n",
      "1850 ['inconsistent', 'accordance', 'repugnant', 'incompatible', 'tenor']\n",
      "1900 ['inconsistent', 'contradiction', 'contradictory', 'incompatible', 'contrary']\n",
      "1950 ['sampling', 'deviation', 'deviations', 'squares', 'parameter']\n",
      "1990 ['deviation', 'variation', 'regression', 'mean', 'statistic']\n"
     ]
    }
   ],
   "source": [
    "for year, nn_list in neighbors_per_year('variance').items():\n",
    "    print(year, nn_list)"
   ]
  },
  {
   "cell_type": "markdown",
   "metadata": {
    "slideshow": {
     "slide_type": "skip"
    }
   },
   "source": [
    "# Linking embedding over time\n",
    "\n",
    "The first task is simple to align words across vocabularies. We will do this by building a sparse permutation matrix."
   ]
  },
  {
   "cell_type": "code",
   "execution_count": 10,
   "metadata": {
    "slideshow": {
     "slide_type": "skip"
    }
   },
   "outputs": [],
   "source": [
    "import scipy.sparse as sparse"
   ]
  },
  {
   "cell_type": "code",
   "execution_count": 11,
   "metadata": {
    "slideshow": {
     "slide_type": "skip"
    }
   },
   "outputs": [],
   "source": [
    "def build_alignment(year1 : int, year2 : int) -> sparse.csr_matrix:\n",
    "    # given two years (keys into vecs and vocs)\n",
    "    # compute a sparse matrix M representing the permutation of word indices from the year1 vecs to the year2 vecs  \n",
    "    # then the rows of v1 will be aligned with the rows of M v2 \n",
    "    \n",
    "    all_var1 = vecs[year1].var(1)\n",
    "    all_var2 = vecs[year2].var(1)\n",
    "\n",
    "    rows = []\n",
    "    cols = []\n",
    "\n",
    "    ivoc2 = {j:i for i,j in enumerate(vocs[year2])}\n",
    "\n",
    "    for widx1,word in enumerate(vocs[year1]):\n",
    "        if all_var1[widx1] != 0 and word in vocs[year2]:\n",
    "            widx2 = ivoc2[word]\n",
    "            if all_var2[widx2] != 0:\n",
    "                rows.append(widx1)\n",
    "                cols.append(widx2)\n",
    "\n",
    "    align = sparse.csr_matrix(([1]*len(rows),(rows,cols)),shape=[len(vocs[year1]),len(vocs[year2])])\n",
    "    return align"
   ]
  },
  {
   "cell_type": "code",
   "execution_count": 12,
   "metadata": {
    "slideshow": {
     "slide_type": "skip"
    }
   },
   "outputs": [],
   "source": [
    "# for the rest of the notebook, we'll focus on the contrast between 1900 and 1990\n",
    "year1 = 1900\n",
    "year2 = 1990"
   ]
  },
  {
   "cell_type": "code",
   "execution_count": 13,
   "metadata": {
    "slideshow": {
     "slide_type": "skip"
    }
   },
   "outputs": [],
   "source": [
    "align = build_alignment(year2, year1)"
   ]
  },
  {
   "cell_type": "code",
   "execution_count": 14,
   "metadata": {
    "slideshow": {
     "slide_type": "skip"
    }
   },
   "outputs": [
    {
     "data": {
      "text/plain": [
       "<10000x10000 sparse matrix of type '<class 'numpy.int64'>'\n",
       "\twith 7652 stored elements in Compressed Sparse Row format>"
      ]
     },
     "execution_count": 14,
     "metadata": {},
     "output_type": "execute_result"
    }
   ],
   "source": [
    "align"
   ]
  },
  {
   "cell_type": "code",
   "execution_count": 15,
   "metadata": {
    "slideshow": {
     "slide_type": "skip"
    }
   },
   "outputs": [],
   "source": [
    "vecs_aligned = align.dot(vecs[year1])"
   ]
  },
  {
   "cell_type": "markdown",
   "metadata": {
    "slideshow": {
     "slide_type": "skip"
    }
   },
   "source": [
    "To validate, let's check that words in `vecs_aligned` have roughly the same near-neighbors as in `vecs[year2]`."
   ]
  },
  {
   "cell_type": "code",
   "execution_count": 16,
   "metadata": {
    "slideshow": {
     "slide_type": "skip"
    }
   },
   "outputs": [
    {
     "name": "stdout",
     "output_type": "stream",
     "text": [
      "coffee\n",
      "1900 ['tea', 'tobacco', 'sugar', 'beer', 'rice', 'cheese', 'butter']\n",
      "1990 ['tea', 'cup', 'beer', 'drinks', 'drink', 'wine', 'breakfast'] \n",
      "\n",
      "gay\n",
      "1900 ['brilliant', 'merry', 'pleasant', 'bright', 'lively', 'green', 'happy']\n",
      "1990 ['lesbian', 'lesbians', 'homosexual', 'women', 'hispanic', 'couples', 'men'] \n",
      "\n",
      "variance\n",
      "1900 ['inconsistent', 'contradiction', 'contradictory', 'incompatible', 'contrary', 'opinions', 'accord']\n",
      "1990 ['deviation', 'variation', 'regression', 'mean', 'statistic', 'estimate', 'deviations'] \n",
      "\n",
      "peer\n",
      "1900 ['peers', 'lords', 'realm', 'son', 'widow', 'earl', 'gentleman']\n",
      "1990 ['peers', 'socialization', 'interpersonal', 'classroom', 'adolescents', 'adolescent', 'competence'] \n",
      "\n",
      "compute\n",
      "1900 []\n",
      "1990 ['calculate', 'estimate', 'computation', 'calculating', 'calculation', 'determine', 'estimating'] \n",
      "\n"
     ]
    }
   ],
   "source": [
    "for query in ['coffee','gay','variance','peer','compute']:\n",
    "    print(query)\n",
    "    print(year1, neighbors(query, vecs_aligned, vocs[year2], K=7))\n",
    "    print(year2, neighbors(query, vecs[year2], vocs[year2], K=7),'\\n')"
   ]
  },
  {
   "cell_type": "markdown",
   "metadata": {
    "slideshow": {
     "slide_type": "skip"
    }
   },
   "source": [
    "Looks good! The neighbors list for \"compute\" in 1900 is empty, because the \"compute\" is not among the top 10000 words in that dataset.\n",
    "\n",
    "Remember that our goal is to find words whose meanings have changed between `year1` and `year2`. Be careful: we cannot directly compare `vecs[year1]` to `vecs[year2]` because the word embeddings are not aligned. To solve this, we will search for the best orthogonal projection."
   ]
  },
  {
   "cell_type": "markdown",
   "metadata": {
    "slideshow": {
     "slide_type": "slide"
    }
   },
   "source": [
    "## Procrustes\n",
    "\n",
    "$\\newcommand{\\transpose}[1]{#1^{\\top}}$\n",
    "\n",
    "The orthogonal Procrustes problem for matrices $A$ and $B$ is to find an orthogonal projection matrix $\\Omega$ that minimizes the norm of the difference between $\\Omega A$ and $B$:\n",
    "\n",
    "\\begin{equation}\n",
    "\\min_{\\Omega} ||\\Omega A - B ||_F,\n",
    "\\end{equation}\n",
    "s.t. $\\transpose{\\Omega} \\Omega = \\mathbb{I}$, where $A, B \\in \\mathbb{R}^{K \\times V}$ are matrices of $K$-dimensional embeddings, and $\\Omega$ is therefore an orthonormal $K \\times K$ projection matrix. The norm $||M||_F = \\left(\\sum_i \\sum_j m_{i,j}^2\\right)^{1/2}$. \n",
    "\n",
    "The solution to the orthogonal Procrustes problem is obtained by performing singular value decomposition on the product,\n",
    "\n",
    "\\begin{align}\n",
    "U \\Sigma \\transpose{V} = &{} \\text{SVD}(B\\transpose{A})\\\\\n",
    "\\Omega = &{} U \\transpose{V}.\n",
    "\\end{align}\n"
   ]
  },
  {
   "cell_type": "code",
   "execution_count": 17,
   "metadata": {
    "slideshow": {
     "slide_type": "subslide"
    }
   },
   "outputs": [],
   "source": [
    "def procrustes(A, B):\n",
    "    U, _, Vt = np.linalg.svd(B.dot(A.T))\n",
    "    return U.dot(Vt)"
   ]
  },
  {
   "cell_type": "markdown",
   "metadata": {
    "slideshow": {
     "slide_type": "subslide"
    }
   },
   "source": [
    "### Synthetic data"
   ]
  },
  {
   "cell_type": "code",
   "execution_count": 59,
   "metadata": {
    "slideshow": {
     "slide_type": "fragment"
    }
   },
   "outputs": [
    {
     "name": "stdout",
     "output_type": "stream",
     "text": [
      "Norm without projection:\t318.795\n",
      "Norm with projection:\t30.811\n"
     ]
    }
   ],
   "source": [
    "# randomly generate an orthogonal projection\n",
    "P1,_,_ = np.linalg.svd(np.random.randn(100,30))\n",
    "A = np.random.randn(100,1000)\n",
    "B = P1.dot(A) + 0.1 * np.random.randn(100,1000)\n",
    "\n",
    "print(f'Norm without projection:\\t{np.linalg.norm(B - A):0.3f}')\n",
    "print(f'Norm with projection:\\t{np.linalg.norm(B - procrustes(A,B).dot(A)):0.3f}')"
   ]
  },
  {
   "cell_type": "code",
   "execution_count": 19,
   "metadata": {
    "slideshow": {
     "slide_type": "fragment"
    }
   },
   "outputs": [
    {
     "data": {
      "image/png": "[encoded data removed]",
      "text/plain": [
       "<Figure size 576x216 with 2 Axes>"
      ]
     },
     "metadata": {
      "needs_background": "light"
     },
     "output_type": "display_data"
    }
   ],
   "source": [
    "fig, (ax1,ax2) = plt.subplots(1,2,figsize=[8,3])\n",
    "ax1.scatter(A[:,45],B[:,45])\n",
    "ax1.set_title(\"Without projection\")\n",
    "ax2.scatter(procrustes(A,B).dot(A[:,45]),B[:,45]);\n",
    "ax2.set_title('With projection');"
   ]
  },
  {
   "cell_type": "markdown",
   "metadata": {
    "slideshow": {
     "slide_type": "fragment"
    }
   },
   "source": [
    "**Exercise**: evaluate the projection quality while varying the amount of noise in $B$."
   ]
  },
  {
   "cell_type": "markdown",
   "metadata": {
    "slideshow": {
     "slide_type": "subslide"
    }
   },
   "source": [
    "## Application to word vectors\n",
    "\n",
    "Let $A \\in \\mathbb{R}^{K \\times V}$ be the matrix of aligned word vectors, with words on the columns, and let $B \\in \\mathbb{R}^{K \\times V}$ be an analogous matrix of word vectors at an alternative time. Then we solve the orthogonal Procrustes problem to obtain the projection $\\Omega$."
   ]
  },
  {
   "cell_type": "code",
   "execution_count": 20,
   "metadata": {
    "slideshow": {
     "slide_type": "fragment"
    }
   },
   "outputs": [],
   "source": [
    "Omega = procrustes(vecs_aligned.T, vecs[year2].T)\n",
    "vecs_projected = Omega.dot(vecs_aligned.T).T"
   ]
  },
  {
   "cell_type": "code",
   "execution_count": 21,
   "metadata": {
    "slideshow": {
     "slide_type": "fragment"
    }
   },
   "outputs": [
    {
     "name": "stdout",
     "output_type": "stream",
     "text": [
      "pre-alignment:  140.58024197446656\n",
      "pre-projection:  101.37191382826273\n",
      "after projection:  90.74641725547235\n"
     ]
    }
   ],
   "source": [
    "print('pre-alignment: ',np.linalg.norm(vecs[year2] - vecs[year1]))\n",
    "print('pre-projection: ',np.linalg.norm(vecs[year2] - vecs_aligned))\n",
    "print('after projection: ',np.linalg.norm(vecs[year2] - vecs_projected))"
   ]
  },
  {
   "cell_type": "code",
   "execution_count": 22,
   "metadata": {
    "slideshow": {
     "slide_type": "subslide"
    }
   },
   "outputs": [
    {
     "data": {
      "image/png": "[encoded data removed]",
      "text/plain": [
       "<Figure size 576x216 with 2 Axes>"
      ]
     },
     "metadata": {
      "needs_background": "light"
     },
     "output_type": "display_data"
    }
   ],
   "source": [
    "fig, (ax1,ax2) = plt.subplots(1,2,figsize=[8,3])\n",
    "\n",
    "query = 'fish'\n",
    "vec2_no_project = vecs_aligned[vocs[year2].index(query),]\n",
    "vec2_projected = vecs_projected[vocs[year2].index(query),]\n",
    "vec1_query = vecs[year2][vocs[year2].index(query),]\n",
    "\n",
    "ax1.scatter(vec1_query, vec2_no_project)\n",
    "ax1.set_title(\"Without projection\")\n",
    "\n",
    "ax2.scatter(vec1_query, vec2_projected)\n",
    "ax2.set_title('With projection');"
   ]
  },
  {
   "cell_type": "markdown",
   "metadata": {
    "slideshow": {
     "slide_type": "fragment"
    }
   },
   "source": [
    "After projection the alignment is closer, but still far from perfect."
   ]
  },
  {
   "cell_type": "markdown",
   "metadata": {
    "slideshow": {
     "slide_type": "slide"
    }
   },
   "source": [
    "## Measuring semantic change by embedding norms\n",
    "\n",
    "After projection, we can search for words with large changes in meaning by evaluating the \"cosine distance\" between the projected embedding in $t_1$ and the embedding in $t_2$."
   ]
  },
  {
   "cell_type": "code",
   "execution_count": 23,
   "metadata": {
    "slideshow": {
     "slide_type": "fragment"
    }
   },
   "outputs": [],
   "source": [
    "def compute_cos_dist(vec1 : np.array, vec2 : np.array) -> np.array:    \n",
    "    numerator = (vec1 * vec2).sum(1)\n",
    "    denominator = np.sqrt((vec1**2).sum(1)) * np.sqrt((vec2**2).sum(1))\n",
    "    cos_dist = 1 - numerator / (1e-5 + denominator)\n",
    "\n",
    "    # eliminate words that are zeroed out\n",
    "    return cos_dist * (vec1.var(1) > 0) * (vec2.var(1) > 0)"
   ]
  },
  {
   "cell_type": "code",
   "execution_count": 24,
   "metadata": {
    "slideshow": {
     "slide_type": "fragment"
    }
   },
   "outputs": [],
   "source": [
    "cos_dist = compute_cos_dist(vecs[year2], vecs_projected)"
   ]
  },
  {
   "cell_type": "markdown",
   "metadata": {
    "slideshow": {
     "slide_type": "subslide"
    }
   },
   "source": [
    "### Top words by global metric\n",
    "\n",
    "Now let's print the words with the biggest changes from 1900 to 1990. \n",
    "\n",
    "The embeddings for rare words are a little weird, so let's focus on the 10K most frequent."
   ]
  },
  {
   "cell_type": "code",
   "execution_count": 60,
   "metadata": {
    "slideshow": {
     "slide_type": "subslide"
    }
   },
   "outputs": [
    {
     "name": "stdout",
     "output_type": "stream",
     "text": [
      "aids\t(ranks=2545,9514)\tdist=0.94\n",
      "1900 neighbors: ['aid', 'assist', 'assisted', 'contributions', 'aided', 'valuable', 'facilities']\n",
      "1990 neighbors: ['hiv', 'immunodeficiency', 'epidemic', 'tuberculosis', 'infected', 'virus', 'deficiency']\n",
      "\n",
      "peer\t(ranks=6735,9180)\tdist=0.84\n",
      "1900 neighbors: ['peers', 'lords', 'realm', 'son', 'widow', 'earl', 'gentleman']\n",
      "1990 neighbors: ['peers', 'socialization', 'interpersonal', 'classroom', 'adolescents', 'adolescent', 'competence']\n",
      "\n",
      "addison\t(ranks=6950,8837)\tdist=0.83\n",
      "1900 neighbors: ['milton', 'swift', 'johnson', 'pope', 'essays', 'verses', 'walter']\n",
      "1990 neighbors: ['wesley', 'longman', 'ma', 'publishing', 'springer', 'mcgraw', 'reading']\n",
      "\n",
      "facility\t(ranks=4593,6794)\tdist=0.81\n",
      "1900 neighbors: ['ease', 'precision', 'familiarity', 'readiness', 'accuracy', 'facilities', 'skill']\n",
      "1990 neighbors: ['facilities', 'operator', 'residential', 'hospital', 'program', 'detention', 'permits']\n",
      "\n",
      "approaches\t(ranks=2125,7278)\tdist=0.81\n",
      "1900 neighbors: ['approach', 'approached', 'nearer', 'approaching', 'nearest', 'rises', 'near']\n",
      "1990 neighbors: ['approach', 'methods', 'strategies', 'techniques', 'perspectives', 'theories', 'concepts']\n",
      "\n",
      "00\t(ranks=3355,3073)\tdist=0.79\n",
      "1900 neighbors: ['50', '3', '2', '5', '25', '0', 'handbook']\n",
      "1990 neighbors: ['0', '000', '10', '100', '97', '20', '99']\n",
      "\n",
      "figured\t(ranks=6006,9639)\tdist=0.78\n",
      "1900 neighbors: ['described', 'painted', 'illustrated', 'decorated', 'discussed', 'represented', 'representing']\n",
      "1990 neighbors: ['sure', 'guess', 'anyway', 'yeah', 'knew', 'liked', 'think']\n",
      "\n",
      "resource\t(ranks=2845,8294)\tdist=0.77\n",
      "1900 neighbors: ['resort', 'recourse', 'rely', 'alternative', 'fertility', 'subsistence', 'emergency']\n",
      "1990 neighbors: ['resources', 'conservation', 'sustainable', 'management', 'allocation', 'environmental', 'tourism']\n",
      "\n",
      "film\t(ranks=1547,8499)\tdist=0.77\n",
      "1900 neighbors: ['thin', 'layer', 'transparent', 'surface', 'liquid', 'vapor', 'oxide']\n",
      "1990 neighbors: ['films', 'movie', 'cinema', 'video', 'television', 'movies', 'photography']\n",
      "\n",
      "variance\t(ranks=3221,7397)\tdist=0.75\n",
      "1900 neighbors: ['inconsistent', 'contradiction', 'contradictory', 'incompatible', 'contrary', 'opinions', 'accord']\n",
      "1990 neighbors: ['deviation', 'variation', 'regression', 'mean', 'statistic', 'estimate', 'deviations']\n",
      "\n"
     ]
    }
   ],
   "source": [
    "thresh = 10000\n",
    "for idx in cos_dist[:thresh].argsort()[::-1][:10]:\n",
    "    word = vocs[year2][idx]\n",
    "    print(f'{word}\\t(ranks={idx},{vocs[year1].index(word)})\\tdist={cos_dist[idx]:.2f}')\n",
    "    print(f'1900 neighbors: {neighbors(word, vecs_projected, vocs[year2], K=7)}')\n",
    "    print(f'1990 neighbors: {neighbors(word, vecs[year2], vocs[year2], K=7)}\\n')"
   ]
  },
  {
   "cell_type": "markdown",
   "metadata": {
    "slideshow": {
     "slide_type": "subslide"
    }
   },
   "source": [
    "Better! A few preprocessing effects (\"00\" and \"addison\"), but most of these changes are interpretable as emerging word senses (\"aids\", \"peer\", \"approaches\", \"facility\", \"film\", and \"resource\")."
   ]
  },
  {
   "cell_type": "markdown",
   "metadata": {
    "slideshow": {
     "slide_type": "slide"
    }
   },
   "source": [
    "## Measuring semantic change by by near neighbors\n",
    "\n",
    "A concern with comparing word embeddings directly is that different parts of the embedding space may have different densities, so that cosine distances are not comparable across the entire space. \n",
    "\n",
    "To address this problem, [Hamilton et al (2016b)](https://nlp.stanford.edu/pubs/hamilton2016cultural.pdf) propose a \"local\" technique for identifying words with shifting meanings (see also [del Prado Martín and Christian Brendel 2016](https://www.aclweb.org/anthology/P16-1229) and [Eger and Mehler](https://www.aclweb.org/anthology/P16-2009)). This technique has the following phases:\n",
    "\n",
    "1. For word $w$ at time $t$, identify $K$-nearest neighbors $\\mathcal{N}_t(w)$\n",
    "2. Compute the vector of cosine similarities to the union of these neighbors,\n",
    "\n",
    "\\begin{align}\n",
    "\\vec{s}_t(w) = &{} [\\cos(x_{t}(w), x_t(w')) : w' \\in \\mathcal{N}_t(w) \\cup \\mathcal{N}_{t'}(w)]\\\\\n",
    "\\vec{s}_{t'}(w) = &{} [\\cos(x_{t'}(w), x_{t'}(w')) : w' \\in \\mathcal{N}_t(w) \\cup \\mathcal{N}_{t'}(w)]\\\\\n",
    "\\end{align}\n",
    "\n",
    "3. Compute the cosine distance between these two vectors, $D_{t,t'}(w) = 1 - \\cos(\\vec{s}_t(w), \\vec{s}_{t'}(w))$.\n",
    "\n",
    "Intuitively, if a word acquires a large number of new neighbors at $t'$, and these neighbors had very different embeddings from $x_t(w)$ at time $t$, then the distance will be large; if the neighbors and their similarities to $w$ are roughly the same at $t$ and $t'$, then the distance will be small. Let's compute it."
   ]
  },
  {
   "cell_type": "markdown",
   "metadata": {
    "slideshow": {
     "slide_type": "subslide"
    }
   },
   "source": [
    "#### Example"
   ]
  },
  {
   "cell_type": "code",
   "execution_count": 65,
   "metadata": {
    "slideshow": {
     "slide_type": "fragment"
    }
   },
   "outputs": [
    {
     "name": "stdout",
     "output_type": "stream",
     "text": [
      "['agree', 'stipulated', 'agreement', 'proposal', 'concluded']\n",
      "['agree', 'proposal', 'decided', 'insisted', 'would']\n"
     ]
    }
   ],
   "source": [
    "query = 'agreed'\n",
    "nn_old = neighbors(query, vecs[year1], vocs[year1], K=5)\n",
    "nn_new = neighbors(query, vecs[year2], vocs[year2], K=5)\n",
    "print(nn_old)\n",
    "print(nn_new)"
   ]
  },
  {
   "cell_type": "markdown",
   "metadata": {
    "slideshow": {
     "slide_type": "subslide"
    }
   },
   "source": [
    "Now we'll construct a set of neighbors that combines these lists, omitting words that are out-of-vocabulary in either dataset."
   ]
  },
  {
   "cell_type": "code",
   "execution_count": 66,
   "metadata": {
    "slideshow": {
     "slide_type": "fragment"
    }
   },
   "outputs": [
    {
     "name": "stdout",
     "output_type": "stream",
     "text": [
      "['agree', 'agreement', 'decided', 'insisted', 'proposal', 'would', 'concluded']\n"
     ]
    }
   ],
   "source": [
    "neighbor_set = [word for word in set(nn_old).union(set(nn_new)) \n",
    "                if (word in vocs[year1])\n",
    "                and (word in vocs[year2])\n",
    "                and (vecs[year1][vocs[year1].index(word)].var() > 0)\n",
    "                and (vecs[year2][vocs[year2].index(word)].var() > 0)]\n",
    "print(neighbor_set)"
   ]
  },
  {
   "cell_type": "markdown",
   "metadata": {
    "slideshow": {
     "slide_type": "subslide"
    }
   },
   "source": [
    "For each of these words, we will compute the cosine similarity to the query, in each dataset. \n",
    "\n",
    "Because the vectors are guaranteed to have a unit norm, the cosine similarity is identical to the dot product."
   ]
  },
  {
   "cell_type": "code",
   "execution_count": 67,
   "metadata": {
    "slideshow": {
     "slide_type": "subslide"
    }
   },
   "outputs": [],
   "source": [
    "def get_neighbor_sims(query : str, neighbor_set : set, vec : np.ndarray, voc : list) -> np.ndarray:\n",
    "    v_self = vec[voc.index(query),]\n",
    "    v_neighbors = vec[[voc.index(neighbor) for neighbor in neighbor_set],]\n",
    "    return np.dot(v_neighbors, v_self)"
   ]
  },
  {
   "cell_type": "code",
   "execution_count": 76,
   "metadata": {
    "slideshow": {
     "slide_type": "fragment"
    }
   },
   "outputs": [
    {
     "name": "stdout",
     "output_type": "stream",
     "text": [
      "[0.56516422 0.50479956 0.35121302 0.29508011 0.44591685 0.2539995\n",
      " 0.44558059]\n",
      "[0.64114619 0.41473822 0.45801135 0.43186218 0.46027387 0.43171013\n",
      " 0.40625893]\n"
     ]
    }
   ],
   "source": [
    "sim_old = get_neighbor_sims(query,neighbor_set,vecs[year1],vocs[year1])\n",
    "sim_new = get_neighbor_sims(query,neighbor_set,vecs[year2],vocs[year2])\n",
    "print(sim_old)\n",
    "print(sim_new)"
   ]
  },
  {
   "cell_type": "markdown",
   "metadata": {
    "slideshow": {
     "slide_type": "subslide"
    }
   },
   "source": [
    "Finally, we'll measure semantic shift by the average \"distance\" between these vectors of similarities. \n",
    "\n",
    "This is a \"second order\" view of semantic change, but we will call it the *local* change, because it is based only on the local neighborhood and not the global embedding space."
   ]
  },
  {
   "cell_type": "code",
   "execution_count": 77,
   "metadata": {
    "slideshow": {
     "slide_type": "fragment"
    }
   },
   "outputs": [
    {
     "data": {
      "text/plain": [
       "0.0031726595221562687"
      ]
     },
     "execution_count": 77,
     "metadata": {},
     "output_type": "execute_result"
    }
   ],
   "source": [
    "compute_cos_dist(sim_old.reshape(1,-1), sim_new.reshape(1,-1))[0] / len(neighbor_set)"
   ]
  },
  {
   "cell_type": "markdown",
   "metadata": {
    "slideshow": {
     "slide_type": "subslide"
    }
   },
   "source": [
    "We'll now make this calculation for the entire dataset. By default, we'll just load the results, but you can recompute it from this data if you have a few minutes."
   ]
  },
  {
   "cell_type": "code",
   "execution_count": 36,
   "metadata": {
    "slideshow": {
     "slide_type": "fragment"
    }
   },
   "outputs": [],
   "source": [
    "recompute_embedding_shifts = False\n",
    "emb_shift_file = os.path.join('..','data','embedding-shifts.csv')"
   ]
  },
  {
   "cell_type": "code",
   "execution_count": 55,
   "metadata": {
    "slideshow": {
     "slide_type": "fragment"
    }
   },
   "outputs": [],
   "source": [
    "if recompute_embedding_shifts:\n",
    "    # this may take 5-10 minutes to execute\n",
    "    neighbor_shift = dict()\n",
    "\n",
    "    num_neighbors = 25\n",
    "\n",
    "    for word in tqdm(vocs[year2]):\n",
    "        if word in vocs[year1]:\n",
    "            nn_old = neighbors(word, vecs[year1], vocs[year1], K=num_neighbors)\n",
    "            nn_new = neighbors(word, vecs[year2], vocs[year2], K=num_neighbors)\n",
    "\n",
    "            neighbor_set = [word for word in set(nn_old).union(set(nn_new)) \n",
    "                            if (word in vocs[year1])\n",
    "                            and (word in vocs[year2])\n",
    "                            and (vecs[year1][vocs[year1].index(word)].var() > 0)\n",
    "                            and (vecs[year2][vocs[year2].index(word)].var() > 0)]\n",
    "        \n",
    "            s1 = get_neighbor_sims(word, neighbor_set, vecs[year1], vocs[year1])\n",
    "            s2 = get_neighbor_sims(word, neighbor_set, vecs[year2], vocs[year2])\n",
    "\n",
    "            dL = compute_cos_dist(s1.reshape(1,-1),s2.reshape(1,-1))[0] / len(neighbor_set)\n",
    "    \n",
    "            neighbor_shift[word] = dL\n",
    "    df_emb_shift = pd.DataFrame({'local':list(neighbor_shift.values()),\n",
    "                                 'global':[cos_dist[vocs[year2].index(word)] for word in neighbor_shift.keys()]},\n",
    "                                index=list(neighbor_shift.keys()))\n",
    "    df_emb_shift.to_csv(emb_shift_file)\n",
    "else:\n",
    "    df_emb_shift = pd.read_csv(emb_shift_file,index_col=0)"
   ]
  },
  {
   "cell_type": "markdown",
   "metadata": {
    "slideshow": {
     "slide_type": "subslide"
    }
   },
   "source": [
    "Let's put the results into a dataframe."
   ]
  },
  {
   "cell_type": "code",
   "execution_count": 56,
   "metadata": {
    "slideshow": {
     "slide_type": "fragment"
    }
   },
   "outputs": [
    {
     "data": {
      "text/html": [
       "<div>\n",
       "<style scoped>\n",
       "    .dataframe tbody tr th:only-of-type {\n",
       "        vertical-align: middle;\n",
       "    }\n",
       "\n",
       "    .dataframe tbody tr th {\n",
       "        vertical-align: top;\n",
       "    }\n",
       "\n",
       "    .dataframe thead th {\n",
       "        text-align: right;\n",
       "    }\n",
       "</style>\n",
       "<table border=\"1\" class=\"dataframe\">\n",
       "  <thead>\n",
       "    <tr style=\"text-align: right;\">\n",
       "      <th></th>\n",
       "      <th>local</th>\n",
       "      <th>global</th>\n",
       "    </tr>\n",
       "  </thead>\n",
       "  <tbody>\n",
       "    <tr>\n",
       "      <th>the</th>\n",
       "      <td>0.034912</td>\n",
       "      <td>0.173218</td>\n",
       "    </tr>\n",
       "    <tr>\n",
       "      <th>addison</th>\n",
       "      <td>0.031628</td>\n",
       "      <td>0.830714</td>\n",
       "    </tr>\n",
       "    <tr>\n",
       "      <th>aids</th>\n",
       "      <td>0.031213</td>\n",
       "      <td>0.938870</td>\n",
       "    </tr>\n",
       "    <tr>\n",
       "      <th>peer</th>\n",
       "      <td>0.030373</td>\n",
       "      <td>0.836678</td>\n",
       "    </tr>\n",
       "    <tr>\n",
       "      <th>gay</th>\n",
       "      <td>0.026708</td>\n",
       "      <td>0.748373</td>\n",
       "    </tr>\n",
       "  </tbody>\n",
       "</table>\n",
       "</div>"
      ],
      "text/plain": [
       "            local    global\n",
       "the      0.034912  0.173218\n",
       "addison  0.031628  0.830714\n",
       "aids     0.031213  0.938870\n",
       "peer     0.030373  0.836678\n",
       "gay      0.026708  0.748373"
      ]
     },
     "execution_count": 56,
     "metadata": {},
     "output_type": "execute_result"
    }
   ],
   "source": [
    "df_emb_shift.sort_values('local',ascending=False).head(5)"
   ]
  },
  {
   "cell_type": "markdown",
   "metadata": {
    "slideshow": {
     "slide_type": "subslide"
    }
   },
   "source": [
    "### Top words by \"local\" metric"
   ]
  },
  {
   "cell_type": "code",
   "execution_count": 78,
   "metadata": {
    "slideshow": {
     "slide_type": "fragment"
    }
   },
   "outputs": [
    {
     "name": "stdout",
     "output_type": "stream",
     "text": [
      "the\n",
      "1900 neighbors: ['decay', 'setting', 'borders', 'fiery', 'swelling', 'newly', 'removal']\n",
      "1990 neighbors: ['à', 'conjunction', 'versus', 'seventh', 'semi', 'inner', 'korean']\n",
      "\n",
      "addison\n",
      "1900 neighbors: ['goldsmith', 'burke', 'milton', 'horace', 'wordsworth', 'poetical', 'byron']\n",
      "1990 neighbors: ['wesley', 'longman', 'ma', 'publishing', 'springer', 'mcgraw', 'reading']\n",
      "\n",
      "aids\n",
      "1900 neighbors: ['aid', 'assist', 'effecting', 'assisted', 'contributions', 'appliances', 'aided']\n",
      "1990 neighbors: ['hiv', 'immunodeficiency', 'epidemic', 'tuberculosis', 'infected', 'virus', 'deficiency']\n",
      "\n",
      "peer\n",
      "1900 neighbors: ['peers', 'lords', 'nobleman', 'baron', 'realm', 'son', 'widow']\n",
      "1990 neighbors: ['peers', 'socialization', 'interpersonal', 'classroom', 'adolescents', 'adolescent', 'competence']\n",
      "\n",
      "gay\n",
      "1900 neighbors: ['brilliant', 'merry', 'cheerful', 'charming', 'graceful', 'pleasant', 'bright']\n",
      "1990 neighbors: ['lesbian', 'lesbians', 'homosexual', 'women', 'hispanic', 'couples', 'men']\n",
      "\n",
      "figured\n",
      "1900 neighbors: ['described', 'painted', 'embroidered', 'adorned', 'alluded', 'illustrated', 'richly']\n",
      "1990 neighbors: ['sure', 'guess', 'anyway', 'yeah', 'knew', 'liked', 'think']\n",
      "\n",
      "facility\n",
      "1900 neighbors: ['rapidity', 'ease', 'elegance', 'precision', 'clearness', 'familiarity', 'readiness']\n",
      "1990 neighbors: ['facilities', 'operator', 'residential', 'hospital', 'program', 'detention', 'permits']\n",
      "\n",
      "approaches\n",
      "1900 neighbors: ['approach', 'approached', 'nearer', 'approaching', 'nearest', 'rises', 'near']\n",
      "1990 neighbors: ['approach', 'methods', 'strategies', 'techniques', 'perspectives', 'theories', 'concepts']\n",
      "\n",
      "signal\n",
      "1900 neighbors: ['warning', 'firing', 'hailed', 'shout', 'alarm', 'demonstration', 'gave']\n",
      "1990 neighbors: ['signals', 'amplitude', 'input', 'noise', 'modulation', 'analog', 'amplifier']\n",
      "\n",
      "web\n",
      "1900 neighbors: ['threads', 'thread', 'beam', 'texture', 'network', 'stresses', 'longitudinal']\n",
      "1990 neighbors: ['internet', 'browser', 'server', 'microsoft', 'online', 'links', 'page']\n",
      "\n"
     ]
    }
   ],
   "source": [
    "for word in df_emb_shift.sort_values('local',ascending=False).head(10).index:\n",
    "    print(word)\n",
    "    print(f'1900 neighbors: {neighbors(word, vecs[year1][:thresh], vocs[year1], K=7)}')\n",
    "    print(f'1990 neighbors: {neighbors(word, vecs[year2][:thresh], vocs[year2], K=7)}')\n",
    "    print()"
   ]
  },
  {
   "cell_type": "markdown",
   "metadata": {
    "slideshow": {
     "slide_type": "subslide"
    }
   },
   "source": [
    "Pretty similar, but avoids a few of the false positives in `global`, such as \"00\", while weirdly including \"the\" as the top word."
   ]
  },
  {
   "cell_type": "markdown",
   "metadata": {
    "slideshow": {
     "slide_type": "slide"
    }
   },
   "source": [
    "## Extensions\n",
    "\n",
    "- Try a number of different neighborhood sizes, and test how it affects the ranking of words. Is the \"local\" method sensitive to this parameter?\n",
    "- Hamilton et al show that more common words tend to change more slowly. Can you replicate this finding using this data?\n",
    "- Using the other datafiles, try to determine the pace of change over time; do words shift their meanings more in the late 20th century?\n"
   ]
  }
 ],
 "metadata": {
  "celltoolbar": "Slideshow",
  "kernelspec": {
   "display_name": "Python 3",
   "language": "python",
   "name": "python3"
  },
  "language_info": {
   "codemirror_mode": {
    "name": "ipython",
    "version": 3
   },
   "file_extension": ".py",
   "mimetype": "text/x-python",
   "name": "python",
   "nbconvert_exporter": "python",
   "pygments_lexer": "ipython3",
   "version": "3.7.3"
  }
 },
 "nbformat": 4,
 "nbformat_minor": 2
}
