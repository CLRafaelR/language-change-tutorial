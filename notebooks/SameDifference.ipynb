{
 "cells": [
  {
   "cell_type": "markdown",
   "metadata": {},
   "source": [
    "# Differences over time\n",
    "\n",
    "- A notebook by Jacob Eisenstein in 2019\n",
    "\n",
    "Both academics and casual observers believe that politics in the USA has become more polarized. Can we see evidence of this in the language of American legislators? This notebooks builds on ideas from Monroe, Colaresi, and Quinn (MCQ) to measure partisanship of individual words, and track aggregate partisanship over time.\n",
    "\n",
    "$\n",
    "\\newcommand{\\yi}{y^{(i)}}\n",
    "\\newcommand{\\yj}{y^{(j)}}\n",
    "\\newcommand{\\ai}{\\alpha^{(i)}}\n",
    "\\newcommand{\\aj}{\\alpha^{(j)}}\n",
    "\\newcommand{\\ni}{n^{(i)}}\n",
    "\\newcommand{\\nj}{n^{(j)}}\n",
    "\\newcommand{\\oi}{o^{(i)}}\n",
    "\\newcommand{\\oj}{o^{(j)}}\n",
    "\\newcommand{\\fi}{f^{(i)}}\n",
    "\\newcommand{\\fj}{f^{(j)}}\n",
    "$\n"
   ]
  },
  {
   "cell_type": "code",
   "execution_count": 141,
   "metadata": {},
   "outputs": [],
   "source": [
    "import pandas as pd\n",
    "import matplotlib.pyplot as plt\n",
    "%matplotlib inline\n",
    "import seaborn as sns\n",
    "from pandas.plotting import register_matplotlib_converters\n",
    "register_matplotlib_converters()\n",
    "\n",
    "from datetime import datetime\n",
    "\n",
    "import numpy as np\n",
    "from sklearn.feature_extraction.text import CountVectorizer\n",
    "\n",
    "from tqdm import tqdm_notebook as tqdm\n",
    "\n",
    "import os\n",
    "from glob import glob\n",
    "import pickle\n",
    "\n",
    "basedir = os.path.join('..','data','same-diff-processed')"
   ]
  },
  {
   "cell_type": "code",
   "execution_count": 7,
   "metadata": {},
   "outputs": [],
   "source": [
    " # set to true if you want to recompute everything from scratch, and have access to the raw data\n",
    "recomputing_all_data_files = False"
   ]
  },
  {
   "cell_type": "markdown",
   "metadata": {},
   "source": [
    "## Data loading and preprocessing\n",
    "\n",
    "In this project, we'll use data about U.S. Congressional floor speeches from Gentzkow et al. It's kind of big, so we'll start with data from a single session.\n",
    "\n",
    "You may need to run `cd ../data/same-diff-processed; tar xvzf sess114.tgz` to uncompress the data. "
   ]
  },
  {
   "cell_type": "code",
   "execution_count": 8,
   "metadata": {},
   "outputs": [
    {
     "name": "stderr",
     "output_type": "stream",
     "text": [
      "b'Skipping line 81799: expected 2 fields, saw 3\\n'\n"
     ]
    }
   ],
   "source": [
    "df_description = pd.read_csv(os.path.join(basedir,'descr_114.txt'),delimiter='|')\n",
    "df_speeches = pd.read_csv(os.path.join(basedir,'speeches_114.txt'),delimiter='|',\n",
    "                          error_bad_lines=False,encoding='iso8859')\n",
    "df_speakers = pd.read_csv(os.path.join(basedir,'114_SpeakerMap.txt'),delimiter='|')"
   ]
  },
  {
   "cell_type": "markdown",
   "metadata": {},
   "source": [
    "First let's identify all speeches by members of each political party. We'll do this by joining the speeches and party information."
   ]
  },
  {
   "cell_type": "code",
   "execution_count": 9,
   "metadata": {},
   "outputs": [
    {
     "data": {
      "text/html": [
       "<div>\n",
       "<style scoped>\n",
       "    .dataframe tbody tr th:only-of-type {\n",
       "        vertical-align: middle;\n",
       "    }\n",
       "\n",
       "    .dataframe tbody tr th {\n",
       "        vertical-align: top;\n",
       "    }\n",
       "\n",
       "    .dataframe thead th {\n",
       "        text-align: right;\n",
       "    }\n",
       "</style>\n",
       "<table border=\"1\" class=\"dataframe\">\n",
       "  <thead>\n",
       "    <tr style=\"text-align: right;\">\n",
       "      <th></th>\n",
       "      <th>speech_id</th>\n",
       "      <th>speech</th>\n",
       "    </tr>\n",
       "  </thead>\n",
       "  <tbody>\n",
       "    <tr>\n",
       "      <th>0</th>\n",
       "      <td>1140000001</td>\n",
       "      <td>The Representativeselect and their guests will...</td>\n",
       "    </tr>\n",
       "    <tr>\n",
       "      <th>1</th>\n",
       "      <td>1140000002</td>\n",
       "      <td>As directed by law. the Clerk of the House has...</td>\n",
       "    </tr>\n",
       "    <tr>\n",
       "      <th>2</th>\n",
       "      <td>1140000003</td>\n",
       "      <td>Four hundred and one Represent ativeselect hav...</td>\n",
       "    </tr>\n",
       "  </tbody>\n",
       "</table>\n",
       "</div>"
      ],
      "text/plain": [
       "    speech_id                                             speech\n",
       "0  1140000001  The Representativeselect and their guests will...\n",
       "1  1140000002  As directed by law. the Clerk of the House has...\n",
       "2  1140000003  Four hundred and one Represent ativeselect hav..."
      ]
     },
     "execution_count": 9,
     "metadata": {},
     "output_type": "execute_result"
    }
   ],
   "source": [
    "df_speeches.head(3)"
   ]
  },
  {
   "cell_type": "code",
   "execution_count": 10,
   "metadata": {},
   "outputs": [
    {
     "data": {
      "text/html": [
       "<div>\n",
       "<style scoped>\n",
       "    .dataframe tbody tr th:only-of-type {\n",
       "        vertical-align: middle;\n",
       "    }\n",
       "\n",
       "    .dataframe tbody tr th {\n",
       "        vertical-align: top;\n",
       "    }\n",
       "\n",
       "    .dataframe thead th {\n",
       "        text-align: right;\n",
       "    }\n",
       "</style>\n",
       "<table border=\"1\" class=\"dataframe\">\n",
       "  <thead>\n",
       "    <tr style=\"text-align: right;\">\n",
       "      <th></th>\n",
       "      <th>speakerid</th>\n",
       "      <th>speech_id</th>\n",
       "      <th>lastname</th>\n",
       "      <th>firstname</th>\n",
       "      <th>chamber</th>\n",
       "      <th>state</th>\n",
       "      <th>gender</th>\n",
       "      <th>party</th>\n",
       "      <th>district</th>\n",
       "      <th>nonvoting</th>\n",
       "    </tr>\n",
       "  </thead>\n",
       "  <tbody>\n",
       "    <tr>\n",
       "      <th>0</th>\n",
       "      <td>114120480</td>\n",
       "      <td>1140000007</td>\n",
       "      <td>MCMORRIS RODGERS</td>\n",
       "      <td>CATHY</td>\n",
       "      <td>H</td>\n",
       "      <td>WA</td>\n",
       "      <td>F</td>\n",
       "      <td>R</td>\n",
       "      <td>5.0</td>\n",
       "      <td>voting</td>\n",
       "    </tr>\n",
       "    <tr>\n",
       "      <th>1</th>\n",
       "      <td>114118560</td>\n",
       "      <td>1140000009</td>\n",
       "      <td>BECERRA</td>\n",
       "      <td>XAVIER</td>\n",
       "      <td>H</td>\n",
       "      <td>CA</td>\n",
       "      <td>M</td>\n",
       "      <td>D</td>\n",
       "      <td>34.0</td>\n",
       "      <td>voting</td>\n",
       "    </tr>\n",
       "    <tr>\n",
       "      <th>2</th>\n",
       "      <td>114121890</td>\n",
       "      <td>1140000011</td>\n",
       "      <td>MASSIE</td>\n",
       "      <td>THOMAS</td>\n",
       "      <td>H</td>\n",
       "      <td>KY</td>\n",
       "      <td>M</td>\n",
       "      <td>R</td>\n",
       "      <td>4.0</td>\n",
       "      <td>voting</td>\n",
       "    </tr>\n",
       "  </tbody>\n",
       "</table>\n",
       "</div>"
      ],
      "text/plain": [
       "   speakerid   speech_id          lastname firstname chamber state gender  \\\n",
       "0  114120480  1140000007  MCMORRIS RODGERS     CATHY       H    WA      F   \n",
       "1  114118560  1140000009           BECERRA    XAVIER       H    CA      M   \n",
       "2  114121890  1140000011            MASSIE    THOMAS       H    KY      M   \n",
       "\n",
       "  party  district nonvoting  \n",
       "0     R       5.0    voting  \n",
       "1     D      34.0    voting  \n",
       "2     R       4.0    voting  "
      ]
     },
     "execution_count": 10,
     "metadata": {},
     "output_type": "execute_result"
    }
   ],
   "source": [
    "df_speakers.head(3)"
   ]
  },
  {
   "cell_type": "code",
   "execution_count": 11,
   "metadata": {},
   "outputs": [],
   "source": [
    "df_speech_by_party = pd.merge(df_speeches, df_speakers, on='speech_id')[['speech_id','speech','party']]"
   ]
  },
  {
   "cell_type": "code",
   "execution_count": 13,
   "metadata": {},
   "outputs": [
    {
     "name": "stdout",
     "output_type": "stream",
     "text": [
      "(67970, 3)\n"
     ]
    },
    {
     "data": {
      "text/html": [
       "<div>\n",
       "<style scoped>\n",
       "    .dataframe tbody tr th:only-of-type {\n",
       "        vertical-align: middle;\n",
       "    }\n",
       "\n",
       "    .dataframe tbody tr th {\n",
       "        vertical-align: top;\n",
       "    }\n",
       "\n",
       "    .dataframe thead th {\n",
       "        text-align: right;\n",
       "    }\n",
       "</style>\n",
       "<table border=\"1\" class=\"dataframe\">\n",
       "  <thead>\n",
       "    <tr style=\"text-align: right;\">\n",
       "      <th></th>\n",
       "      <th>speech_id</th>\n",
       "      <th>speech</th>\n",
       "      <th>party</th>\n",
       "    </tr>\n",
       "  </thead>\n",
       "  <tbody>\n",
       "    <tr>\n",
       "      <th>0</th>\n",
       "      <td>1140000007</td>\n",
       "      <td>RODGERS. Madam Clerk. it is an honor to addres...</td>\n",
       "      <td>R</td>\n",
       "    </tr>\n",
       "    <tr>\n",
       "      <th>1</th>\n",
       "      <td>1140000009</td>\n",
       "      <td>Madam Clerk. first I would like to recognize e...</td>\n",
       "      <td>D</td>\n",
       "    </tr>\n",
       "    <tr>\n",
       "      <th>2</th>\n",
       "      <td>1140000011</td>\n",
       "      <td>Madam Clerk. I present for election to the off...</td>\n",
       "      <td>R</td>\n",
       "    </tr>\n",
       "  </tbody>\n",
       "</table>\n",
       "</div>"
      ],
      "text/plain": [
       "    speech_id                                             speech party\n",
       "0  1140000007  RODGERS. Madam Clerk. it is an honor to addres...     R\n",
       "1  1140000009  Madam Clerk. first I would like to recognize e...     D\n",
       "2  1140000011  Madam Clerk. I present for election to the off...     R"
      ]
     },
     "execution_count": 13,
     "metadata": {},
     "output_type": "execute_result"
    }
   ],
   "source": [
    "print(df_speech_by_party.shape)\n",
    "df_speech_by_party.head(3)"
   ]
  },
  {
   "cell_type": "markdown",
   "metadata": {},
   "source": [
    "Many of these utterances are legislative formalities, so let's focus on speeches that are at least 1000 characters long."
   ]
  },
  {
   "cell_type": "code",
   "execution_count": 14,
   "metadata": {},
   "outputs": [],
   "source": [
    "df_speech_by_party = df_speech_by_party.loc[df_speech_by_party['speech'].apply(lambda x : len(x) > 1000)]"
   ]
  },
  {
   "cell_type": "code",
   "execution_count": 15,
   "metadata": {},
   "outputs": [
    {
     "name": "stdout",
     "output_type": "stream",
     "text": [
      "(25832, 3)\n"
     ]
    },
    {
     "data": {
      "text/html": [
       "<div>\n",
       "<style scoped>\n",
       "    .dataframe tbody tr th:only-of-type {\n",
       "        vertical-align: middle;\n",
       "    }\n",
       "\n",
       "    .dataframe tbody tr th {\n",
       "        vertical-align: top;\n",
       "    }\n",
       "\n",
       "    .dataframe thead th {\n",
       "        text-align: right;\n",
       "    }\n",
       "</style>\n",
       "<table border=\"1\" class=\"dataframe\">\n",
       "  <thead>\n",
       "    <tr style=\"text-align: right;\">\n",
       "      <th></th>\n",
       "      <th>speech_id</th>\n",
       "      <th>speech</th>\n",
       "      <th>party</th>\n",
       "    </tr>\n",
       "  </thead>\n",
       "  <tbody>\n",
       "    <tr>\n",
       "      <th>0</th>\n",
       "      <td>1140000007</td>\n",
       "      <td>RODGERS. Madam Clerk. it is an honor to addres...</td>\n",
       "      <td>R</td>\n",
       "    </tr>\n",
       "    <tr>\n",
       "      <th>1</th>\n",
       "      <td>1140000009</td>\n",
       "      <td>Madam Clerk. first I would like to recognize e...</td>\n",
       "      <td>D</td>\n",
       "    </tr>\n",
       "    <tr>\n",
       "      <th>3</th>\n",
       "      <td>1140000013</td>\n",
       "      <td>Madam Clerk. I present for the election of the...</td>\n",
       "      <td>R</td>\n",
       "    </tr>\n",
       "  </tbody>\n",
       "</table>\n",
       "</div>"
      ],
      "text/plain": [
       "    speech_id                                             speech party\n",
       "0  1140000007  RODGERS. Madam Clerk. it is an honor to addres...     R\n",
       "1  1140000009  Madam Clerk. first I would like to recognize e...     D\n",
       "3  1140000013  Madam Clerk. I present for the election of the...     R"
      ]
     },
     "execution_count": 15,
     "metadata": {},
     "output_type": "execute_result"
    }
   ],
   "source": [
    "print(df_speech_by_party.shape)\n",
    "df_speech_by_party.head(3)"
   ]
  },
  {
   "cell_type": "markdown",
   "metadata": {},
   "source": [
    "Now let's merge in the date information to create the final dataframe."
   ]
  },
  {
   "cell_type": "code",
   "execution_count": 16,
   "metadata": {},
   "outputs": [],
   "source": [
    "df = pd.merge(df_speech_by_party, df_description, on='speech_id')[['speech_id','speech','party','date']]"
   ]
  },
  {
   "cell_type": "code",
   "execution_count": 17,
   "metadata": {},
   "outputs": [
    {
     "data": {
      "text/html": [
       "<div>\n",
       "<style scoped>\n",
       "    .dataframe tbody tr th:only-of-type {\n",
       "        vertical-align: middle;\n",
       "    }\n",
       "\n",
       "    .dataframe tbody tr th {\n",
       "        vertical-align: top;\n",
       "    }\n",
       "\n",
       "    .dataframe thead th {\n",
       "        text-align: right;\n",
       "    }\n",
       "</style>\n",
       "<table border=\"1\" class=\"dataframe\">\n",
       "  <thead>\n",
       "    <tr style=\"text-align: right;\">\n",
       "      <th></th>\n",
       "      <th>speech_id</th>\n",
       "      <th>speech</th>\n",
       "      <th>party</th>\n",
       "      <th>date</th>\n",
       "    </tr>\n",
       "  </thead>\n",
       "  <tbody>\n",
       "    <tr>\n",
       "      <th>0</th>\n",
       "      <td>1140000007</td>\n",
       "      <td>RODGERS. Madam Clerk. it is an honor to addres...</td>\n",
       "      <td>R</td>\n",
       "      <td>20150106</td>\n",
       "    </tr>\n",
       "    <tr>\n",
       "      <th>1</th>\n",
       "      <td>1140000009</td>\n",
       "      <td>Madam Clerk. first I would like to recognize e...</td>\n",
       "      <td>D</td>\n",
       "      <td>20150106</td>\n",
       "    </tr>\n",
       "    <tr>\n",
       "      <th>2</th>\n",
       "      <td>1140000013</td>\n",
       "      <td>Madam Clerk. I present for the election of the...</td>\n",
       "      <td>R</td>\n",
       "      <td>20150106</td>\n",
       "    </tr>\n",
       "  </tbody>\n",
       "</table>\n",
       "</div>"
      ],
      "text/plain": [
       "    speech_id                                             speech party  \\\n",
       "0  1140000007  RODGERS. Madam Clerk. it is an honor to addres...     R   \n",
       "1  1140000009  Madam Clerk. first I would like to recognize e...     D   \n",
       "2  1140000013  Madam Clerk. I present for the election of the...     R   \n",
       "\n",
       "       date  \n",
       "0  20150106  \n",
       "1  20150106  \n",
       "2  20150106  "
      ]
     },
     "execution_count": 17,
     "metadata": {},
     "output_type": "execute_result"
    }
   ],
   "source": [
    "df.head(3)"
   ]
  },
  {
   "cell_type": "markdown",
   "metadata": {},
   "source": [
    "### Preprocessing\n",
    "\n",
    "For temporal analysis, we need to convert the date field from an integer to a datetime object. We'll do that using the python `datetime` package."
   ]
  },
  {
   "cell_type": "code",
   "execution_count": 18,
   "metadata": {},
   "outputs": [],
   "source": [
    "df['date'] = df['date'].astype('str')\n",
    "df['date'] = df['date'].apply(lambda x : datetime(year=int(x[:4]),\n",
    "                                     month=int(x[4:6]),\n",
    "                                     day=int(x[6:])))"
   ]
  },
  {
   "cell_type": "code",
   "execution_count": 19,
   "metadata": {},
   "outputs": [
    {
     "data": {
      "text/plain": [
       "0   2015-01-06\n",
       "1   2015-01-06\n",
       "2   2015-01-06\n",
       "Name: date, dtype: datetime64[ns]"
      ]
     },
     "execution_count": 19,
     "metadata": {},
     "output_type": "execute_result"
    }
   ],
   "source": [
    "df['date'].head(3)"
   ]
  },
  {
   "cell_type": "markdown",
   "metadata": {},
   "source": [
    "Next, we need to convert the \"speech\" field into something that will be easier to handle. For now, we'll use a simple **bag-of-words** representation. The `scikit-learn` library provides a useful class for handling this preprocessing."
   ]
  },
  {
   "cell_type": "code",
   "execution_count": 20,
   "metadata": {},
   "outputs": [],
   "source": [
    "vect = CountVectorizer(max_features=10000)"
   ]
  },
  {
   "cell_type": "code",
   "execution_count": 21,
   "metadata": {},
   "outputs": [],
   "source": [
    "## this will take a minute to run\n",
    "# X = vect.fit_transform(df['speech'])\n",
    "X = vect.fit_transform(df['speech'][:1000])"
   ]
  },
  {
   "cell_type": "code",
   "execution_count": 22,
   "metadata": {},
   "outputs": [
    {
     "data": {
      "text/plain": [
       "<1000x10000 sparse matrix of type '<class 'numpy.int64'>'\n",
       "\twith 239465 stored elements in Compressed Sparse Row format>"
      ]
     },
     "execution_count": 22,
     "metadata": {},
     "output_type": "execute_result"
    }
   ],
   "source": [
    "X"
   ]
  },
  {
   "cell_type": "markdown",
   "metadata": {},
   "source": [
    "The result is a sparse matrix, specifically a member of `scipy.sparse.csr_matrix`. The columns of this matrix are identified by the vectorizer's vocabulary:"
   ]
  },
  {
   "cell_type": "code",
   "execution_count": 281,
   "metadata": {},
   "outputs": [
    {
     "data": {
      "text/plain": [
       "{'mr': 6024,\n",
       " 'president': 7003,\n",
       " 'am': 676,\n",
       " 'pleased': 6822,\n",
       " 'to': 9145,\n",
       " 'join': 5160}"
      ]
     },
     "execution_count": 281,
     "metadata": {},
     "output_type": "execute_result"
    }
   ],
   "source": [
    "{i:j for i,j in list(vect.vocabulary_.items())[:6]}"
   ]
  },
  {
   "cell_type": "code",
   "execution_count": 24,
   "metadata": {},
   "outputs": [],
   "source": [
    "# convenience\n",
    "ivoc = {idx:word for word,idx in vect.vocabulary_.items()}"
   ]
  },
  {
   "cell_type": "markdown",
   "metadata": {},
   "source": [
    "To save time, I have already performed this same preprocessing for all U.S. Congresses from the 98th to the 114th."
   ]
  },
  {
   "cell_type": "code",
   "execution_count": 36,
   "metadata": {},
   "outputs": [],
   "source": [
    "# load back that file, which you should have\n",
    "df_agg = pd.read_csv(os.path.join(basedir,'aggregate-counts.csv'),\n",
    "                     usecols=['word','date','d_count','r_count'],\n",
    "                     parse_dates=['date'])\n",
    "vect = pickle.load(open(os.path.join(basedir,'congress-vocab.pkl'),'rb'))\n",
    "ivoc = {j:i for i,j in vect.vocabulary_.items()}"
   ]
  },
  {
   "cell_type": "code",
   "execution_count": 37,
   "metadata": {},
   "outputs": [
    {
     "data": {
      "text/html": [
       "<div>\n",
       "<style scoped>\n",
       "    .dataframe tbody tr th:only-of-type {\n",
       "        vertical-align: middle;\n",
       "    }\n",
       "\n",
       "    .dataframe tbody tr th {\n",
       "        vertical-align: top;\n",
       "    }\n",
       "\n",
       "    .dataframe thead th {\n",
       "        text-align: right;\n",
       "    }\n",
       "</style>\n",
       "<table border=\"1\" class=\"dataframe\">\n",
       "  <thead>\n",
       "    <tr style=\"text-align: right;\">\n",
       "      <th></th>\n",
       "      <th>date</th>\n",
       "      <th>word</th>\n",
       "      <th>d_count</th>\n",
       "      <th>r_count</th>\n",
       "    </tr>\n",
       "  </thead>\n",
       "  <tbody>\n",
       "    <tr>\n",
       "      <th>0</th>\n",
       "      <td>1981-01-01</td>\n",
       "      <td>00</td>\n",
       "      <td>57</td>\n",
       "      <td>5</td>\n",
       "    </tr>\n",
       "    <tr>\n",
       "      <th>1</th>\n",
       "      <td>1981-01-01</td>\n",
       "      <td>000</td>\n",
       "      <td>229</td>\n",
       "      <td>139</td>\n",
       "    </tr>\n",
       "    <tr>\n",
       "      <th>2</th>\n",
       "      <td>1981-01-01</td>\n",
       "      <td>10</td>\n",
       "      <td>116</td>\n",
       "      <td>119</td>\n",
       "    </tr>\n",
       "  </tbody>\n",
       "</table>\n",
       "</div>"
      ],
      "text/plain": [
       "        date word  d_count  r_count\n",
       "0 1981-01-01   00       57        5\n",
       "1 1981-01-01  000      229      139\n",
       "2 1981-01-01   10      116      119"
      ]
     },
     "execution_count": 37,
     "metadata": {},
     "output_type": "execute_result"
    }
   ],
   "source": [
    "df_agg.head(3)"
   ]
  },
  {
   "cell_type": "code",
   "execution_count": 38,
   "metadata": {},
   "outputs": [
    {
     "name": "stdout",
     "output_type": "stream",
     "text": [
      "T=407\n"
     ]
    }
   ],
   "source": [
    "T = len(df_agg['date'].unique())\n",
    "print(f'T={T}')"
   ]
  },
  {
   "cell_type": "code",
   "execution_count": 39,
   "metadata": {},
   "outputs": [
    {
     "name": "stdout",
     "output_type": "stream",
     "text": [
      "V=10000\n"
     ]
    }
   ],
   "source": [
    "V = len(df_agg['word'].unique())\n",
    "print(f'V={V}')"
   ]
  },
  {
   "cell_type": "code",
   "execution_count": 40,
   "metadata": {},
   "outputs": [
    {
     "data": {
      "text/plain": [
       "(4070000, 4)"
      ]
     },
     "execution_count": 40,
     "metadata": {},
     "output_type": "execute_result"
    }
   ],
   "source": [
    "df_agg.shape"
   ]
  },
  {
   "cell_type": "code",
   "execution_count": 41,
   "metadata": {},
   "outputs": [],
   "source": [
    "# word counts of Democrats\n",
    "X_d = df_agg['d_count'].to_numpy().reshape(T, V)\n",
    "# word counts of Republicans \n",
    "X_r = df_agg['r_count'].to_numpy().reshape(T, V)"
   ]
  },
  {
   "cell_type": "markdown",
   "metadata": {},
   "source": [
    "## Baselines\n",
    "\n",
    "We'll start by computing partisanship of individual terms across all sessions. Once we have an effective method, we'll move to the dynamic analysis. \n",
    "\n",
    "A simple baseline is to compare the **log odds ratios**:\n",
    "\n",
    "$\\begin{align}\n",
    "\\oi_{w} = &{} \\fi_w / (1 - \\fi_w)\\\\\n",
    "r_w = &{} \\log \\oi_w - \\log \\oj_w,\n",
    "\\end{align}$\n",
    "\n",
    "where $\\fi_w$ is the frequency of word $w$ in group $i$. For rare words (which are most words), $r_w \\approx \\log \\fi_w - \\log \\fj_w$, but we'll compute $r_w$ exactly anyway."
   ]
  },
  {
   "cell_type": "code",
   "execution_count": 42,
   "metadata": {},
   "outputs": [],
   "source": [
    "# let's get the most recent monthly counts as a numpy array \n",
    "counts = df_agg.loc[df_agg['date']==df_agg['date'].unique().max()][['d_count','r_count']].to_numpy().T"
   ]
  },
  {
   "cell_type": "code",
   "execution_count": 43,
   "metadata": {},
   "outputs": [
    {
     "data": {
      "text/plain": [
       "array([[  0, 106,  40, ..., 295,   0,   0],\n",
       "       [  0,  97,  64, ..., 160,   2,   1]])"
      ]
     },
     "execution_count": 43,
     "metadata": {},
     "output_type": "execute_result"
    }
   ],
   "source": [
    "counts"
   ]
  },
  {
   "cell_type": "code",
   "execution_count": 45,
   "metadata": {},
   "outputs": [],
   "source": [
    "smoothing = 1e-2 # zero counts arise because the vocabulary includes words that were introduced at other times\n",
    "f = ((counts+smoothing).T / (V*smoothing + counts.sum(1))).T"
   ]
  },
  {
   "cell_type": "code",
   "execution_count": 46,
   "metadata": {},
   "outputs": [
    {
     "data": {
      "text/plain": [
       "array([1., 1.])"
      ]
     },
     "execution_count": 46,
     "metadata": {},
     "output_type": "execute_result"
    }
   ],
   "source": [
    "# make sure the frequencies sum to 1 for each group\n",
    "f.sum(1)"
   ]
  },
  {
   "cell_type": "code",
   "execution_count": 47,
   "metadata": {},
   "outputs": [],
   "source": [
    "log_odds_ratio = np.log(f[0,]/(1-f[0,])) - np.log(f[1,]/(1-f[1,]))"
   ]
  },
  {
   "cell_type": "code",
   "execution_count": 48,
   "metadata": {},
   "outputs": [
    {
     "data": {
      "image/png": "[encoded data removed]",
      "text/plain": [
       "<Figure size 432x288 with 1 Axes>"
      ]
     },
     "metadata": {
      "needs_background": "light"
     },
     "output_type": "display_data"
    }
   ],
   "source": [
    "plt.hist(log_odds_ratio,np.linspace(-3,3));"
   ]
  },
  {
   "cell_type": "markdown",
   "metadata": {},
   "source": [
    "As expected, the modal log odds ratio is $0$, corresponding to the case in which a word is equally likely in both groups.\n",
    "\n",
    "Now let's look at the top words for each group by this metric."
   ]
  },
  {
   "cell_type": "code",
   "execution_count": 49,
   "metadata": {},
   "outputs": [
    {
     "name": "stdout",
     "output_type": "stream",
     "text": [
      "R words: ['premiums', 'counties', 'option', 'alabama', 'premium', 'deductibles', 'heroin', 'arkansas', 'mandates', 'medal']\n",
      "D words: ['statehood', 'loan', 'alzheimers', 'maryland', 'columbia', 'lee', 'generic', 'laos', 'borrowers', 'stock']\n"
     ]
    }
   ],
   "source": [
    "print('R words:',[ivoc[i] for i in log_odds_ratio.argsort()[:10]])\n",
    "print('D words:',[ivoc[i] for i in log_odds_ratio.argsort()[::-1][:10]])"
   ]
  },
  {
   "cell_type": "markdown",
   "metadata": {},
   "source": [
    "While some of these terms make sense, many are quite rare. Indeed, rare words tend to dominate the unsmoothed log odds ratio. This can be shown by a clever figure design by Monroe, Colaresi, and Quinn (MCQ 2009), whose paper is discussed below."
   ]
  },
  {
   "cell_type": "code",
   "execution_count": 124,
   "metadata": {},
   "outputs": [],
   "source": [
    "def make_word_importance_figure(scores, counts, ivoc, num_keywords = 20):\n",
    "    fig = plt.figure(figsize=[12,7])\n",
    "    ax = plt.gca()\n",
    "    ax.plot(counts.sum(0), scores, '.', alpha=0.2, markeredgecolor='none', color='k')\n",
    "    ax.set_xscale('log')\n",
    "    plt.xlabel('count')\n",
    "    plt.ylabel('score');\n",
    "    for word_idx in scores.argsort()[:num_keywords]:\n",
    "        plt.text(counts.sum(0)[word_idx], scores[word_idx], ivoc[word_idx], color='r')\n",
    "    for word_idx in scores.argsort()[::-1][:num_keywords]:\n",
    "        plt.text(counts.sum(0)[word_idx], scores[word_idx], ivoc[word_idx], color='b')\n",
    "    \n",
    "    # ranked order on the side\n",
    "    all_words = [ivoc[idx] for idx in list(scores.argsort()[:num_keywords])]\\\n",
    "    + [' ']\\\n",
    "    + [ivoc[idx] for idx in list(scores.argsort()[::-1][:num_keywords][::-1])]\n",
    "\n",
    "    y_min, y_max = ax.get_ylim()\n",
    "    x_min, x_max = ax.get_xlim()\n",
    "    _,_, x_extent_in_pixels, y_extent_in_pixels = ax.bbox.bounds\n",
    "    y_vals_per_pixel = (y_max - y_min) / y_extent_in_pixels\n",
    "    x_vals_per_pixel = (x_max - x_min) / x_extent_in_pixels\n",
    "    \n",
    "    for word, y_loc in zip(all_words, np.linspace(y_min, y_max - y_vals_per_pixel * 12, len(all_words))):\n",
    "        ax.text(x_max + 24 * x_vals_per_pixel, y_loc, word)\n",
    "    \n",
    "    return ax"
   ]
  },
  {
   "cell_type": "code",
   "execution_count": 123,
   "metadata": {},
   "outputs": [
    {
     "data": {
      "image/png": "[encoded data removed]",
      "text/plain": [
       "<Figure size 864x504 with 1 Axes>"
      ]
     },
     "metadata": {
      "needs_background": "light"
     },
     "output_type": "display_data"
    }
   ],
   "source": [
    "ax = make_word_importance_figure(log_odds_ratio, counts, ivoc, num_keywords=10)\n",
    "\n",
    "ax.set_ylabel('log odds ratio');"
   ]
  },
  {
   "cell_type": "markdown",
   "metadata": {},
   "source": [
    "Indeed, most of the top words are among the most rare, and this is unlikely to be a useful signal for temporal analysis. An elegant smoothing technique is offered by Monroe et al 2009, in their paper 'Fightin\\' words'."
   ]
  },
  {
   "cell_type": "markdown",
   "metadata": {},
   "source": [
    "## Fightin words\n",
    "\n",
    "$\\newcommand{\\yi}{y^{(i)}}\n",
    "\\newcommand{\\yj}{y^{(j)}}\n",
    "\\newcommand{\\ai}{\\alpha^{(i)}}\n",
    "\\newcommand{\\aj}{\\alpha^{(j)}}\n",
    "\\newcommand{\\ni}{n^{(i)}}\n",
    "\\newcommand{\\nj}{n^{(j)}}\n",
    "$\n",
    "\n",
    "Political scientists Monroe, Colaresi, and Quinn (MCQ 2009) present a range of techniques for identifying polarized terms and overall polarization. Here are some results from [their 2009 APSR paper](https://pdfs.semanticscholar.org/4d6c/6a8b0dbdcf055e39141f56cba8fdc59774de.pdf).\n",
    "\n",
    "<!-- ![word polarization over time](figs/fightin-words-one-word.png =100x100) -->\n",
    "<table>\n",
    "<tr><td>\n",
    "<img src=\"figs/fightin-words-one-word.png\" style=\"width: 400px\">\n",
    "    </td>\n",
    "    <td>\n",
    "<img src=\"figs/fightin-words-overall.png\" style=\"width: 400px\">\n",
    "    </td>\n",
    "    </tr>\n",
    "</table>\n",
    "\n",
    "We will replicate these results using data from [Gentzkow et al](https://data.stanford.edu/congress_text)."
   ]
  },
  {
   "cell_type": "markdown",
   "metadata": {},
   "source": [
    "## Log-odds ratio as a random variable\n",
    "\n",
    "MCQ's method treats the log-odds ratio as a function of word frequency rates, which are themselves random variables.\n",
    "For each word $w$ and group $i$, we draw the frequency $\\fi$ from a Dirichlet prior. The counts are then drawn from a Multinomial with $\\fi$ as a parameter.\n",
    "\n",
    "\\begin{align}\n",
    "\\fi_w \\sim & \\text{Dirichlet}(\\ai_w)\\\\\n",
    "\\yi_w \\sim & \\text{Multinomial}(\\fi_w).\n",
    "\\end{align}\n",
    "\n",
    "### MAP estimate of the log-odds ratio\n",
    "The maximum a posteriori (MAP) estimate of $\\fi_w$  is $\\hat{\\fi}_w = \\frac{\\yi_w + \\ai_w}{\\sum_{j} \\yj_w + \\aj_w},$ with the prior $\\ai_w$ acting as smoothing.\n",
    "\n",
    "Plugging in the MAP estimate $\\hat{\\fi}_w$ into the log-odds ratio gives, \n",
    "\\begin{equation}\n",
    "\\hat{\\delta}^{(i-j)}_{w} = \\log \\frac{\\yi_{w} + \\ai_{w}}\n",
    "{\\ni + \\ai_{0} - (\\yi_{w} + \\ai_{w})}\n",
    "-\n",
    "\\log \\frac{\\yj_{w} + \\aj_{w}}{\\nj + \\aj_{0} - (\\yj_{w} + \\aj_{w})},\n",
    "\\end{equation}\n",
    "where $\\ni = \\sum_w \\yi_w$ and $\\ai_{t0} = \\sum_w \\ai_{tw}$.\n",
    "\n",
    "### Variance and Z-score\n",
    "It is also possible to estimate the variance of $\\hat{\\delta}^{(i-j)}$ and to compute a $Z$-score $\\zeta^{(i-j)}_w$: \n",
    "\n",
    "$\\begin{align}\n",
    "\\sigma^2(\\hat{\\delta}^{(i-j)}_{tw}) \\approx &{} \\frac{1}{\\yi_{tw} + \\ai_{tw}} + \\frac{1}{\\yj_{tw} + \\aj_{tw}}\\\\\n",
    "\\hat{\\zeta}^{(i-j)}_{tw} = &{} \\hat{\\delta}^{(i-j)}_{tw} / \\sqrt{\\sigma^2(\\hat{\\delta}^{(i-j)}_{tw})}\n",
    "\\end{align}$\n",
    "\n",
    "The $Z$-score is the number of standard deviations above or below the mean. Rare words will have high variance, and consequently will tend to have lower $Z$-scores.\n",
    "\n",
    "### Prior distribution\n",
    "While it is common to use an uninformative Dirichlet prior $\\alpha_w = \\alpha_0$, MCQ obtain best results using an **informative** Dirichlet prior,\n",
    "$\\begin{equation}\n",
    "\\ai_{w} = \\alpha_0 \\frac{y_{w}}{n},\n",
    "\\end{equation}$\n",
    "which is proportional to the overall frequency. They set $\\alpha_0 = 500$. \n",
    "\n",
    "### Results\n",
    "The figure on the above left plots the values of $\\hat{\\zeta}^{(i-j)}_{tw}$ over time, and the figure on the right plots its variance across the vocabulary at each point in time."
   ]
  },
  {
   "cell_type": "code",
   "execution_count": 125,
   "metadata": {},
   "outputs": [],
   "source": [
    "a0 = 500\n",
    "prior = np.array(a0 * X.sum(0) / X.sum())[0] + 1e-3 # again, small smoothing required for zero counts"
   ]
  },
  {
   "cell_type": "code",
   "execution_count": 126,
   "metadata": {},
   "outputs": [],
   "source": [
    "def get_log_odds_MAP(x_i, prior):\n",
    "    return np.log(x_i + prior) - np.log(x_i.sum() + prior.sum() - x_i - prior)"
   ]
  },
  {
   "cell_type": "code",
   "execution_count": 130,
   "metadata": {},
   "outputs": [],
   "source": [
    "lor = get_log_odds_MAP(counts[0,],prior) - get_log_odds_MAP(counts[1,],prior)\n",
    "var_lor = 1./(counts[0,] + prior) + 1./(counts[1,] + prior)\n",
    "z_lor = lor / np.sqrt(var_lor)"
   ]
  },
  {
   "cell_type": "code",
   "execution_count": 131,
   "metadata": {},
   "outputs": [
    {
     "data": {
      "text/plain": [
       "8.35952341154214"
      ]
     },
     "execution_count": 131,
     "metadata": {},
     "output_type": "execute_result"
    }
   ],
   "source": [
    "z_lor.max()"
   ]
  },
  {
   "cell_type": "markdown",
   "metadata": {},
   "source": [
    "Let's wrap these computations into a function:"
   ]
  },
  {
   "cell_type": "code",
   "execution_count": 132,
   "metadata": {},
   "outputs": [],
   "source": [
    "def get_lor_stats(counts, pseudo_counts = 500, minimum_prior = 1e-3):\n",
    "    G,W = counts.shape\n",
    "    \n",
    "    assert(G==2) # only works for two groups\n",
    "    \n",
    "    prior = np.array(pseudo_counts * counts.sum(0) / counts.sum())[0] + minimum_prior\n",
    "    lor = get_log_odds_MAP(counts[0,], prior) - get_log_odds_MAP(counts[1,],prior)\n",
    "    var_lor = 1./(counts[0,] + prior) + 1./(counts[1,] + prior)\n",
    "    z_lor = lor / np.sqrt(var_lor)\n",
    "\n",
    "    return z_lor, var_lor, lor"
   ]
  },
  {
   "cell_type": "code",
   "execution_count": 133,
   "metadata": {},
   "outputs": [],
   "source": [
    "z_lor, var_lor, lor = get_lor_stats(counts)"
   ]
  },
  {
   "cell_type": "markdown",
   "metadata": {},
   "source": [
    "Now let's make the figure again, this time using the z-scores $\\hat{\\zeta}$"
   ]
  },
  {
   "cell_type": "code",
   "execution_count": 136,
   "metadata": {},
   "outputs": [
    {
     "data": {
      "image/png": "[encoded data removed]",
      "text/plain": [
       "<Figure size 864x504 with 1 Axes>"
      ]
     },
     "metadata": {
      "needs_background": "light"
     },
     "output_type": "display_data"
    }
   ],
   "source": [
    "ax = make_word_importance_figure(z_lor, counts, ivoc, num_keywords=10)\n",
    "ax.set_ylabel('$\\hat{\\zeta}^{(D-R)}_{w}$');\n",
    "#ax.set_xlim(30,1e3);"
   ]
  },
  {
   "cell_type": "markdown",
   "metadata": {},
   "source": [
    "This looks better, although it now overemphasizes common words like \"his\" and \"bill\". Tuning the prior $\\alpha_0$ might help. MCQ get their best results by using a Laplace prior, which is equivalent to $L_1$ regularization of the log-odds ratio. However, this requires a more complex iterative estimation procedure, which does not easily scale to temporal analysis."
   ]
  },
  {
   "cell_type": "markdown",
   "metadata": {},
   "source": [
    "## Temporal analysis\n",
    "\n",
    "MCQ show that the term \"Iraq\" changes partisan valence over time. Let's see if we can replicate their conclusions.\n",
    "\n",
    "First we need to compute $\\zeta^{(d-r)}_{tw}$ for all times $t$ and words $w$."
   ]
  },
  {
   "cell_type": "code",
   "execution_count": 137,
   "metadata": {},
   "outputs": [
    {
     "data": {
      "application/vnd.jupyter.widget-view+json": {
       "model_id": "215994b59944474d91fa40eca9d1a573",
       "version_major": 2,
       "version_minor": 0
      },
      "text/plain": [
       "HBox(children=(IntProgress(value=0, max=407), HTML(value='')))"
      ]
     },
     "metadata": {},
     "output_type": "display_data"
    },
    {
     "name": "stdout",
     "output_type": "stream",
     "text": [
      "\n"
     ]
    }
   ],
   "source": [
    "dates = []\n",
    "words = []\n",
    "zetas = []\n",
    "for year_month in tqdm(sorted(df_agg['date'].unique())):\n",
    "    counts = df_agg.loc[df_agg['date']==year_month][['d_count','r_count']].to_numpy().T\n",
    "    z_lor, _, _ = get_lor_stats(counts)\n",
    "    for idx,word in ivoc.items():\n",
    "        #df_agg.loc[(df_agg['word']==word) & (df_agg['date']==year_month),'zeta'] = z_lor[idx]\n",
    "        dates.append(year_month)\n",
    "        words.append(word)\n",
    "        zetas.append(z_lor[idx])\n",
    "df_zeta = pd.DataFrame({'date':dates,'word':words,'zeta':zetas})"
   ]
  },
  {
   "cell_type": "code",
   "execution_count": 138,
   "metadata": {},
   "outputs": [],
   "source": [
    "# now let's merge that back into our original data frame \n",
    "df_merged = pd.merge(df_agg, df_zeta, on=['word','date'])"
   ]
  },
  {
   "cell_type": "code",
   "execution_count": 139,
   "metadata": {},
   "outputs": [
    {
     "data": {
      "text/html": [
       "<div>\n",
       "<style scoped>\n",
       "    .dataframe tbody tr th:only-of-type {\n",
       "        vertical-align: middle;\n",
       "    }\n",
       "\n",
       "    .dataframe tbody tr th {\n",
       "        vertical-align: top;\n",
       "    }\n",
       "\n",
       "    .dataframe thead th {\n",
       "        text-align: right;\n",
       "    }\n",
       "</style>\n",
       "<table border=\"1\" class=\"dataframe\">\n",
       "  <thead>\n",
       "    <tr style=\"text-align: right;\">\n",
       "      <th></th>\n",
       "      <th>date</th>\n",
       "      <th>word</th>\n",
       "      <th>d_count</th>\n",
       "      <th>r_count</th>\n",
       "      <th>zeta</th>\n",
       "    </tr>\n",
       "  </thead>\n",
       "  <tbody>\n",
       "    <tr>\n",
       "      <th>0</th>\n",
       "      <td>1981-01-01</td>\n",
       "      <td>00</td>\n",
       "      <td>57</td>\n",
       "      <td>5</td>\n",
       "      <td>4.553429</td>\n",
       "    </tr>\n",
       "    <tr>\n",
       "      <th>1</th>\n",
       "      <td>1981-01-01</td>\n",
       "      <td>000</td>\n",
       "      <td>229</td>\n",
       "      <td>139</td>\n",
       "      <td>1.751844</td>\n",
       "    </tr>\n",
       "    <tr>\n",
       "      <th>2</th>\n",
       "      <td>1981-01-01</td>\n",
       "      <td>10</td>\n",
       "      <td>116</td>\n",
       "      <td>119</td>\n",
       "      <td>-2.580214</td>\n",
       "    </tr>\n",
       "  </tbody>\n",
       "</table>\n",
       "</div>"
      ],
      "text/plain": [
       "        date word  d_count  r_count      zeta\n",
       "0 1981-01-01   00       57        5  4.553429\n",
       "1 1981-01-01  000      229      139  1.751844\n",
       "2 1981-01-01   10      116      119 -2.580214"
      ]
     },
     "execution_count": 139,
     "metadata": {},
     "output_type": "execute_result"
    }
   ],
   "source": [
    "df_merged.head(3)"
   ]
  },
  {
   "cell_type": "code",
   "execution_count": 143,
   "metadata": {},
   "outputs": [
    {
     "data": {
      "image/png": "[encoded data removed]",
      "text/plain": [
       "<Figure size 432x288 with 1 Axes>"
      ]
     },
     "metadata": {
      "needs_background": "light"
     },
     "output_type": "display_data"
    }
   ],
   "source": [
    "sns.lineplot(x='date',y='zeta',data = df_merged.loc[df_merged['word']=='iraq']);"
   ]
  },
  {
   "cell_type": "markdown",
   "metadata": {},
   "source": [
    "This matches the overall trend identified by MCQ, but their line was much smoother. They achieved this by applying an **exponentially weighted moving average** smoother to the word counts, before computing $\\zeta$. Specifically, they first compute a 180-day moving average,\n",
    "\n",
    "$\\begin{equation}\n",
    "m_{t,w} = \\frac{1}{B} \\sum_{b=0}^{B-1} x_{t-b,w},\n",
    "\\end{equation}$\n",
    "where $B = 180$ days.\n",
    "\n",
    "They then compute an exponentially weighted filter over these moving averages,\n",
    "\n",
    "$\\begin{equation}\n",
    "\\hat{x}_{t,w} = \\alpha x_{t,w} + (1 - \\alpha) \\hat{x}_{t-1,w}.\n",
    "\\end{equation}$"
   ]
  },
  {
   "cell_type": "code",
   "execution_count": 162,
   "metadata": {},
   "outputs": [
    {
     "data": {
      "image/png": "[encoded data removed]",
      "text/plain": [
       "<Figure size 432x288 with 1 Axes>"
      ]
     },
     "metadata": {
      "needs_background": "light"
     },
     "output_type": "display_data"
    }
   ],
   "source": [
    "# original counts\n",
    "s = df_merged.loc[df_merged['word']=='iraq','r_count']\n",
    "sns.lineplot(y=s, x=df_merged.loc[df_merged['word']=='iraq','date'], alpha=0.3)\n",
    "\n",
    "# 6-month moving average\n",
    "m = s.rolling(6).mean() # rolling average over six month window\n",
    "sns.lineplot(y=m, x=df_merged.loc[df_merged['word']=='iraq','date'])\n",
    "\n",
    "plt.title('moving average');"
   ]
  },
  {
   "cell_type": "code",
   "execution_count": 163,
   "metadata": {},
   "outputs": [],
   "source": [
    "# MCQ specify that $\\alpha = 0.01$, but that's per day. \n",
    "# We have to convert to per-month, while preserving the same \"half-life.\"\n",
    "alpha_per_day = 0.01\n",
    "alpha_per_month = 1 - np.exp(np.log(1 - alpha_per_day) * 30)"
   ]
  },
  {
   "cell_type": "code",
   "execution_count": 164,
   "metadata": {},
   "outputs": [
    {
     "name": "stdout",
     "output_type": "stream",
     "text": [
      "alpha per month = 0.260\n",
      "decay after six months = 0.1638079697080874\n",
      "decay after 180 days   = 0.16380796970808742\n"
     ]
    }
   ],
   "source": [
    "print(f'alpha per month = {alpha_per_month:.3f}')\n",
    "print(f'decay after six months = {(1-alpha_per_month)**6}')\n",
    "print(f'decay after 180 days   = {(1-alpha_per_day)**180}')"
   ]
  },
  {
   "cell_type": "code",
   "execution_count": 166,
   "metadata": {},
   "outputs": [
    {
     "data": {
      "image/png": "[encoded data removed]",
      "text/plain": [
       "<Figure size 432x288 with 1 Axes>"
      ]
     },
     "metadata": {
      "needs_background": "light"
     },
     "output_type": "display_data"
    }
   ],
   "source": [
    "# original counts\n",
    "s = df_merged.loc[df_merged['word']=='iraq','r_count']\n",
    "x_series = df_merged.loc[df_merged['word']=='iraq','date']\n",
    "ax = sns.lineplot(y=s, x=x_series, alpha=0.3,color='k')\n",
    "\n",
    "# 6-month moving average\n",
    "m = s.rolling(6).mean() # rolling average over six month window\n",
    "#ax = m.plot(linewidth=3,alpha=0.6);\n",
    "ax = sns.lineplot(y=m, x=x_series,linewidth=3, alpha=0.6)\n",
    "\n",
    "m_ewm = m.ewm(alpha=alpha_per_month).mean()\n",
    "ax = sns.lineplot(y=m_ewm, x=x_series,alpha=0.8)\n",
    "\n",
    "#m.ewm(alpha=alpha_per_month).mean().plot(alpha=0.8)\n",
    "\n",
    "ax.set_title('Republican counts of \\'iraq\\'')\n",
    "\n",
    "ax.legend(['original','moving average','exponential decay']);"
   ]
  },
  {
   "cell_type": "markdown",
   "metadata": {},
   "source": [
    "Now we'll apply this filter to all counts in the data. This takes roughly 20-30 minutes on my laptop, so you can just load in the counts."
   ]
  },
  {
   "cell_type": "code",
   "execution_count": 173,
   "metadata": {},
   "outputs": [],
   "source": [
    "if recomputing_all_data_files:\n",
    "    words = []\n",
    "    dates = []\n",
    "    filtered_counts = {'d_count':[],\n",
    "                       'r_count':[]}\n",
    "    for word in tqdm(df_agg['word'].unique()):\n",
    "        df_word = df_merged.loc[df_merged['word']==word]\n",
    "        words.extend(df_word['word'])\n",
    "        dates.extend(df_word['date'])\n",
    "        for count_group in ['d_count','r_count']:\n",
    "            s = df_word[count_group]\n",
    "            filtered = s.rolling(6).mean().ewm(alpha=alpha_per_month).mean()\n",
    "            filtered_counts[count_group].extend(filtered)\n",
    "    df_filtered = pd.DataFrame({'d_count':filtered_counts['d_count'],\n",
    "                                'r_count':filtered_counts['r_count'],\n",
    "                                'word':words,\n",
    "                                'date':dates}).dropna()\n",
    "    df_filtered.to_csv('aggregate-counts-smoothed.csv')\n",
    "else:\n",
    "    df_filtered = pd.read_csv(os.path.join(basedir,'aggregate-counts-smoothed.csv'), \n",
    "                              parse_dates=['date'],\n",
    "                              usecols=['d_count','r_count','word','date'])"
   ]
  },
  {
   "cell_type": "code",
   "execution_count": 174,
   "metadata": {},
   "outputs": [
    {
     "data": {
      "text/html": [
       "<div>\n",
       "<style scoped>\n",
       "    .dataframe tbody tr th:only-of-type {\n",
       "        vertical-align: middle;\n",
       "    }\n",
       "\n",
       "    .dataframe tbody tr th {\n",
       "        vertical-align: top;\n",
       "    }\n",
       "\n",
       "    .dataframe thead th {\n",
       "        text-align: right;\n",
       "    }\n",
       "</style>\n",
       "<table border=\"1\" class=\"dataframe\">\n",
       "  <thead>\n",
       "    <tr style=\"text-align: right;\">\n",
       "      <th></th>\n",
       "      <th>d_count</th>\n",
       "      <th>r_count</th>\n",
       "      <th>word</th>\n",
       "      <th>date</th>\n",
       "    </tr>\n",
       "  </thead>\n",
       "  <tbody>\n",
       "    <tr>\n",
       "      <th>0</th>\n",
       "      <td>17.166667</td>\n",
       "      <td>13.333333</td>\n",
       "      <td>00</td>\n",
       "      <td>1981-06-01</td>\n",
       "    </tr>\n",
       "    <tr>\n",
       "      <th>1</th>\n",
       "      <td>12.759778</td>\n",
       "      <td>16.207391</td>\n",
       "      <td>00</td>\n",
       "      <td>1981-07-01</td>\n",
       "    </tr>\n",
       "    <tr>\n",
       "      <th>2</th>\n",
       "      <td>10.532655</td>\n",
       "      <td>15.970943</td>\n",
       "      <td>00</td>\n",
       "      <td>1981-08-01</td>\n",
       "    </tr>\n",
       "  </tbody>\n",
       "</table>\n",
       "</div>"
      ],
      "text/plain": [
       "     d_count    r_count word       date\n",
       "0  17.166667  13.333333   00 1981-06-01\n",
       "1  12.759778  16.207391   00 1981-07-01\n",
       "2  10.532655  15.970943   00 1981-08-01"
      ]
     },
     "execution_count": 174,
     "metadata": {},
     "output_type": "execute_result"
    }
   ],
   "source": [
    "df_filtered.head(3)"
   ]
  },
  {
   "cell_type": "markdown",
   "metadata": {},
   "source": [
    "### Zeta from smoothed counts\n",
    "\n",
    "Now we will apply the same log-odds ratio computation from above, but use smoothed counts.\n",
    "\n",
    "For speed I have pre-computed all the smoothing."
   ]
  },
  {
   "cell_type": "code",
   "execution_count": 178,
   "metadata": {},
   "outputs": [],
   "source": [
    "if recomputing_all_data_files:\n",
    "    # takes roughly 1 minute on my laptop\n",
    "    dates = []\n",
    "    words = []\n",
    "    zetas = []\n",
    "    for year_month in tqdm(sorted(df_filtered['date'].unique())):\n",
    "        counts = df_filtered.loc[df_filtered['date']==year_month][['d_count','r_count']].to_numpy().T\n",
    "        z_lor, _, _ = get_lor_stats(counts)\n",
    "        for idx,word in ivoc.items():\n",
    "            #df_agg.loc[(df_agg['word']==word) & (df_agg['date']==year_month),'zeta'] = z_lor[idx]\n",
    "            dates.append(year_month)\n",
    "            words.append(word)\n",
    "            zetas.append(z_lor[idx])\n",
    "    df_zeta_filt = pd.DataFrame({'date':dates,'word':words,'zeta':zetas})\n",
    "    df_zeta_filt.to_csv('zeta-filtered.csv')\n",
    "else:\n",
    "    df_zeta_filt = pd.read_csv(os.path.join(basedir,'zeta-filtered.csv'), \n",
    "                               parse_dates=['date'],\n",
    "                               usecols=['zeta','word','date'])"
   ]
  },
  {
   "cell_type": "code",
   "execution_count": 282,
   "metadata": {},
   "outputs": [
    {
     "data": {
      "text/html": [
       "<div>\n",
       "<style scoped>\n",
       "    .dataframe tbody tr th:only-of-type {\n",
       "        vertical-align: middle;\n",
       "    }\n",
       "\n",
       "    .dataframe tbody tr th {\n",
       "        vertical-align: top;\n",
       "    }\n",
       "\n",
       "    .dataframe thead th {\n",
       "        text-align: right;\n",
       "    }\n",
       "</style>\n",
       "<table border=\"1\" class=\"dataframe\">\n",
       "  <thead>\n",
       "    <tr style=\"text-align: right;\">\n",
       "      <th></th>\n",
       "      <th>date</th>\n",
       "      <th>word</th>\n",
       "      <th>zeta</th>\n",
       "    </tr>\n",
       "  </thead>\n",
       "  <tbody>\n",
       "    <tr>\n",
       "      <th>0</th>\n",
       "      <td>1981-06-01</td>\n",
       "      <td>mr</td>\n",
       "      <td>-1.053863</td>\n",
       "    </tr>\n",
       "    <tr>\n",
       "      <th>1</th>\n",
       "      <td>1981-06-01</td>\n",
       "      <td>president</td>\n",
       "      <td>-3.574481</td>\n",
       "    </tr>\n",
       "    <tr>\n",
       "      <th>2</th>\n",
       "      <td>1981-06-01</td>\n",
       "      <td>am</td>\n",
       "      <td>-1.268734</td>\n",
       "    </tr>\n",
       "  </tbody>\n",
       "</table>\n",
       "</div>"
      ],
      "text/plain": [
       "        date       word      zeta\n",
       "0 1981-06-01         mr -1.053863\n",
       "1 1981-06-01  president -3.574481\n",
       "2 1981-06-01         am -1.268734"
      ]
     },
     "execution_count": 282,
     "metadata": {},
     "output_type": "execute_result"
    }
   ],
   "source": [
    "df_zeta_filt.head(3)"
   ]
  },
  {
   "cell_type": "code",
   "execution_count": 180,
   "metadata": {},
   "outputs": [
    {
     "data": {
      "image/png": "[encoded data removed]",
      "text/plain": [
       "<Figure size 432x288 with 1 Axes>"
      ]
     },
     "metadata": {
      "needs_background": "light"
     },
     "output_type": "display_data"
    }
   ],
   "source": [
    "ax = sns.lineplot(x='date',y='zeta',data = df_zeta_filt.loc[df_zeta_filt['word']=='iraq'])\n",
    "ax.set_title('iraq');"
   ]
  },
  {
   "cell_type": "markdown",
   "metadata": {},
   "source": [
    "This looks pretty good! (Compare with the figure above from the paper.) Let's try a few others."
   ]
  },
  {
   "cell_type": "code",
   "execution_count": 181,
   "metadata": {},
   "outputs": [
    {
     "data": {
      "image/png": "[encoded data removed]",
      "text/plain": [
       "<Figure size 1008x216 with 3 Axes>"
      ]
     },
     "metadata": {
      "needs_background": "light"
     },
     "output_type": "display_data"
    }
   ],
   "source": [
    "_, axes = plt.subplots(1,3,sharey=True,figsize=[14,3])\n",
    "words = ['women','debt','spending']\n",
    "\n",
    "for word, ax in zip(words, axes):\n",
    "    sns.lineplot(x='date',y='zeta',data= df_zeta_filt.loc[df_zeta_filt['word']==word], ax = ax, color='r')\n",
    "    ax.set_title(word)\n",
    "    # beginning of Clinton (D) presidency\n",
    "    ax.axvline(datetime(year=1993,month=1,day=1),linestyle='--',color='k',alpha=0.5)\n",
    "    # beginning of Bush II (R)\n",
    "    ax.axvline(datetime(year=2001,month=1,day=1),linestyle='--',color='k',alpha=0.5)\n",
    "    # beginning of Obama (D)\n",
    "    ax.axvline(datetime(year=2009,month=1,day=1),linestyle='--',color='k',alpha=0.5)\n",
    "\n",
    "    ax.axhline(0,color='b',linestyle='-', alpha=0.3)\n",
    "    \n",
    "    # makes it easier to read\n",
    "    ax.set_xticks(ax.get_xticks()[::2])"
   ]
  },
  {
   "cell_type": "markdown",
   "metadata": {},
   "source": [
    "- The term \"women\" is generally associated with democrats, especially after 2000. \n",
    "- \"spending\" is generally associated with republicans, especially during the early part of the Obama presidency (2009)\n",
    "- The term \"debt\" is preferred by out-of-power parties: the Democrats in 2001-2008, and the Republicans in 1993-2000 and 2009-2016."
   ]
  },
  {
   "cell_type": "markdown",
   "metadata": {},
   "source": [
    "## Aggregate partisanship\n",
    "\n",
    "MCQ measure overall partisanship at time $t$ by the variance of $\\zeta_{tw}$ across words $w$. \n",
    "\n",
    "This is easy to compute in Pandas, using the `groupby` command:"
   ]
  },
  {
   "cell_type": "code",
   "execution_count": 182,
   "metadata": {},
   "outputs": [],
   "source": [
    "var_zeta = df_zeta_filt.groupby(['date']).var()['zeta']"
   ]
  },
  {
   "cell_type": "code",
   "execution_count": 183,
   "metadata": {},
   "outputs": [
    {
     "data": {
      "text/plain": [
       "date\n",
       "1981-06-01    0.681973\n",
       "1981-07-01    0.698495\n",
       "1981-08-01    0.699963\n",
       "Name: zeta, dtype: float64"
      ]
     },
     "execution_count": 183,
     "metadata": {},
     "output_type": "execute_result"
    }
   ],
   "source": [
    "var_zeta.head(3)"
   ]
  },
  {
   "cell_type": "code",
   "execution_count": 184,
   "metadata": {},
   "outputs": [
    {
     "data": {
      "image/png": "[encoded data removed]",
      "text/plain": [
       "<Figure size 432x288 with 1 Axes>"
      ]
     },
     "metadata": {
      "needs_background": "light"
     },
     "output_type": "display_data"
    }
   ],
   "source": [
    "ax = plt.subplot()\n",
    "\n",
    "var_zeta.plot(ax = ax)\n",
    "# beginning of Clinton (D) presidency\n",
    "ax.axvline(datetime(year=1993,month=1,day=1),linestyle='--',color='k',alpha=0.5)\n",
    "\n",
    "# beginning of Bush II (R)\n",
    "ax.axvline(datetime(year=2001,month=1,day=1),linestyle='--',color='k',alpha=0.5)\n",
    "\n",
    "# beginning of Obama (D)\n",
    "ax.axvline(datetime(year=2009,month=1,day=1),linestyle='--',color='k',alpha=0.5)\n",
    "\n",
    "ax.set_ylabel('$V[\\hat{\\zeta}^{(d-r)}]$');"
   ]
  },
  {
   "cell_type": "markdown",
   "metadata": {},
   "source": [
    "While MCQ don't plot aggregate partisanship, this analysis is consistent with an increase, particulary in the period at the end of Bush's second term and the beginning of Obama's first term (2007-2011). This coincided with the global financial crisis and associated stimulus and recovery programs, as well as the passage of the Affordable Care Act (\"Obamacare\")."
   ]
  },
  {
   "cell_type": "markdown",
   "metadata": {},
   "source": [
    "# Some simple baselines\n",
    "\n",
    "We can compute several baselines from the (smoothed) frequencies $\\fi_w$. One approach is to take norms of the difference between the frequency distributions:\n",
    "\n",
    "\\begin{align}\n",
    "L_1 = &{} \\sum_w |\\fi_w - \\fj_w|\\\\\n",
    "L_2 = &{} \\sqrt{\\sum_w (\\fi_w - \\fj_w)^2}.\n",
    "\\end{align}\n",
    "\n",
    "A slightly more complex baseline is the Jensen-Shannon (JS) divergence, which in turn is based on the Kullback-Leibler (KL) divergence:\n",
    "\n",
    "\\begin{align}\n",
    "D_{KL}(p, q) = &{} \\sum_t p_t \\log \\frac{p_t}{q_t}\\\\\n",
    "JS(\\fi, \\fj) = &{} \\frac{1}{2} D_{KL}(\\fi, \\overline{f}) + \\frac{1}{2} D_{KL}(\\fj, \\overline{f}),\\\\\n",
    "\\overline{f} = &{} \\frac{1}{2}(\\fi + \\fj).\n",
    "\\end{align}\n",
    "\n",
    "The JS divergence is closely related to the log-odds ratio, but does not make use of a prior on the word frequencies."
   ]
  },
  {
   "cell_type": "code",
   "execution_count": 269,
   "metadata": {},
   "outputs": [],
   "source": [
    "# distance metrics\n",
    "l2_norm = lambda t1, t2: np.sqrt(((t1 - t2)**2).sum())\n",
    "l1_norm = lambda t1, t2: np.abs(t1-t2).sum()\n",
    "kl_div = lambda t1, t2: t1.dot(np.log(t1) - np.log(t2))\n",
    "js_div = lambda t1, t2: .5 * (kl_div(t1, .5 * (t1 + t2)) + kl_div(t2, .5 * (t1 + t2)))"
   ]
  },
  {
   "cell_type": "code",
   "execution_count": 274,
   "metadata": {},
   "outputs": [],
   "source": [
    "smoother = .5 # simple Laplace smoothing\n",
    "\n",
    "def counts_to_probs(counts):\n",
    "    assert(len(counts.shape)==1)\n",
    "    \n",
    "    probs = counts + smoother\n",
    "    return probs / probs.sum()\n",
    "\n",
    "def compute_dists(distance, df):\n",
    "    dates = []\n",
    "    dists = []\n",
    "    for date,local_stats in df.groupby('date'):\n",
    "        d_vec = counts_to_probs(local_stats['d_count'].to_numpy())\n",
    "        r_vec = counts_to_probs(local_stats['r_count'].to_numpy())\n",
    "        \n",
    "        dists.append(distance(d_vec, r_vec))\n",
    "        dates.append(date)\n",
    "    \n",
    "    df_out = pd.DataFrame({'date':dates, 'distance': dists})\n",
    "\n",
    "    # apply exponentially weighted smoothing to the output\n",
    "    df_out['dist_smoothed'] = df_out['distance'].rolling(6).mean().ewm(alpha=alpha_per_month).mean()\n",
    "    return df_out"
   ]
  },
  {
   "cell_type": "code",
   "execution_count": 273,
   "metadata": {},
   "outputs": [
    {
     "data": {
      "image/png": "[encoded data removed]",
      "text/plain": [
       "<Figure size 1080x216 with 3 Axes>"
      ]
     },
     "metadata": {
      "needs_background": "light"
     },
     "output_type": "display_data"
    }
   ],
   "source": [
    "_,axes = plt.subplots(1,3,figsize=[15,3])\n",
    "\n",
    "for ax, dist, title in zip(axes, \n",
    "                           [l1_norm, l2_norm, js_div], \n",
    "                           ['$L_1$ norm', '$L_2$ norm', 'Jensen-Shannon divergence']):\n",
    "    df_dist = compute_dists(dist, df_agg)\n",
    "    sns.lineplot(x='date',y='distance',data=df_dist,ax=ax, alpha =0.3);\n",
    "    sns.lineplot(x='date',y='dist_smoothed',data=df_dist,ax=ax);\n",
    "    ax.set_title(title)\n",
    "    # beginning of Clinton (D) presidency\n",
    "    ax.axvline(datetime(year=1993,month=1,day=1),linestyle='--',color='k',alpha=0.5)\n",
    "\n",
    "    # beginning of Bush II (R)\n",
    "    ax.axvline(datetime(year=2001,month=1,day=1),linestyle='--',color='k',alpha=0.5)\n",
    "\n",
    "    # beginning of Obama (D)\n",
    "    ax.axvline(datetime(year=2009,month=1,day=1),linestyle='--',color='k',alpha=0.5)\n",
    "\n",
    "    ax.set_ylabel('');"
   ]
  },
  {
   "cell_type": "markdown",
   "metadata": {},
   "source": [
    "To be fair, these figures might look better if the methods were applied to the temporally-smoothed counts rather than using simple Laplace smoothing. Nonetheless, the $L_1$ norm and Jensen-Shannon divergence also suggest an increase in partisanship in the beginning of Obama's first term."
   ]
  },
  {
   "cell_type": "markdown",
   "metadata": {},
   "source": [
    "# Extensions\n",
    "\n",
    "- MCQ argue that an informative Dirichlet prior gives better estimates of the log-odds ratio than the symmetric prior that is typically used, e.g., in topic modeling work. Recompute the results above using a symmetric prior and see if they are significantly changed.\n",
    "- Examine the impact of temporal smoothing on the overall partisanship trends. Do other smoothers give different results?\n",
    "- The aggregate partisanship figure in the previous section seems to have some \"high frequency\" component that varies throughout the year. Try to identify and explain this component.\n",
    "- Use multiple regression to test the impact of exogeneous political factors such as the timing of elections and split party control of the legislature and presidency."
   ]
  }
 ],
 "metadata": {
  "kernelspec": {
   "display_name": "Python 3",
   "language": "python",
   "name": "python3"
  },
  "language_info": {
   "codemirror_mode": {
    "name": "ipython",
    "version": 3
   },
   "file_extension": ".py",
   "mimetype": "text/x-python",
   "name": "python",
   "nbconvert_exporter": "python",
   "pygments_lexer": "ipython3",
   "version": "3.7.3"
  }
 },
 "nbformat": 4,
 "nbformat_minor": 2
}
